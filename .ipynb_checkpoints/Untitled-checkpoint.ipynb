{
 "cells": [
  {
   "cell_type": "code",
   "execution_count": 1,
   "metadata": {},
   "outputs": [
    {
     "name": "stdout",
     "output_type": "stream",
     "text": [
      "+, -, *, /, %, stop\n",
      "연산자를 입력해주세요: stop\n",
      "첫번째 숫자를 입력해주세요: 1\n",
      "두번째 숫자를 입력해주세요: 3\n",
      "멈출께유\n"
     ]
    }
   ],
   "source": [
    "while True:\n",
    "    # command: 명령어\n",
    "    print(\"+, -, *, /, %, stop\")\n",
    "    command = input(\"연산자를 입력해주세요: \")\n",
    "        \n",
    "    if (command == \"stop\"):\n",
    "        print(\"멈출께유\")\n",
    "        break\n",
    "    \n",
    "    first_num = int(input(\"첫번째 숫자를 입력해주세요: \"))\n",
    "    second_num = int(input(\"두번째 숫자를 입력해주세요: \"))\n",
    "\n",
    "    if (command == \"+\"):\n",
    "        print(f\"{first_num} + {second_num} = {first_num + second_num}\")\n",
    "    elif (command == \"-\"):\n",
    "        print(f\"{first_num} - {second_num} = {first_num - second_num}\")\n",
    "    elif (command == \"*\"):\n",
    "        print(f\"{first_num} * {second_num} = {first_num * second_num}\")\n",
    "    elif (command == \"/\"):\n",
    "        print(f\"{first_num} / {second_num} = {first_num / second_num}\")\n",
    "    elif (command == \"%\"):\n",
    "        print(f\"{first_num} % {second_num} = {first_num % second_num}\")\n",
    "    else:\n",
    "        print(\"븅신아 똑바로 입력해: +, -, *, /, % 중에 아니면 종휘된다\")"
   ]
  },
  {
   "cell_type": "code",
   "execution_count": null,
   "metadata": {},
   "outputs": [],
   "source": []
  },
  {
   "cell_type": "code",
   "execution_count": null,
   "metadata": {},
   "outputs": [],
   "source": []
  }
 ],
 "metadata": {
  "kernelspec": {
   "display_name": "Python 3",
   "language": "python",
   "name": "python3"
  },
  "language_info": {
   "codemirror_mode": {
    "name": "ipython",
    "version": 3
   },
   "file_extension": ".py",
   "mimetype": "text/x-python",
   "name": "python",
   "nbconvert_exporter": "python",
   "pygments_lexer": "ipython3",
   "version": "3.8.5"
  }
 },
 "nbformat": 4,
 "nbformat_minor": 4
}
