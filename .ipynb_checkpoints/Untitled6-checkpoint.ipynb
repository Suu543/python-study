{
 "cells": [
  {
   "cell_type": "code",
   "execution_count": 15,
   "metadata": {},
   "outputs": [
    {
     "name": "stdout",
     "output_type": "stream",
     "text": [
      "<class 'list'>\n"
     ]
    }
   ],
   "source": [
    "a = []\n",
    "print(type(a))"
   ]
  },
  {
   "cell_type": "code",
   "execution_count": 16,
   "metadata": {},
   "outputs": [
    {
     "name": "stdout",
     "output_type": "stream",
     "text": [
      "<class 'dict'>\n"
     ]
    }
   ],
   "source": [
    "a = { \"key\": \"value\"}\n",
    "print(type(a))"
   ]
  },
  {
   "cell_type": "code",
   "execution_count": 17,
   "metadata": {},
   "outputs": [
    {
     "data": {
      "text/plain": [
       "dict_items([('key', 'value')])"
      ]
     },
     "execution_count": 17,
     "metadata": {},
     "output_type": "execute_result"
    }
   ],
   "source": [
    "a.items()"
   ]
  },
  {
   "cell_type": "code",
   "execution_count": 18,
   "metadata": {},
   "outputs": [
    {
     "data": {
      "text/plain": [
       "2"
      ]
     },
     "execution_count": 18,
     "metadata": {},
     "output_type": "execute_result"
    }
   ],
   "source": [
    "# function --> method\n",
    "# 인자 - arguments or parameters\n",
    "a = [1, 1, 2, 2, 3, 5, 6]\n",
    "a.count(1)"
   ]
  },
  {
   "cell_type": "code",
   "execution_count": 20,
   "metadata": {},
   "outputs": [
    {
     "name": "stdout",
     "output_type": "stream",
     "text": [
      "Help on built-in function pop:\n",
      "\n",
      "pop(index=-1, /) method of builtins.list instance\n",
      "    Remove and return item at index (default last).\n",
      "    \n",
      "    Raises IndexError if list is empty or index is out of range.\n",
      "\n",
      "Help on built-in function append:\n",
      "\n",
      "append(object, /) method of builtins.list instance\n",
      "    Append object to the end of the list.\n",
      "\n"
     ]
    }
   ],
   "source": [
    "a = []\n",
    "help(a.pop)\n",
    "help(a.append)"
   ]
  },
  {
   "cell_type": "markdown",
   "metadata": {},
   "source": [
    "1. def keyword\n",
    "2. simple example of a function\n",
    "3. calling a function with ()\n",
    "4. print vs return\n",
    "5. adding logic\n",
    "6. muliple returns\n",
    "7. unpacking\n",
    "8. interactions with function"
   ]
  },
  {
   "cell_type": "code",
   "execution_count": 21,
   "metadata": {},
   "outputs": [
    {
     "ename": "SyntaxError",
     "evalue": "invalid syntax (<ipython-input-21-adb102c4dca8>, line 1)",
     "output_type": "error",
     "traceback": [
      "\u001b[1;36m  File \u001b[1;32m\"<ipython-input-21-adb102c4dca8>\"\u001b[1;36m, line \u001b[1;32m1\u001b[0m\n\u001b[1;33m    1. 별도의 값을 필요로 하지 않고 항상 동일한 결과를 출력하는 함수 (pop)\u001b[0m\n\u001b[1;37m       ^\u001b[0m\n\u001b[1;31mSyntaxError\u001b[0m\u001b[1;31m:\u001b[0m invalid syntax\n"
     ]
    }
   ],
   "source": [
    "1. 별도의 값을 필요로 하지 않고 항상 동일한 결과를 출력하는 함수 (pop)\n",
    "2. 별도의 값을 필요로 하고 수식은 같지만, 받은 인자값에 따라 다른 결과를 출력한다(append)\n"
   ]
  },
  {
   "cell_type": "code",
   "execution_count": 22,
   "metadata": {},
   "outputs": [],
   "source": [
    "def add(a, b):\n",
    "    return a + b"
   ]
  },
  {
   "cell_type": "code",
   "execution_count": 23,
   "metadata": {},
   "outputs": [
    {
     "data": {
      "text/plain": [
       "6"
      ]
     },
     "execution_count": 23,
     "metadata": {},
     "output_type": "execute_result"
    }
   ],
   "source": [
    "print vs return\n",
    "print는 직접적으로 값을 출력한다\n",
    "\n",
    "return\n",
    "1. 함수를 종료하는 시점을 명시하는거 (나는 지금 함수를 종료해요)\n",
    "2. 리턴값은 함수를 종료하면서 어떤 값을 도출했는지 전달하는 역할"
   ]
  },
  {
   "cell_type": "code",
   "execution_count": 24,
   "metadata": {},
   "outputs": [
    {
     "name": "stdout",
     "output_type": "stream",
     "text": [
      "6\n"
     ]
    }
   ],
   "source": [
    "result = add(1, 5)\n",
    "print(result)"
   ]
  },
  {
   "cell_type": "code",
   "execution_count": 25,
   "metadata": {},
   "outputs": [
    {
     "name": "stdout",
     "output_type": "stream",
     "text": [
      "1 + 2 = hello입니다.\n"
     ]
    }
   ],
   "source": [
    "# greetingWithName(1, 2, \"heelo\")\n",
    "def greetingWithName(a, b, name):\n",
    "    return f\"{a} + {b} = {name}입니다.\"\n",
    "\n",
    "result = greetingWithName(1, 2, \"hello\")\n",
    "print(result)"
   ]
  },
  {
   "cell_type": "code",
   "execution_count": 27,
   "metadata": {},
   "outputs": [
    {
     "ename": "SyntaxError",
     "evalue": "invalid syntax (<ipython-input-27-2b50d7a87804>, line 1)",
     "output_type": "error",
     "traceback": [
      "\u001b[1;36m  File \u001b[1;32m\"<ipython-input-27-2b50d7a87804>\"\u001b[1;36m, line \u001b[1;32m1\u001b[0m\n\u001b[1;33m    1. multiplication_table(stage)\u001b[0m\n\u001b[1;37m       ^\u001b[0m\n\u001b[1;31mSyntaxError\u001b[0m\u001b[1;31m:\u001b[0m invalid syntax\n"
     ]
    }
   ],
   "source": [
    "1. multiplication_table(stage)\n",
    "multiplication_table(4)\n",
    "\n",
    "while True:\n",
    "    1. stage라는 변수에 계산하고 싶은 단을 입력받기 (0 이면 시스템 종료)\n",
    "    \n",
    "    2. 0임을 체크하는 조건문을 추가해주기\n",
    "    \n",
    "4 * 1 = 4\n",
    "4 * 2 = 8\n",
    "4 * 3 = 12\n",
    "4 * 4 = 16\n",
    "4 * 5 = 20\n",
    "4 * 6 = 24\n",
    "4 * 7 = 28\n",
    "4 * 8 = 32\n",
    "4 * 9 = 36\n",
    "\n",
    "계산하고 싶은 단을 입력해주세요 - 멈추고 싶으면 0 입력:"
   ]
  },
  {
   "cell_type": "code",
   "execution_count": 28,
   "metadata": {},
   "outputs": [],
   "source": [
    "def multiplicationTable(num):\n",
    "    for i in range(1, 10):\n",
    "        print(f\"{num} * {i} = {num * i }\")\n",
    "    return"
   ]
  },
  {
   "cell_type": "code",
   "execution_count": 29,
   "metadata": {},
   "outputs": [
    {
     "name": "stdout",
     "output_type": "stream",
     "text": [
      "1 * 1 = 1\n",
      "1 * 2 = 2\n",
      "1 * 3 = 3\n",
      "1 * 4 = 4\n",
      "1 * 5 = 5\n",
      "1 * 6 = 6\n",
      "1 * 7 = 7\n",
      "1 * 8 = 8\n",
      "1 * 9 = 9\n"
     ]
    }
   ],
   "source": [
    "multiplicationTable(1)"
   ]
  },
  {
   "cell_type": "code",
   "execution_count": 30,
   "metadata": {},
   "outputs": [
    {
     "name": "stdout",
     "output_type": "stream",
     "text": [
      "계산하고 싶은 단을 입력해주세요 - 멈추고 싶으면 0 입력: 1\n",
      "1 * 1 = 1\n",
      "1 * 2 = 2\n",
      "1 * 3 = 3\n",
      "1 * 4 = 4\n",
      "1 * 5 = 5\n",
      "1 * 6 = 6\n",
      "1 * 7 = 7\n",
      "1 * 8 = 8\n",
      "1 * 9 = 9\n",
      "계산하고 싶은 단을 입력해주세요 - 멈추고 싶으면 0 입력: 2\n",
      "2 * 1 = 2\n",
      "2 * 2 = 4\n",
      "2 * 3 = 6\n",
      "2 * 4 = 8\n",
      "2 * 5 = 10\n",
      "2 * 6 = 12\n",
      "2 * 7 = 14\n",
      "2 * 8 = 16\n",
      "2 * 9 = 18\n",
      "계산하고 싶은 단을 입력해주세요 - 멈추고 싶으면 0 입력: 3\n",
      "3 * 1 = 3\n",
      "3 * 2 = 6\n",
      "3 * 3 = 9\n",
      "3 * 4 = 12\n",
      "3 * 5 = 15\n",
      "3 * 6 = 18\n",
      "3 * 7 = 21\n",
      "3 * 8 = 24\n",
      "3 * 9 = 27\n",
      "계산하고 싶은 단을 입력해주세요 - 멈추고 싶으면 0 입력: 4\n",
      "4 * 1 = 4\n",
      "4 * 2 = 8\n",
      "4 * 3 = 12\n",
      "4 * 4 = 16\n",
      "4 * 5 = 20\n",
      "4 * 6 = 24\n",
      "4 * 7 = 28\n",
      "4 * 8 = 32\n",
      "4 * 9 = 36\n",
      "계산하고 싶은 단을 입력해주세요 - 멈추고 싶으면 0 입력: 0\n",
      "계산을 종료하겠습니다...\n"
     ]
    }
   ],
   "source": [
    "def multiplicationTable(num):\n",
    "    for i in range(1, 10):\n",
    "        print(f\"{num} * {i} = {num * i }\")\n",
    "    return\n",
    "\n",
    "while True:\n",
    "    stage = int(input(\"계산하고 싶은 단을 입력해주세요 - 멈추고 싶으면 0 입력: \"))\n",
    "    \n",
    "    if stage == 0:\n",
    "        print(\"계산을 종료하겠습니다...\")\n",
    "        break\n",
    "    \n",
    "    multiplicationTable(stage)"
   ]
  },
  {
   "cell_type": "code",
   "execution_count": null,
   "metadata": {},
   "outputs": [],
   "source": []
  }
 ],
 "metadata": {
  "kernelspec": {
   "display_name": "Python 3",
   "language": "python",
   "name": "python3"
  },
  "language_info": {
   "codemirror_mode": {
    "name": "ipython",
    "version": 3
   },
   "file_extension": ".py",
   "mimetype": "text/x-python",
   "name": "python",
   "nbconvert_exporter": "python",
   "pygments_lexer": "ipython3",
   "version": "3.8.5"
  }
 },
 "nbformat": 4,
 "nbformat_minor": 4
}
