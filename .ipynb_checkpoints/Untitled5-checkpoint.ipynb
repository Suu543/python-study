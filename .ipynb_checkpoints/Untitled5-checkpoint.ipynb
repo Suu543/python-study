{
 "cells": [
  {
   "cell_type": "code",
   "execution_count": 8,
   "metadata": {},
   "outputs": [
    {
     "ename": "SyntaxError",
     "evalue": "invalid syntax (<ipython-input-8-aed1d4aea4f8>, line 5)",
     "output_type": "error",
     "traceback": [
      "\u001b[1;36m  File \u001b[1;32m\"<ipython-input-8-aed1d4aea4f8>\"\u001b[1;36m, line \u001b[1;32m5\u001b[0m\n\u001b[1;33m    1. string,\u001b[0m\n\u001b[1;37m       ^\u001b[0m\n\u001b[1;31mSyntaxError\u001b[0m\u001b[1;31m:\u001b[0m invalid syntax\n"
     ]
    }
   ],
   "source": [
    "# 조건문 - if, elif, else\n",
    "# 반복만\n",
    "# 반복할 수 있다 \n",
    "# - 1. 순회할 수 있다는 조건이 성립해야한다\n",
    "1. string,\n",
    "2. list\n",
    "3. tuple\n",
    "4. dicitionary"
   ]
  },
  {
   "cell_type": "code",
   "execution_count": 9,
   "metadata": {},
   "outputs": [
    {
     "name": "stdout",
     "output_type": "stream",
     "text": [
      "H\n",
      "e\n",
      "l\n",
      "l\n",
      "o\n",
      " \n",
      "W\n",
      "o\n",
      "r\n",
      "l\n",
      "d\n",
      " \n",
      "T\n",
      "h\n",
      "i\n",
      "s\n",
      " \n",
      "i\n",
      "s\n",
      " \n",
      "S\n",
      "u\n",
      "c\n",
      "h\n",
      " \n",
      "a\n",
      " \n",
      "b\n",
      "e\n",
      "a\n",
      "u\n",
      "t\n",
      "i\n",
      "f\n",
      "u\n",
      "l\n",
      " \n",
      "d\n",
      "a\n",
      "y\n"
     ]
    }
   ],
   "source": [
    "a = \"Hello World This is Such a beautiful day\"\n",
    "# character = char\n",
    "for char in a:\n",
    "    print(char)"
   ]
  },
  {
   "cell_type": "code",
   "execution_count": 10,
   "metadata": {},
   "outputs": [
    {
     "name": "stdout",
     "output_type": "stream",
     "text": [
      "4\n"
     ]
    }
   ],
   "source": [
    "# 특정 글자 수 세기 프로그램\n",
    "# 특정 문자열에 a라는 글자가 몇개 들어가는지 출력해주는 프로그램 만들기\n",
    "count = 0\n",
    "test = \"ab dkaopdkwop a kpok b a\"\n",
    " \n",
    "for char in test:\n",
    "    if (char == 'a'):\n",
    "        count = count + 1\n",
    "\n",
    "print(count)"
   ]
  },
  {
   "cell_type": "code",
   "execution_count": 11,
   "metadata": {},
   "outputs": [
    {
     "name": "stdout",
     "output_type": "stream",
     "text": [
      "1\n",
      "2\n",
      "3\n",
      "4\n",
      "5\n",
      "6\n",
      "7\n",
      "8\n",
      "9\n",
      "10\n"
     ]
    }
   ],
   "source": [
    "# list\n",
    "test_list = [1, 2, 3, 4, 5, 6, 7, 8, 9, 10]\n",
    "\n",
    "for num in test_list:\n",
    "    print(num)"
   ]
  },
  {
   "cell_type": "code",
   "execution_count": 12,
   "metadata": {},
   "outputs": [
    {
     "name": "stdout",
     "output_type": "stream",
     "text": [
      "2\n",
      "4\n",
      "6\n",
      "8\n",
      "10\n"
     ]
    }
   ],
   "source": [
    "# [1, 2, 3, 4, 5, 6, 7, 8, 9, 10]\n",
    "# 1. 해당 리스트에 존재하는 짝수인 숫자를 출력하세요\n",
    "test_list = [1, 2, 3, 4, 5, 6, 7, 8, 9, 10]\n",
    "for i in test_list:\n",
    "    if i % 2 == 0:\n",
    "        print(i)\n",
    "\n",
    "# 2. 해당 리스트에 존재하는 모든 홀수의 합\n",
    "# 3. 해당 리스트에 존재하는 모든 짝수의 합\n",
    "odd_sum = 0\n",
    "even_sum = 0"
   ]
  },
  {
   "cell_type": "code",
   "execution_count": null,
   "metadata": {},
   "outputs": [],
   "source": []
  }
 ],
 "metadata": {
  "kernelspec": {
   "display_name": "Python 3",
   "language": "python",
   "name": "python3"
  },
  "language_info": {
   "codemirror_mode": {
    "name": "ipython",
    "version": 3
   },
   "file_extension": ".py",
   "mimetype": "text/x-python",
   "name": "python",
   "nbconvert_exporter": "python",
   "pygments_lexer": "ipython3",
   "version": "3.8.5"
  }
 },
 "nbformat": 4,
 "nbformat_minor": 4
}
