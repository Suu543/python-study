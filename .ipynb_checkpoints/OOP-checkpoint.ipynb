{
 "cells": [
  {
   "cell_type": "markdown",
   "metadata": {},
   "source": [
    "## Object Oriented Programming\n",
    "\n",
    "- Objects\n",
    "- Using the class keyword\n",
    "- Creating class attribute\n",
    "- Creating methods in a class\n",
    "- Learning about Inheritance\n",
    "- Learning about Polymorphism\n",
    "- Learning about Special Methods for classes"
   ]
  },
  {
   "cell_type": "code",
   "execution_count": 1,
   "metadata": {},
   "outputs": [],
   "source": [
    "lst = [1, 2, 3]"
   ]
  },
  {
   "cell_type": "code",
   "execution_count": 2,
   "metadata": {},
   "outputs": [
    {
     "data": {
      "text/plain": [
       "1"
      ]
     },
     "execution_count": 2,
     "metadata": {},
     "output_type": "execute_result"
    }
   ],
   "source": [
    "lst.count(2)"
   ]
  },
  {
   "cell_type": "code",
   "execution_count": 3,
   "metadata": {},
   "outputs": [
    {
     "name": "stdout",
     "output_type": "stream",
     "text": [
      "<class 'int'>\n",
      "<class 'list'>\n",
      "<class 'tuple'>\n",
      "<class 'dict'>\n"
     ]
    }
   ],
   "source": [
    "print(type(1))\n",
    "print(type([]))\n",
    "print(type(()))\n",
    "print(type({}))"
   ]
  },
  {
   "cell_type": "code",
   "execution_count": 4,
   "metadata": {},
   "outputs": [],
   "source": [
    "class Sample:\n",
    "    pass"
   ]
  },
  {
   "cell_type": "code",
   "execution_count": 5,
   "metadata": {},
   "outputs": [
    {
     "name": "stdout",
     "output_type": "stream",
     "text": [
      "<class '__main__.Sample'>\n"
     ]
    }
   ],
   "source": [
    "x = Sample()\n",
    "print(type(x))"
   ]
  },
  {
   "cell_type": "code",
   "execution_count": 11,
   "metadata": {},
   "outputs": [],
   "source": [
    "# Attribute\n",
    "\n",
    "class Car:\n",
    "    def __init__(self, wheel, engine, color):\n",
    "        self.wheel = wheel\n",
    "        self.engine = engine\n",
    "        self.color = color\n",
    "        \n",
    "    def engineOn(self):\n",
    "        print(f'{self.engine} 시동 걸림 가즈아!')\n",
    "        \n",
    "    def engineOff(self):\n",
    "        print(f'{self.engine} 시동 꺼짐 가즈아')"
   ]
  },
  {
   "cell_type": "code",
   "execution_count": 14,
   "metadata": {},
   "outputs": [
    {
     "name": "stdout",
     "output_type": "stream",
     "text": [
      "M-1 시동 걸림 가즈아!\n",
      "M-2 시동 걸림 가즈아!\n"
     ]
    }
   ],
   "source": [
    "Samsung = Car(wheel = \"4teers\", engine = \"M-1\", color = \"red\")\n",
    "Hyundai = Car(wheel = \"aaaa\", engine = \"M-2\", color = \"blue\")\n",
    "\n",
    "Samsung.engineOn()\n",
    "Hyundai.engineOn()"
   ]
  },
  {
   "cell_type": "code",
   "execution_count": 77,
   "metadata": {},
   "outputs": [],
   "source": [
    "class Car:\n",
    "    def __init__(self, wheel, engine, color):\n",
    "        self.wheel = wheel\n",
    "        self.engine = engine\n",
    "        self.color = color\n",
    "        \n",
    "    def engineOn(self):\n",
    "        print(f'{self.engine} 시동 걸림 가즈아!')\n",
    "        \n",
    "    def engineOff(self):\n",
    "        print(f'{self.engine} 시동 꺼짐 가즈아')\n",
    "        \n",
    "class Hyundai(Car):\n",
    "    def __init__(self, wheel, engine, color):\n",
    "        super().__init__(wheel, engine, color)\n",
    "        print('Hyundai Created...')        \n",
    "        \n",
    "class Tesla(Hyundai):\n",
    "    def __init__(self, wheel, engine, color, electric_charger):\n",
    "        super().__init__(wheel, engine, color)\n",
    "        self.electric_charger = electric_charger\n",
    "        print(\"Tesla Created...\")\n",
    "        \n",
    "    def engineOn(self):\n",
    "        print(f\"{self.electric_charger} ㅅㅂ 전기차 가즈아\")"
   ]
  },
  {
   "cell_type": "code",
   "execution_count": 76,
   "metadata": {},
   "outputs": [
    {
     "name": "stdout",
     "output_type": "stream",
     "text": [
      "Hyundai Created...\n",
      "Tesla Created...\n",
      "aaaㅅㅂ 전기차 가즈아\n"
     ]
    }
   ],
   "source": [
    "test = Tesla(wheel = \"4\", engine = \"m-1\", color = \"red\", electric_charger = \"aaa\")\n",
    "test.engineOn()"
   ]
  },
  {
   "cell_type": "code",
   "execution_count": 78,
   "metadata": {},
   "outputs": [],
   "source": [
    "def a():\n",
    "    return (lambda a : a + 2)\n",
    "\n",
    "b = a()"
   ]
  },
  {
   "cell_type": "code",
   "execution_count": 80,
   "metadata": {},
   "outputs": [
    {
     "data": {
      "text/plain": [
       "4"
      ]
     },
     "execution_count": 80,
     "metadata": {},
     "output_type": "execute_result"
    }
   ],
   "source": [
    "b(2)"
   ]
  },
  {
   "cell_type": "code",
   "execution_count": 82,
   "metadata": {},
   "outputs": [],
   "source": [
    "def bb(a, b):\n",
    "    print(a(2)) \n",
    "    print(b(4))"
   ]
  },
  {
   "cell_type": "code",
   "execution_count": 83,
   "metadata": {},
   "outputs": [
    {
     "name": "stdout",
     "output_type": "stream",
     "text": [
      "4\n",
      "8\n"
     ]
    }
   ],
   "source": [
    "bb((lambda a : a + 2), (lambda a : a + 4))"
   ]
  },
  {
   "cell_type": "code",
   "execution_count": 84,
   "metadata": {},
   "outputs": [
    {
     "data": {
      "text/plain": [
       "4"
      ]
     },
     "execution_count": 84,
     "metadata": {},
     "output_type": "execute_result"
    }
   ],
   "source": [
    "# 1. 함수는 리턴값으로 쓸 수 있다\n",
    "def returnDef():\n",
    "    return (lambda a : a + 2)\n",
    "\n",
    "first = returnDef()\n",
    "first(2)\n",
    "\n",
    "#def a(a):\n",
    "#    return a + 2"
   ]
  },
  {
   "cell_type": "code",
   "execution_count": 86,
   "metadata": {},
   "outputs": [
    {
     "name": "stdout",
     "output_type": "stream",
     "text": [
      "6\n",
      "4\n"
     ]
    }
   ],
   "source": [
    "# 2. 함수는 다른 함수의 인자값으로 쓸 수 있다\n",
    "def argumentDef(func1, func2):\n",
    "    print(func1(4))\n",
    "    print(func2(2))\n",
    "\n",
    "def func1(a):\n",
    "    return(a + 2)\n",
    "\n",
    "def func2(b):\n",
    "    return (b + 2)\n",
    "    \n",
    "argumentDef(func1, func2)"
   ]
  },
  {
   "cell_type": "code",
   "execution_count": 92,
   "metadata": {},
   "outputs": [
    {
     "data": {
      "text/plain": [
       "4"
      ]
     },
     "execution_count": 92,
     "metadata": {},
     "output_type": "execute_result"
    }
   ],
   "source": [
    "# 3. 리스트의 인자로 함수를 줄 수 있어\n",
    "def func1(a):\n",
    "    return(a + 2)\n",
    "\n",
    "def func2(b):\n",
    "    return (b + 2)\n",
    "    \n",
    "list_funcs = [func1, func2]\n",
    "list_funcs[0](2)"
   ]
  },
  {
   "cell_type": "code",
   "execution_count": 93,
   "metadata": {},
   "outputs": [],
   "source": [
    "# 4. 딕셔너리에 드갈 수 있다\n",
    "a = {\n",
    "    \"func\": (lambda a : a + 2),\n",
    "    \"func1\": (lambda a : a + 2)\n",
    "}"
   ]
  },
  {
   "cell_type": "code",
   "execution_count": 95,
   "metadata": {},
   "outputs": [
    {
     "data": {
      "text/plain": [
       "6"
      ]
     },
     "execution_count": 95,
     "metadata": {},
     "output_type": "execute_result"
    }
   ],
   "source": [
    "a[\"func1\"](4)"
   ]
  },
  {
   "cell_type": "code",
   "execution_count": null,
   "metadata": {},
   "outputs": [],
   "source": [
    "# 5. class\n"
   ]
  }
 ],
 "metadata": {
  "kernelspec": {
   "display_name": "Python 3",
   "language": "python",
   "name": "python3"
  },
  "language_info": {
   "codemirror_mode": {
    "name": "ipython",
    "version": 3
   },
   "file_extension": ".py",
   "mimetype": "text/x-python",
   "name": "python",
   "nbconvert_exporter": "python",
   "pygments_lexer": "ipython3",
   "version": "3.8.5"
  }
 },
 "nbformat": 4,
 "nbformat_minor": 4
}
