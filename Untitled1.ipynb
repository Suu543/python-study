{
 "cells": [
  {
   "cell_type": "code",
   "execution_count": 2,
   "metadata": {},
   "outputs": [
    {
     "name": "stdout",
     "output_type": "stream",
     "text": [
      "Jihoon\n",
      "Daegu\n"
     ]
    }
   ],
   "source": [
    "# Dictionary\n",
    "# 중괄호를 이용한다\n",
    "# Key: Value\n",
    "jihoon = {\n",
    "    \"name\": \"Jihoon\",\n",
    "    \"location\": \"Daegu\",\n",
    "    \"age\": 18\n",
    "}\n",
    "\n",
    "print(jihoon['name'])\n",
    "print(jihoon['location'])"
   ]
  },
  {
   "cell_type": "code",
   "execution_count": 3,
   "metadata": {},
   "outputs": [
    {
     "name": "stdout",
     "output_type": "stream",
     "text": [
      "world\n"
     ]
    }
   ],
   "source": [
    "a = {\n",
    "    \"name\": 'hello',\n",
    "    \"name\": 'world'\n",
    "}\n",
    "\n",
    "print(a['name'])"
   ]
  },
  {
   "cell_type": "code",
   "execution_count": 7,
   "metadata": {},
   "outputs": [
    {
     "name": "stdout",
     "output_type": "stream",
     "text": [
      "Yongsu\n",
      "jihoon\n",
      "{'name': 'jihoon', 'age': 18}\n",
      "{'name': 'jihoon'}\n"
     ]
    }
   ],
   "source": [
    "# 기존에 생성한 값을 어떻게 변경할 수 있는가\n",
    "# 어떻게 하면 새로운 값을 추가할 수 있는가\n",
    "# 어떻게 하면 기존의 값을 삭제할 수 있는가\n",
    "a = { \"name\": \"Yongsu\" }\n",
    "print(a['name'])\n",
    "a['name'] = 'jihoon'\n",
    "print(a['name'])\n",
    "a['age'] = 18\n",
    "print(a)\n",
    "del a['age']\n",
    "print(a)"
   ]
  },
  {
   "cell_type": "code",
   "execution_count": 8,
   "metadata": {},
   "outputs": [
    {
     "name": "stdout",
     "output_type": "stream",
     "text": [
      "{'name': 'yongsu'}\n",
      "{'name': 'su', 'age': 25, 'address': 'daegu'}\n",
      "{'name': 'su', 'age': 25, 'address': 'daegu'}\n"
     ]
    }
   ],
   "source": [
    "# Dictionary 선언하는 3 가지 \n",
    "a = { \"name\": \"yongsu\" }\n",
    "b = dict(name = 'su', age = 25, address = 'daegu')\n",
    "c = dict([['name', 'su'], ['age', 25], ['address', 'daegu']])\n",
    "\n",
    "print(a)\n",
    "print(b)\n",
    "print(c)"
   ]
  },
  {
   "cell_type": "code",
   "execution_count": 11,
   "metadata": {},
   "outputs": [
    {
     "name": "stdout",
     "output_type": "stream",
     "text": [
      "dict_keys(['name', 'age', 'address'])\n",
      "dict_values(['su', 25, 'daegu'])\n",
      "dict_items([('name', 'su'), ('age', 25), ('address', 'daegu')])\n",
      "{'age': 25, 'address': 'daegu'}\n"
     ]
    }
   ],
   "source": [
    "# 유용한 Dictionaries 함수들\n",
    "a = {'name': 'su', 'age': 25, 'address': 'daegu'}\n",
    "# 나는 key 값만 출력하고 싶다\n",
    "print(a.keys())\n",
    "# 나느 value 값만 출력하고 싶다\n",
    "print(a.values())\n",
    "# 나는 key, value 형태를 모두 출력하고 싶다\n",
    "print(a.items())\n",
    "# pop 함수를 이용해서 요소 삭제하기\n",
    "a.pop(\"name\")\n",
    "print(a)"
   ]
  },
  {
   "cell_type": "code",
   "execution_count": 15,
   "metadata": {},
   "outputs": [
    {
     "name": "stdout",
     "output_type": "stream",
     "text": [
      "hello\n",
      "['red', 'blue', 'white']\n"
     ]
    }
   ],
   "source": [
    "# 중첩 Dictionary\n",
    "nested_dict = {\n",
    "    'key1': {\n",
    "        'nested_key': {\n",
    "            'name': 'hello'\n",
    "        }\n",
    "    }\n",
    "}\n",
    "\n",
    "multi_dict = {\n",
    "    'name': \"Yongsu\",\n",
    "    'favorite_colors': ['red', 'blue', 'white'],\n",
    "    'key1': {\n",
    "        'nested': 'hello'\n",
    "    },\n",
    "    'age': 15\n",
    "}\n",
    "\n",
    "print(nested_dict['key1']['nested_key']['name'])\n",
    "print(multi_dict['favorite_colors'])"
   ]
  },
  {
   "cell_type": "code",
   "execution_count": 16,
   "metadata": {},
   "outputs": [
    {
     "ename": "SyntaxError",
     "evalue": "invalid syntax (<ipython-input-16-858871412104>, line 1)",
     "output_type": "error",
     "traceback": [
      "\u001b[1;36m  File \u001b[1;32m\"<ipython-input-16-858871412104>\"\u001b[1;36m, line \u001b[1;32m1\u001b[0m\n\u001b[1;33m    상황:\u001b[0m\n\u001b[1;37m       ^\u001b[0m\n\u001b[1;31mSyntaxError\u001b[0m\u001b[1;31m:\u001b[0m invalid syntax\n"
     ]
    }
   ],
   "source": [
    "상황:\n",
    "\n",
    "이름, 나이, 성별, 주소, 친구목록, 좋아하는 색, \n",
    "사용하는 컴퓨터 기종과 그 컴퓨터의 사양 (가격, 브랜드, 성능)에 관한 정보를 모두 포함하고 있는 변수를 하나 생성하고 싶습니다. \n",
    "\n",
    "주소: “Daegu Bollio Dong Daegu High School”\n",
    "친구이름: ‘josh’, “amy’, ‘kale’, ‘peter’, ‘muta’\n",
    "좋아하는 색: ‘red’, ‘purple’, ‘blue’, ‘violet’, ‘blue’\n",
    "\n",
    "이 생성한 변수를 이용해서 다음 작업을 수행하고 싶습니다.\n",
    "친구목록에 작성된 친구의 이름을 알파벳 순으로 정렬하고 싶습니다.\n",
    "좋아하는 색을 알파벳 순으로 정렬하고 이것을 역순으로 정렬하고 싶습니다.\n",
    "컴퓨터 사양에 관한 정보에 (구매 일자를 추가하고 싶습니다 ex) “2020-01-01”)\n",
    "주소를 공백 기준으로 자르고 싶습니다.\n",
    "좋아하는 색 리스트를 1 ~ 4번 까지 제거해주세요."
   ]
  },
  {
   "cell_type": "code",
   "execution_count": 26,
   "metadata": {},
   "outputs": [],
   "source": [
    "practice = {\n",
    "    \"name\": \"Yongsu\",\n",
    "    \"age\": 25,\n",
    "    \"gender\": \"male\",\n",
    "    \"friends\": [\"josh\", \"amy\", \"kale\", \"peter\", \"muta\" ],\n",
    "    \"colors\": [\"red\", \"purple\", \"blue\", \"violet\"],\n",
    "    \"address\": \"Daegu Bollio Dong Daegu High School\",\n",
    "    \"computer\": {\n",
    "        \"price\": 150,\n",
    "        \"brand\": \"samsung\",\n",
    "        \"performace\": \"A\"\n",
    "    }\n",
    "}"
   ]
  },
  {
   "cell_type": "code",
   "execution_count": 27,
   "metadata": {},
   "outputs": [
    {
     "data": {
      "text/plain": [
       "['amy', 'josh', 'kale', 'muta', 'peter']"
      ]
     },
     "execution_count": 27,
     "metadata": {},
     "output_type": "execute_result"
    }
   ],
   "source": [
    "practice['friends'].sort()\n",
    "practice['friends']"
   ]
  },
  {
   "cell_type": "code",
   "execution_count": 28,
   "metadata": {},
   "outputs": [
    {
     "name": "stdout",
     "output_type": "stream",
     "text": [
      "['blue', 'purple', 'red', 'violet']\n",
      "['violet', 'red', 'purple', 'blue']\n"
     ]
    }
   ],
   "source": [
    "practice[\"colors\"].sort()\n",
    "print(practice[\"colors\"])\n",
    "practice[\"colors\"].reverse()\n",
    "print(practice[\"colors\"])"
   ]
  },
  {
   "cell_type": "code",
   "execution_count": 29,
   "metadata": {},
   "outputs": [
    {
     "data": {
      "text/plain": [
       "{'price': 150, 'brand': 'samsung', 'performace': 'A', 'purchase': '2020-01-01'}"
      ]
     },
     "execution_count": 29,
     "metadata": {},
     "output_type": "execute_result"
    }
   ],
   "source": [
    "practice[\"computer\"][\"purchase\"] = \"2020-01-01\"\n",
    "practice[\"computer\"]"
   ]
  },
  {
   "cell_type": "code",
   "execution_count": 31,
   "metadata": {},
   "outputs": [
    {
     "data": {
      "text/plain": [
       "['Daegu', 'Bollio', 'Dong', 'Daegu', 'High', 'School']"
      ]
     },
     "execution_count": 31,
     "metadata": {},
     "output_type": "execute_result"
    }
   ],
   "source": [
    "practice[\"address\"].split(\" \")"
   ]
  },
  {
   "cell_type": "code",
   "execution_count": 32,
   "metadata": {},
   "outputs": [
    {
     "data": {
      "text/plain": [
       "['violet', 'red', 'purple', 'blue']"
      ]
     },
     "execution_count": 32,
     "metadata": {},
     "output_type": "execute_result"
    }
   ],
   "source": [
    "practice[\"colors\"]"
   ]
  },
  {
   "cell_type": "code",
   "execution_count": 35,
   "metadata": {},
   "outputs": [
    {
     "data": {
      "text/plain": [
       "['violet']"
      ]
     },
     "execution_count": 35,
     "metadata": {},
     "output_type": "execute_result"
    }
   ],
   "source": [
    "del practice[\"colors\"][1:]\n",
    "practice['colors']"
   ]
  },
  {
   "cell_type": "code",
   "execution_count": 36,
   "metadata": {},
   "outputs": [],
   "source": [
    "# Tuple 튜플 이라는 자료구조\n",
    "# 리스트랑 똑같아요\n",
    "# 한 번 생성하면, 갱신, 삭제, 변경, 추가 불가능해요\n",
    "# 일주일 - 7일 월 ~ 일\n",
    "# 튜플 정의는 소괄호를 이용하고, 리스트와 똑같이 인덱싱 슬라잇ㅇ 가능"
   ]
  },
  {
   "cell_type": "code",
   "execution_count": 37,
   "metadata": {},
   "outputs": [
    {
     "data": {
      "text/plain": [
       "1"
      ]
     },
     "execution_count": 37,
     "metadata": {},
     "output_type": "execute_result"
    }
   ],
   "source": [
    "a = (1, 2, 3, 4, 5)\n",
    "a[0] # 출력 가능\n",
    "a[0] = 'hello' # 업데이트 불가능\n",
    "a.append(6) # 추가 불가능\n",
    "del a[0] # 삭제 불가능"
   ]
  },
  {
   "cell_type": "code",
   "execution_count": 38,
   "metadata": {},
   "outputs": [
    {
     "ename": "TypeError",
     "evalue": "'tuple' object does not support item assignment",
     "output_type": "error",
     "traceback": [
      "\u001b[1;31m---------------------------------------------------------------------------\u001b[0m",
      "\u001b[1;31mTypeError\u001b[0m                                 Traceback (most recent call last)",
      "\u001b[1;32m<ipython-input-38-830142928299>\u001b[0m in \u001b[0;36m<module>\u001b[1;34m\u001b[0m\n\u001b[1;32m----> 1\u001b[1;33m \u001b[0ma\u001b[0m\u001b[1;33m[\u001b[0m\u001b[1;36m0\u001b[0m\u001b[1;33m]\u001b[0m \u001b[1;33m=\u001b[0m \u001b[1;34m'hello'\u001b[0m\u001b[1;33m\u001b[0m\u001b[1;33m\u001b[0m\u001b[0m\n\u001b[0m",
      "\u001b[1;31mTypeError\u001b[0m: 'tuple' object does not support item assignment"
     ]
    }
   ],
   "source": [
    "a[0] = 'hello'\n",
    "a.append(6)\n",
    "del a[0]"
   ]
  },
  {
   "cell_type": "code",
   "execution_count": 39,
   "metadata": {},
   "outputs": [
    {
     "ename": "AttributeError",
     "evalue": "'tuple' object has no attribute 'append'",
     "output_type": "error",
     "traceback": [
      "\u001b[1;31m---------------------------------------------------------------------------\u001b[0m",
      "\u001b[1;31mAttributeError\u001b[0m                            Traceback (most recent call last)",
      "\u001b[1;32m<ipython-input-39-a09ce8848fdf>\u001b[0m in \u001b[0;36m<module>\u001b[1;34m\u001b[0m\n\u001b[1;32m----> 1\u001b[1;33m \u001b[0ma\u001b[0m\u001b[1;33m.\u001b[0m\u001b[0mappend\u001b[0m\u001b[1;33m(\u001b[0m\u001b[1;36m6\u001b[0m\u001b[1;33m)\u001b[0m\u001b[1;33m\u001b[0m\u001b[1;33m\u001b[0m\u001b[0m\n\u001b[0m",
      "\u001b[1;31mAttributeError\u001b[0m: 'tuple' object has no attribute 'append'"
     ]
    }
   ],
   "source": [
    "a.append(6)\n",
    "del a[0]"
   ]
  },
  {
   "cell_type": "code",
   "execution_count": 40,
   "metadata": {},
   "outputs": [
    {
     "ename": "TypeError",
     "evalue": "'tuple' object doesn't support item deletion",
     "output_type": "error",
     "traceback": [
      "\u001b[1;31m---------------------------------------------------------------------------\u001b[0m",
      "\u001b[1;31mTypeError\u001b[0m                                 Traceback (most recent call last)",
      "\u001b[1;32m<ipython-input-40-c47830f0ae67>\u001b[0m in \u001b[0;36m<module>\u001b[1;34m\u001b[0m\n\u001b[1;32m----> 1\u001b[1;33m \u001b[1;32mdel\u001b[0m \u001b[0ma\u001b[0m\u001b[1;33m[\u001b[0m\u001b[1;36m0\u001b[0m\u001b[1;33m]\u001b[0m\u001b[1;33m\u001b[0m\u001b[1;33m\u001b[0m\u001b[0m\n\u001b[0m",
      "\u001b[1;31mTypeError\u001b[0m: 'tuple' object doesn't support item deletion"
     ]
    }
   ],
   "source": []
  },
  {
   "cell_type": "code",
   "execution_count": null,
   "metadata": {},
   "outputs": [],
   "source": [
    "# set"
   ]
  }
 ],
 "metadata": {
  "kernelspec": {
   "display_name": "Python 3",
   "language": "python",
   "name": "python3"
  },
  "language_info": {
   "codemirror_mode": {
    "name": "ipython",
    "version": 3
   },
   "file_extension": ".py",
   "mimetype": "text/x-python",
   "name": "python",
   "nbconvert_exporter": "python",
   "pygments_lexer": "ipython3",
   "version": "3.8.5"
  }
 },
 "nbformat": 4,
 "nbformat_minor": 4
}
