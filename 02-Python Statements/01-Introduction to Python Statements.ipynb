{
 "cells": [
  {
   "cell_type": "markdown",
   "metadata": {},
   "source": [
    "# Introduction to Python Statements\n",
    "\n",
    "Python vs C++"
   ]
  },
  {
   "cell_type": "markdown",
   "metadata": {},
   "source": [
    "**Version 1 (Other Languages)**\n",
    "\n",
    "    if (a>b){\n",
    "        a = 2;\n",
    "        b = 4;\n",
    "    }\n",
    "                        \n",
    "**Version 2 (Python)**   \n",
    "\n",
    "    if a>b:\n",
    "        a = 2\n",
    "        b = 4\n",
    "        \n",
    "- Python이 조금 더 간결하고, 읽기 쉽다.\n",
    "- Python은 크게 두 개의 대체했다\n",
    "    1. () --> :\n",
    "    2. {} --> whitespace(엔터)\n",
    " "
   ]
  },
  {
   "cell_type": "markdown",
   "metadata": {},
   "source": [
    "# Indentation\n",
    "\n",
    "**Version 1 (Other Languages)\n",
    "\n",
    "    if (x) {\n",
    "        if (y) {\n",
    "            code-statement;\n",
    "        } else { \n",
    "            another-code-statement;\n",
    "        }\n",
    "    }\n",
    "                        \n",
    "**Version 2 (Python)**   \n",
    "\n",
    "    if x:\n",
    "        if y:\n",
    "            code-statement\n",
    "    else:\n",
    "        another-code-statement\n",
    "        \n",
    "Python은 Indentation (Tab) + whitespace(공백)으로 다른 프로그래밍 언어의 (), {}를 대체했다. 그래서 인간이 읽기 훨씬 쉽고 간결하다. 이러한 이유 때문에 파이썬은 큰 사랑을 받고 있다."
   ]
  }
 ],
 "metadata": {
  "kernelspec": {
   "display_name": "Python 3",
   "language": "python",
   "name": "python3"
  },
  "language_info": {
   "codemirror_mode": {
    "name": "ipython",
    "version": 3
   },
   "file_extension": ".py",
   "mimetype": "text/x-python",
   "name": "python",
   "nbconvert_exporter": "python",
   "pygments_lexer": "ipython3",
   "version": "3.8.5"
  }
 },
 "nbformat": 4,
 "nbformat_minor": 4
}
