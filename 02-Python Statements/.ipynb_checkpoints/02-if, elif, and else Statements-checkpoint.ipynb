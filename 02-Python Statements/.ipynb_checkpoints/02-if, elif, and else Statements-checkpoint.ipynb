{
 "cells": [
  {
   "cell_type": "markdown",
   "metadata": {},
   "source": [
    "# if, elif, else Statements\n",
    "\n",
    "만약 A가 좋아하는 음식이 사과라면, 나는 사과를 좋아해\n",
    "만약 A가 좋아하는 음식이 귤이라면, 나는 귤을 좋아해\n",
    "만약 A가 좋아하는 음식이 포도라면, 나는 포도를 좋아해\n",
    "나머지는 그냥 나는 과일을 좋아해 출력\n",
    "\n",
    "    if case1:\n",
    "        perform action1\n",
    "    elif case2:\n",
    "        perform action2\n",
    "    else case3:\n",
    "        perform action3"
   ]
  },
  {
   "cell_type": "code",
   "execution_count": 1,
   "metadata": {},
   "outputs": [
    {
     "name": "stdout",
     "output_type": "stream",
     "text": [
      "나는 귤을 좋아해\n"
     ]
    }
   ],
   "source": [
    "my_favorite_fruit = \"귤\"\n",
    "\n",
    "if my_favorite_fruit == \"사과\":\n",
    "    print(\"나는 사과를 좋아해\")\n",
    "elif my_favorite_fruit == \"귤\":\n",
    "    print(\"나는 귤을 좋아해\")    \n",
    "elif my_favorite_fruit == \"포도\":\n",
    "    print(\"나는 포도를 좋아해\")\n",
    "else:\n",
    "    print(\"나는 과일을 좋아해\")"
   ]
  },
  {
   "cell_type": "code",
   "execution_count": 2,
   "metadata": {},
   "outputs": [
    {
     "name": "stdout",
     "output_type": "stream",
     "text": [
      "트루트루\n"
     ]
    }
   ],
   "source": [
    "if True:\n",
    "    print(\"트루트루\")"
   ]
  },
  {
   "cell_type": "code",
   "execution_count": 3,
   "metadata": {},
   "outputs": [
    {
     "name": "stdout",
     "output_type": "stream",
     "text": [
      "x is not True\n"
     ]
    }
   ],
   "source": [
    "x = False\n",
    "\n",
    "if x:\n",
    "    print('x was True')\n",
    "else:\n",
    "    print('x is not True')"
   ]
  },
  {
   "cell_type": "code",
   "execution_count": 5,
   "metadata": {},
   "outputs": [
    {
     "name": "stdout",
     "output_type": "stream",
     "text": [
      "나는야 샤코장인\n"
     ]
    }
   ],
   "source": [
    "# 중첩된 if, elif, else\n",
    "# 탑, 미드, 바텀, 정글\n",
    "position = \"top\"\n",
    "character = \"샤코\"\n",
    "\n",
    "if position == \"top\":\n",
    "    if character == \"샤코\":\n",
    "        print(\"나는야 샤코장인\")\n",
    "    elif character == \"세트\":\n",
    "        print(\"나는야 세트장인\")\n",
    "    else:\n",
    "        print(\"나는야 탈주닌자\")\n",
    "        \n",
    "elif position == \"middle\":\n",
    "    if character == \"말자하\":\n",
    "        print(\"나는야 말자하장인\")\n",
    "    elif character == \"조이\":\n",
    "        print(\"나는야 예찬이\")\n",
    "    else: \n",
    "        print(\"나는야 탈주닌자\")\n",
    "        \n",
    "elif position == \"bottom\":\n",
    "    if character == \"이즈리얼\":\n",
    "        print(\"나는야 이즈\")\n",
    "    else:\n",
    "        print(\"나는야 똥싸개\")\n",
    "        \n",
    "elif position == \"jungle\":\n",
    "    print(\"정글차이 정글차이\")\n",
    "else:\n",
    "    print(\"탈주닌다\")\n"
   ]
  },
  {
   "cell_type": "markdown",
   "metadata": {},
   "source": [
    "## Indentation (Tab)\n",
    "- Tab을 기준으로 중첩을 구분한다."
   ]
  }
 ],
 "metadata": {
  "kernelspec": {
   "display_name": "Python 3",
   "language": "python",
   "name": "python3"
  },
  "language_info": {
   "codemirror_mode": {
    "name": "ipython",
    "version": 3
   },
   "file_extension": ".py",
   "mimetype": "text/x-python",
   "name": "python",
   "nbconvert_exporter": "python",
   "pygments_lexer": "ipython3",
   "version": "3.8.5"
  }
 },
 "nbformat": 4,
 "nbformat_minor": 4
}
