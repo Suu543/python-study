{
 "cells": [
  {
   "cell_type": "markdown",
   "metadata": {},
   "source": [
    "# while\n",
    "\n",
    "- while은 for와 같은 반복문이다. 하지만 조건이 참인 경우에는 영원히 실행된다."
   ]
  },
  {
   "cell_type": "markdown",
   "metadata": {},
   "source": [
    "# While Syntax\n",
    "    while test:\n",
    "        code statements\n",
    "    else:\n",
    "        final statement"
   ]
  },
  {
   "cell_type": "code",
   "execution_count": 3,
   "metadata": {},
   "outputs": [
    {
     "name": "stdout",
     "output_type": "stream",
     "text": [
      "X is currently:  0\n",
      "X는 여전히 10보다 작다 1을 더해주자\n",
      "X is currently:  1\n",
      "X는 여전히 10보다 작다 1을 더해주자\n",
      "X is currently:  2\n",
      "X는 여전히 10보다 작다 1을 더해주자\n",
      "X is currently:  3\n",
      "X는 여전히 10보다 작다 1을 더해주자\n",
      "X is currently:  4\n",
      "X는 여전히 10보다 작다 1을 더해주자\n",
      "X is currently:  5\n",
      "X는 여전히 10보다 작다 1을 더해주자\n",
      "X is currently:  6\n",
      "X는 여전히 10보다 작다 1을 더해주자\n",
      "X is currently:  7\n",
      "X는 여전히 10보다 작다 1을 더해주자\n",
      "X is currently:  8\n",
      "X는 여전히 10보다 작다 1을 더해주자\n",
      "X is currently:  9\n",
      "X는 여전히 10보다 작다 1을 더해주자\n"
     ]
    }
   ],
   "source": [
    "x = 0\n",
    "\n",
    "while x < 10:\n",
    "    print('X is currently: ', x)\n",
    "    print('X는 여전히 10보다 작다 1을 더해주자')\n",
    "    x = x + 1"
   ]
  },
  {
   "cell_type": "code",
   "execution_count": 4,
   "metadata": {},
   "outputs": [
    {
     "name": "stdout",
     "output_type": "stream",
     "text": [
      "X is currently:  0\n",
      "X는 여전히 10보다 작다 1을 더해주자\n",
      "X is currently:  1\n",
      "X는 여전히 10보다 작다 1을 더해주자\n",
      "X is currently:  2\n",
      "X는 여전히 10보다 작다 1을 더해주자\n",
      "X is currently:  3\n",
      "X는 여전히 10보다 작다 1을 더해주자\n",
      "X is currently:  4\n",
      "X는 여전히 10보다 작다 1을 더해주자\n",
      "X is currently:  5\n",
      "X는 여전히 10보다 작다 1을 더해주자\n",
      "X is currently:  6\n",
      "X는 여전히 10보다 작다 1을 더해주자\n",
      "X is currently:  7\n",
      "X는 여전히 10보다 작다 1을 더해주자\n",
      "X is currently:  8\n",
      "X는 여전히 10보다 작다 1을 더해주자\n",
      "X is currently:  9\n",
      "X는 여전히 10보다 작다 1을 더해주자\n",
      "지금은 X가 10보다 크다\n"
     ]
    }
   ],
   "source": [
    "x = 0\n",
    "\n",
    "while x < 10:\n",
    "    print('X is currently: ', x)\n",
    "    print('X는 여전히 10보다 작다 1을 더해주자')\n",
    "    x = x + 1\n",
    "    \n",
    "else:\n",
    "    print(\"지금은 X가 10보다 크다\")"
   ]
  },
  {
   "cell_type": "markdown",
   "metadata": {},
   "source": [
    "## break, continue, pass"
   ]
  },
  {
   "cell_type": "markdown",
   "metadata": {},
   "source": [
    "    while test:\n",
    "        code statement\n",
    "        if test:\n",
    "            # 만약에 이조건이 참이라면 while문을 종료한다\n",
    "            break\n",
    "        if test:\n",
    "            # 만약에 이조건이 참이라면 이번 턴은 건너뛴다\n",
    "            continue\n",
    "    else:              "
   ]
  },
  {
   "cell_type": "code",
   "execution_count": 9,
   "metadata": {},
   "outputs": [
    {
     "name": "stdout",
     "output_type": "stream",
     "text": [
      "X is currently:  0\n",
      "X는 여전히 10보다 작다 1을 더해주자\n",
      "X is currently:  1\n",
      "X는 여전히 10보다 작다 1을 더해주자\n",
      "X is currently:  2\n",
      "X는 여전히 10보다 작다 1을 더해주자\n",
      "x == 3\n",
      "X is currently:  3\n",
      "X는 여전히 10보다 작다 1을 더해주자\n",
      "X is currently:  4\n",
      "X는 여전히 10보다 작다 1을 더해주자\n",
      "X is currently:  5\n",
      "X는 여전히 10보다 작다 1을 더해주자\n",
      "X is currently:  6\n",
      "X는 여전히 10보다 작다 1을 더해주자\n",
      "X is currently:  7\n",
      "X는 여전히 10보다 작다 1을 더해주자\n",
      "X is currently:  8\n",
      "X는 여전히 10보다 작다 1을 더해주자\n",
      "X is currently:  9\n",
      "X는 여전히 10보다 작다 1을 더해주자\n"
     ]
    }
   ],
   "source": [
    "x = 0\n",
    "\n",
    "while x < 10:\n",
    "    print('X is currently: ', x)\n",
    "    print('X는 여전히 10보다 작다 1을 더해주자')\n",
    "    x = x + 1\n",
    "    if x == 3:\n",
    "        print('x == 3')\n",
    "    else:\n",
    "        continue"
   ]
  },
  {
   "cell_type": "code",
   "execution_count": 10,
   "metadata": {},
   "outputs": [
    {
     "name": "stdout",
     "output_type": "stream",
     "text": [
      "X is currently:  0\n",
      "X는 여전히 10보다 작다 1을 더해주자\n",
      "continuing...\n",
      "X is currently:  1\n",
      "X는 여전히 10보다 작다 1을 더해주자\n",
      "continuing...\n",
      "X is currently:  2\n",
      "X는 여전히 10보다 작다 1을 더해주자\n",
      "Break This while 문\n"
     ]
    }
   ],
   "source": [
    "x = 0\n",
    "\n",
    "while x < 10:\n",
    "    print('X is currently: ', x)\n",
    "    print('X는 여전히 10보다 작다 1을 더해주자')\n",
    "    x = x + 1\n",
    "    if x == 3:\n",
    "        print('Break This while 문')\n",
    "        break\n",
    "    else:\n",
    "        print(\"continuing...\")\n",
    "        continue"
   ]
  }
 ],
 "metadata": {
  "kernelspec": {
   "display_name": "Python 3",
   "language": "python",
   "name": "python3"
  },
  "language_info": {
   "codemirror_mode": {
    "name": "ipython",
    "version": 3
   },
   "file_extension": ".py",
   "mimetype": "text/x-python",
   "name": "python",
   "nbconvert_exporter": "python",
   "pygments_lexer": "ipython3",
   "version": "3.8.5"
  }
 },
 "nbformat": 4,
 "nbformat_minor": 4
}
