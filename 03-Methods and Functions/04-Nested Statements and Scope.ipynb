{
 "cells": [
  {
   "cell_type": "markdown",
   "metadata": {},
   "source": [
    "# Nested Statements and Scope\n",
    "\n",
    "Now that we have gone over writing own our function, it's important to understand how Python deals with the variable names you assign. When you create a variable name in Python the name is stored in `a name-space`. Variables names also have a scope, determines the visibility of that varialbe name to other parts of your code."
   ]
  },
  {
   "cell_type": "code",
   "execution_count": 1,
   "metadata": {},
   "outputs": [],
   "source": [
    "x = 5\n",
    "\n",
    "def printer():\n",
    "    y = 10\n",
    "    x = 50\n",
    "    return x\n"
   ]
  },
  {
   "cell_type": "code",
   "execution_count": 2,
   "metadata": {},
   "outputs": [
    {
     "name": "stdout",
     "output_type": "stream",
     "text": [
      "5\n"
     ]
    }
   ],
   "source": [
    "print(x)"
   ]
  },
  {
   "cell_type": "code",
   "execution_count": 3,
   "metadata": {},
   "outputs": [
    {
     "name": "stdout",
     "output_type": "stream",
     "text": [
      "50\n"
     ]
    }
   ],
   "source": [
    "print(printer())"
   ]
  },
  {
   "cell_type": "markdown",
   "metadata": {},
   "source": [
    "Interesting! But how does Python know which `x` you're referring to in your code? This is where the idea of scope comes in. Python have a set of rules, it follows to decide what variables (such as `x` in this case) you are referring in your code. Let's break down the rules:\n",
    "\n",
    "1. Name Assignments will create or change local names by default\n",
    "2. Name References Search for scope\n",
    "    - local ( x랑은 다르게 오직 enclosing function 내부에만 있는 변수 y = 10)\n",
    "    - enclosing function ( def나, lambda 들어 있는거)\n",
    "    - global ( x = 5)\n",
    "    - bulit-in (print, len, append, 파이썬 내부적으로 존재하는거)\n",
    "3. Names Declaraed in global and non-local statements map assigned names to enclosing module and function scopes\n",
    "\n",
    "### LEGB Rule:\n",
    "\n",
    "L: Local \n",
    "- Names Assigned in any way within in a function (`def` or `lambda`), not declared global in that function (x랑은 다르게 오직 enclosing function 내부에만 있는 변수 y = 10)\n",
    "\n",
    "E: Enclosing Function Locals\n",
    "- Names in the local scope of any and all enclosing functions (`def` or `lambda`), from inner to other\n",
    "\n",
    "G: Global (module)\n",
    "- Names assigned at the top-level of a module file, or declared in a def within in the file\n",
    "\n",
    "B: Built-in (Python)\n",
    "- Names preassigned in the built-in names module: open, range, SyntaxError, print..."
   ]
  },
  {
   "cell_type": "markdown",
   "metadata": {},
   "source": [
    "## Local"
   ]
  },
  {
   "cell_type": "code",
   "execution_count": 6,
   "metadata": {},
   "outputs": [],
   "source": [
    "# x is local here:\n",
    "f = lambda x:x**2"
   ]
  },
  {
   "cell_type": "markdown",
   "metadata": {},
   "source": [
    "## Enclosing function locals"
   ]
  },
  {
   "cell_type": "code",
   "execution_count": 22,
   "metadata": {},
   "outputs": [],
   "source": [
    "name = 'This is a global name'\n",
    "\n",
    "def 상호집():\n",
    "    # Enclosing Function\n",
    "    computer = '공용'\n",
    "    # print('treasure', treasure) NameError\n",
    "    \n",
    "    def 상호방():\n",
    "        treasure = \"컴퓨터\"\n",
    "        computer_model = \"lenova\"\n",
    "#       print('name', name)\n",
    "#       print('computer', computer)\n",
    "        return (f\"내 보물은 안알려줄거야 대신에 내 컴퓨터 모델은 알려줄께 {computer_model}\")\n",
    "    \n",
    "    return 상호방\n",
    "    \n",
    "# print('computer', computer)\n",
    "# print('treasure', treasure)"
   ]
  },
  {
   "cell_type": "code",
   "execution_count": 23,
   "metadata": {},
   "outputs": [],
   "source": [
    "a = 상호집()"
   ]
  },
  {
   "cell_type": "code",
   "execution_count": 24,
   "metadata": {},
   "outputs": [
    {
     "data": {
      "text/plain": [
       "'내 보물은 안알려줄거야 대신에 내 컴퓨터 모델은 알려줄께 lenova'"
      ]
     },
     "execution_count": 24,
     "metadata": {},
     "output_type": "execute_result"
    }
   ],
   "source": [
    "a()"
   ]
  },
  {
   "cell_type": "markdown",
   "metadata": {},
   "source": [
    "## Built-in"
   ]
  },
  {
   "cell_type": "code",
   "execution_count": 26,
   "metadata": {},
   "outputs": [
    {
     "data": {
      "text/plain": [
       "3"
      ]
     },
     "execution_count": 26,
     "metadata": {},
     "output_type": "execute_result"
    }
   ],
   "source": [
    "a = [1, 2, 3]\n",
    "len(a)"
   ]
  },
  {
   "cell_type": "markdown",
   "metadata": {},
   "source": [
    "## Local Variables\n",
    "\n",
    "When you declare variables inside a function definition, they are not related in any way to other variables with the same names used outside the function - i.e. variable names are local to the function. This is called `the scope of the variable`. All variables have `the scope of the block` they are declared in starting from point of definition of the name "
   ]
  },
  {
   "cell_type": "code",
   "execution_count": 28,
   "metadata": {},
   "outputs": [
    {
     "name": "stdout",
     "output_type": "stream",
     "text": [
      "x is 50\n",
      "Changed Local x to 2\n",
      "global x 50\n"
     ]
    }
   ],
   "source": [
    "x = 50\n",
    "\n",
    "def func(x):\n",
    "    print('x is', x)\n",
    "    x = 2\n",
    "    print('Changed Local x to', x)\n",
    "    \n",
    "func(x)\n",
    "print('global x', x)"
   ]
  },
  {
   "cell_type": "markdown",
   "metadata": {},
   "source": [
    "- declare: 선언하다, assign: 할당하다, parameter: 인자, display: 보여주다\n",
    "\n",
    "The first time that we print the value of the name `x` with the first line in the function's body, Python uses the value of the parameter declared in the main block, above function definition.\n",
    "\n",
    "Next, we assign the value 2 to `x`. The name `x` is local to our function. So, when we change the value of `x` in the function, the `x` defined in the main block(global) remains unaffected.\n",
    "\n",
    "With the last print statment, we display the value of `x` as defined in the main block(global), thereby confirming that it is actually unaffected by the local assignment within previously called function."
   ]
  },
  {
   "cell_type": "markdown",
   "metadata": {},
   "source": [
    "## The global statement\n",
    "- 함수 내부에서 global 변수의 값을 변경시키고 싶은 경우\n",
    "\n",
    "If you want to assign a value to a name defined at the top of the program(i.e. not inside any kind of scope such as functions or classes), then you have to tell Python that the name is not local, but it is global. We do this using the `global` statement. It is impossible to assign a value to a variable defined outside a function without the global statement.\n",
    "\n",
    "You can use the values of such variables defined outside the function (assuming there is no variable with the same name within function). However, this is not encouraged and should be avoided since it becomes unclear to the read of the program as to where that variable's definition. Using the `global` statemnt makes it amply clear that the variable is defined in an outermost block."
   ]
  },
  {
   "cell_type": "code",
   "execution_count": 30,
   "metadata": {},
   "outputs": [
    {
     "name": "stdout",
     "output_type": "stream",
     "text": [
      "Before Calling func(), x is  50\n",
      "This function is not using the global x 50\n",
      "Because of global x is  50\n",
      "Ran func(), changed global x to  2\n",
      "Value of x (outside of func()) is:  2\n"
     ]
    }
   ],
   "source": [
    "x = 50\n",
    "\n",
    "def func():\n",
    "    global x\n",
    "    print('This function is not using the global x', x)\n",
    "    print('Because of global x is ', x)\n",
    "    x = 2\n",
    "    print('Ran func(), changed global x to ', x)\n",
    "\n",
    "print('Before Calling func(), x is ', x)\n",
    "func()\n",
    "print('Value of x (outside of func()) is: ', x)"
   ]
  },
  {
   "cell_type": "markdown",
   "metadata": {},
   "source": [
    "The `global` statement is used to declare that `x` is a global variable - hence, when we assign a value to `x` inside the function, that change is reflected when we use the value of `x` in the main block(global)."
   ]
  },
  {
   "cell_type": "code",
   "execution_count": null,
   "metadata": {},
   "outputs": [],
   "source": []
  }
 ],
 "metadata": {
  "kernelspec": {
   "display_name": "Python 3",
   "language": "python",
   "name": "python3"
  },
  "language_info": {
   "codemirror_mode": {
    "name": "ipython",
    "version": 3
   },
   "file_extension": ".py",
   "mimetype": "text/x-python",
   "name": "python",
   "nbconvert_exporter": "python",
   "pygments_lexer": "ipython3",
   "version": "3.8.5"
  }
 },
 "nbformat": 4,
 "nbformat_minor": 4
}
