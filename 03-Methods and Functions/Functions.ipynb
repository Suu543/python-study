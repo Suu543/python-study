{
 "cells": [
  {
   "cell_type": "markdown",
   "metadata": {},
   "source": [
    "## Functions\n",
    "`함수(Function)`는 다음 단계로 동작합니다.\n",
    "1. 데이터를 받고\n",
    "2. 데이터를 내부 로직에 따라 처리하고\n",
    "3. 처리를 완료한 데이터를 리턴한다\n",
    "\n",
    "우리 삶에서 가장 쉽게 찾아볼 수 있는 `함수(Function)`는 계산기입니다. 계산기의 내부 사칙연산 로직은 동일합니다. 달라지는 것은 입력하는 숫자(데이터) 입니다. 이 계산기 또한 함수라고 간주할 수 있습니다.\n",
    "\n",
    "1. `함수(Function)` 정의\n",
    "2. `함수(Function)`의 `parameters(인자)`\n",
    "3. `print` vs `return`\n",
    "4. `함수(Function)`는 값으로 간주해도 무방하다"
   ]
  },
  {
   "cell_type": "markdown",
   "metadata": {},
   "source": [
    "## `함수(Function)` 정의\n",
    "\n",
    "`함수(Function)`를 정의할 때는 `def` 키워드를 사용한다"
   ]
  },
  {
   "cell_type": "code",
   "execution_count": 1,
   "metadata": {},
   "outputs": [],
   "source": [
    "# 1. def 키워드를 사용해 함수를 정의한다.\n",
    "# 2. 정의한 함수의 이름을 정의한다.\n",
    "# 3. 정의한 함수가 두 개의 데이터를 받을 수 있도록 다음과 같이 (arg1, arg2) 인자를 정의한다.\n",
    "# 4. 입력받은 데이터를 이용해 내부 로직을 실행하고 return을 이용해 결과를 전달한다.\n",
    "def addNumbers(arg1, arg2):\n",
    "    return arg1 + arg2"
   ]
  },
  {
   "cell_type": "code",
   "execution_count": 2,
   "metadata": {},
   "outputs": [
    {
     "name": "stdout",
     "output_type": "stream",
     "text": [
      "3\n"
     ]
    }
   ],
   "source": [
    "# 함수를 실행할 때는 \n",
    "# 1. 함수 이름을 적는다.\n",
    "# 2. 인자를 전달한다.\n",
    "# 3. ()를 이용해 함수를 실행한다.\n",
    "# 4. 리턴 한 값을 담을 변수를 정의한다\n",
    "result = addNumbers(1, 2)\n",
    "print(result)"
   ]
  },
  {
   "cell_type": "code",
   "execution_count": 4,
   "metadata": {},
   "outputs": [
    {
     "name": "stdout",
     "output_type": "stream",
     "text": [
      "Hello World\n"
     ]
    }
   ],
   "source": [
    "def makeFullName(firstName, lastName):\n",
    "    return firstName + \" \"+ lastName\n",
    "\n",
    "fullName = makeFullName(\"Hello\", \"World\")\n",
    "print(fullName)"
   ]
  },
  {
   "cell_type": "code",
   "execution_count": 5,
   "metadata": {},
   "outputs": [
    {
     "name": "stdout",
     "output_type": "stream",
     "text": [
      "30\n"
     ]
    }
   ],
   "source": [
    "def multiplyNumbers(arg1, arg2):\n",
    "    return arg1 * arg2\n",
    "\n",
    "result = multiplyNumbers(5, 6)\n",
    "print(result)"
   ]
  },
  {
   "cell_type": "code",
   "execution_count": 8,
   "metadata": {},
   "outputs": [
    {
     "name": "stdout",
     "output_type": "stream",
     "text": [
      "Hello, Yongsu\n"
     ]
    }
   ],
   "source": [
    "def makeGreetingWithName(name, greeting):\n",
    "    return f\"{greeting}, {name}\"\n",
    "\n",
    "result = makeGreetingWithName(\"Yongsu\", \"Hello\")\n",
    "print(result)"
   ]
  },
  {
   "cell_type": "code",
   "execution_count": 11,
   "metadata": {},
   "outputs": [],
   "source": [
    "def multiplicationTable(num):\n",
    "    for i in range(1, 10):\n",
    "        print(f\"{num} * {i} = {num * i}\")\n",
    "    print(\"\\n\")\n",
    "    return"
   ]
  },
  {
   "cell_type": "code",
   "execution_count": 13,
   "metadata": {},
   "outputs": [
    {
     "name": "stdout",
     "output_type": "stream",
     "text": [
      "계산하고 싶은 단을 입력해주세요 - 멈추고 싶으면 0 입력: 0\n",
      "계산을 종료하겠습니다...\n"
     ]
    }
   ],
   "source": [
    "while True:\n",
    "    stage = int(input(\"계산하고 싶은 단을 입력해주세요 - 멈추고 싶으면 0 입력: \"))\n",
    "    \n",
    "    if stage == 0:\n",
    "        print(\"계산을 종료하겠습니다...\")\n",
    "        break\n",
    "    \n",
    "    multiplicationTable(stage)"
   ]
  },
  {
   "cell_type": "markdown",
   "metadata": {},
   "source": [
    "### 함수(Function)는 값으로 사용된다\n",
    "\n",
    "1. `함수(Function)`는 다른 함수의 리턴 값이 될 수 있다.\n",
    "2. `함수(Function)`는 다른 함수의 인자 값이 될 수 있다.\n",
    "3. `함수(Function)`는 변수에 할당할 수 있다."
   ]
  },
  {
   "cell_type": "markdown",
   "metadata": {},
   "source": [
    "### 1. 함수가 다른 함수의 리턴 값이 되는 경우"
   ]
  },
  {
   "cell_type": "code",
   "execution_count": 46,
   "metadata": {},
   "outputs": [
    {
     "name": "stdout",
     "output_type": "stream",
     "text": [
      "<function respond at 0x00000182CEEE5EE0>\n",
      "Hello, Yongsu\n"
     ]
    }
   ],
   "source": [
    "# A라는 사람이 출근을 했다. 출근과 동시에 오늘 할 업무를 확인했고, \n",
    "# 고객님에게 인사를 하는 것이 오늘의 업무였다.\n",
    "# request 함수에게 오늘의 일에 사용할 수 있는 도구를 요청한다.\n",
    "\n",
    "def respond(name):\n",
    "    return f\"Hello, {name}\"\n",
    "\n",
    "def request():\n",
    "    return respond\n",
    "\n",
    "# request 함수를 이용해 오늘의 일에 사용할 수 있는 도구를 요청한다\n",
    "# 고객이 사이트를 방문했다, A는 고객 이름을 확인하고,\n",
    "# tool을 이용해 고객에게 할 인사를 만들고 출력한다\n",
    "tool = request()\n",
    "print(tool)\n",
    "greeting = tool(\"Yongsu\")\n",
    "print(greeting)"
   ]
  },
  {
   "cell_type": "markdown",
   "metadata": {},
   "source": [
    "### 2. 함수가 다른 함수의 인자 값이 되는 경우"
   ]
  },
  {
   "cell_type": "code",
   "execution_count": 48,
   "metadata": {},
   "outputs": [
    {
     "name": "stdout",
     "output_type": "stream",
     "text": [
      "<function openInfo at 0x00000182CF0D7040>\n",
      "This is Yongsu's Info\n"
     ]
    }
   ],
   "source": [
    "# A가 클릭을 하면, 앞에 있는 고객의 정보를 열람할 수 있는 도구를 받는다\n",
    "# A는 출근과 동시에 클릭을 통해 도구를 받고, \n",
    "# 고객이 들어오면, 고객의 이름을 확인하고 이 도구를 사용해 고객의 정보를 확인한다.\n",
    "def openInfo(name):\n",
    "    return f\"This is {name}'s Info\" \n",
    "\n",
    "def onClick(f1):    \n",
    "    return f1\n",
    "\n",
    "tool = onClick(openInfo)\n",
    "print(tool)\n",
    "getInfo = tool(\"Yongsu\")\n",
    "print(getInfo)"
   ]
  },
  {
   "cell_type": "markdown",
   "metadata": {},
   "source": [
    "### 3. 함수를 변수에 할당하는 경우\n",
    "\n",
    "이 시점에 다음과 같은 의문이 들 수 있다. \n",
    "1. 이미 함수명을 정의했는데 굳이 또 그 함수를 변수에 할당할 필요가 있는가?\n",
    "2. 위의 두 번째 함수가 다른 함수의 인자 값이 되는 경우 혹은 함수가 다른 함수의 리턴 값이 되는 경우에서 볼 수 있듯, 굳이 `returnFirstFunc & returnSecondFunc`라는 함수명이 존재하는데, 인자값 `f1 & f2`로 변경해 중복 사용해야 하는가? 혹은 리턴 값으로 함수를 리턴할 때 굳이 기존에 존재하는 것을 리턴해야 하는가? 하는 의문이 든다.\n",
    "\n",
    "결국 모든 문제의 원인은 이미 이름이 존재하는데 왜 다른 이름으로 불러야 하는가에서 온다. 이러한 상황을 근본적으로 해결하는 방법은 `익명 함수(Anonymous Function)`을 사용하는 것이다. \n",
    "\n",
    "`Python`에서 `익명 함수(Anonymous Function)`는 `Lambda`라는 이름으로 사용된다"
   ]
  },
  {
   "cell_type": "markdown",
   "metadata": {},
   "source": [
    "### Lambda\n",
    "\n",
    "`Lambda`는 `익명 함수(Anonymous Function)`다. `a block of statements (여러 줄)` 대신에 `single expression (한 줄)`으로 표현한다는 특징을 가진다. 한 번 작성해보자."
   ]
  },
  {
   "cell_type": "code",
   "execution_count": 23,
   "metadata": {},
   "outputs": [
    {
     "data": {
      "text/plain": [
       "4"
      ]
     },
     "execution_count": 23,
     "metadata": {},
     "output_type": "execute_result"
    }
   ],
   "source": [
    "# 기존 함수 정의 방식 - Version 1\n",
    "def square_version_one(num):\n",
    "    result = num ** 2\n",
    "    return result\n",
    "\n",
    "# 기존 함수 정의 방식 - Version 2\n",
    "def square_version_second(num):\n",
    "    return num ** 2\n",
    "\n",
    "# 기존 함수 정의 방식 - Version 3\n",
    "def square_version_third(num): return num **2\n",
    "\n",
    "# 익명 함수(Anonymous Function) Lambda 사용 방식\n",
    "# 함수를 변수에 할당하는 경우\n",
    "square = lambda num: num ** 2\n",
    "square(2)"
   ]
  },
  {
   "cell_type": "code",
   "execution_count": 47,
   "metadata": {},
   "outputs": [
    {
     "name": "stdout",
     "output_type": "stream",
     "text": [
      "<function request.<locals>.<lambda> at 0x00000182CEEE5A60>\n",
      "Hello, Yongsu\n"
     ]
    }
   ],
   "source": [
    "# 1. 함수가 다른 함수의 리턴 값이 되는 경우 \n",
    "# 1번 방식에 lambda 적용하기\n",
    "\n",
    "# def response(name):\n",
    "#    return f\"Hello, {name}\"\n",
    "\n",
    "def request():\n",
    "    return lambda name: f\"Hello, {name}\" \n",
    "\n",
    "# 리턴 한 익명 함수 (lambda)는 tool라는 이름으로 사용 가능하다\n",
    "tool = request()\n",
    "print(tool)\n",
    "greeting = tool(\"Yongsu\")\n",
    "print(greeting)"
   ]
  },
  {
   "cell_type": "code",
   "execution_count": 49,
   "metadata": {},
   "outputs": [
    {
     "name": "stdout",
     "output_type": "stream",
     "text": [
      "<function <lambda> at 0x00000182CF0D7160>\n",
      "Hello, Yongsu\n"
     ]
    }
   ],
   "source": [
    "# 2. 함수가 다른 함수의 인자 값이 되는 경우\n",
    "# 2번 방식에 lambda 적용하기\n",
    "\n",
    "# def openInfo(name):\n",
    "#    return f\"Hello, {name}\"\n",
    "\n",
    "def onClick(f1):    \n",
    "    return f1\n",
    "\n",
    "tool = onClick(lambda name: f\"Hello, {name}\")\n",
    "print(tool)\n",
    "getInfo = tool(\"Yongsu\")\n",
    "print(getInfo)"
   ]
  },
  {
   "cell_type": "code",
   "execution_count": 52,
   "metadata": {},
   "outputs": [
    {
     "name": "stdout",
     "output_type": "stream",
     "text": [
      "4\n",
      "25\n"
     ]
    }
   ],
   "source": [
    "# 3. 변수에 함수를 할당하는 경우\n",
    "square = lambda length : length ** 2\n",
    "print(square(2))\n",
    "\n",
    "# lambda에 두 개 이상의 인자를 사용하는 경우\n",
    "multiply = lambda num1, num2: num1 * num2 \n",
    "print(multiply(5, 5))"
   ]
  },
  {
   "cell_type": "code",
   "execution_count": 53,
   "metadata": {},
   "outputs": [],
   "source": [
    "# https://www.guru99.com/python-lambda-function.html\n",
    "# method를 설명할 때는 dictionary에 함수를 넣어서 설명하면된다"
   ]
  }
 ],
 "metadata": {
  "kernelspec": {
   "display_name": "Python 3",
   "language": "python",
   "name": "python3"
  },
  "language_info": {
   "codemirror_mode": {
    "name": "ipython",
    "version": 3
   },
   "file_extension": ".py",
   "mimetype": "text/x-python",
   "name": "python",
   "nbconvert_exporter": "python",
   "pygments_lexer": "ipython3",
   "version": "3.8.5"
  }
 },
 "nbformat": 4,
 "nbformat_minor": 4
}
