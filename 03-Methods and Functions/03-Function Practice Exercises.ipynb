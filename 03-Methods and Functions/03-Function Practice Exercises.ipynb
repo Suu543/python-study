{
 "cells": [
  {
   "cell_type": "markdown",
   "metadata": {},
   "source": [
    "### Warmup\n",
    "`lesser_of_two_evens` 함수는 두 개의 인자값을 받는데, 두 개의 인자 중 하나만 홀수라면, 홀수 값을 출력하고, 두 개 다 홀수라면 둘 중 큰 수를 출력하고, 두 개 다 짝수라면 둘 중 작은 숫자를 출력하시오.\n",
    "\n",
    "lesser_of_two_evens(2, 4) --> 2\n",
    "lesser_of_two_evens(2, 5) --> 5"
   ]
  },
  {
   "cell_type": "code",
   "execution_count": null,
   "metadata": {},
   "outputs": [],
   "source": [
    "def lesser_of_two_evens(a, b):\n",
    "    # 여기에 로직 작성"
   ]
  },
  {
   "cell_type": "code",
   "execution_count": null,
   "metadata": {},
   "outputs": [],
   "source": [
    "# check\n",
    "lesser_of_two_evens(2, 4)"
   ]
  },
  {
   "cell_type": "code",
   "execution_count": null,
   "metadata": {},
   "outputs": [],
   "source": [
    "lesser_of_two_evens(2, 5)"
   ]
  },
  {
   "cell_type": "markdown",
   "metadata": {},
   "source": [
    "### Animal Crackers\n",
    "\n",
    "두 단어로 구성된 스트링을 하나를 인자값으로 받고, 두 단어가 똑같은 단어로 시작한다면 True를 리턴, 그렇지 않다면 False를 리턴\n",
    "\n",
    "- animal_crackers(\"LevelHeaded Llama\") --> True\n",
    "- animal_crackers(\"Crazy Kangaroo\") --> False"
   ]
  },
  {
   "cell_type": "code",
   "execution_count": null,
   "metadata": {},
   "outputs": [],
   "source": [
    "def animal_crackers(text):\n",
    "    # 여기에 로직 작성"
   ]
  },
  {
   "cell_type": "code",
   "execution_count": null,
   "metadata": {},
   "outputs": [],
   "source": [
    "animal_crackers('Levelheaded Llama')"
   ]
  },
  {
   "cell_type": "code",
   "execution_count": null,
   "metadata": {},
   "outputs": [],
   "source": [
    "animal_crackers('Crazy Kangaroo')"
   ]
  },
  {
   "cell_type": "markdown",
   "metadata": {},
   "source": [
    "### Makes Twenty\n",
    "두 개의 숫자를 인자값으로 받고, 두 개의 숫자의 합이 20이거나 혹은 두 개의 숫자중 하나가 20인 경우 `True`를 리턴 그렇지 않은 경우 `False`를 리턴\n",
    "\n",
    "- makes_twenty(20,10) --> True\n",
    "- makes_twenty(12,8) --> True\n",
    "- makes_twenty(2,3) --> False"
   ]
  },
  {
   "cell_type": "code",
   "execution_count": null,
   "metadata": {},
   "outputs": [],
   "source": [
    "def makes_twenty(n1,n2):\n",
    "    # 여기에 로직 작성"
   ]
  },
  {
   "cell_type": "code",
   "execution_count": null,
   "metadata": {},
   "outputs": [],
   "source": [
    "makes_twenty(20,10)"
   ]
  },
  {
   "cell_type": "code",
   "execution_count": null,
   "metadata": {},
   "outputs": [],
   "source": [
    "makes_twenty(2,3)"
   ]
  },
  {
   "cell_type": "markdown",
   "metadata": {},
   "source": [
    "# Level 1 Problems\n",
    "\n",
    "### OLD MACDONALD: \n",
    "- 10글자 이상의 문자열을(스트링)을 인자로 입력받고, 첫번째와 네번째 글자를 대문자로 변경해 리턴하는 함수를 작성하세요\n",
    "\n",
    "- Hint: 문자열에 사용할 수 있는 메소드 .capitalize()를 사용하면 첫번째 글자를 대문자로 변경할 수 있다. 또한 문자열(스트링)은 값의 추가는 가능하지만 변경은 불가능하다\n",
    "- Note: 'macdonald'.capitalize() returns 'Macdonald'"
   ]
  },
  {
   "cell_type": "code",
   "execution_count": null,
   "metadata": {},
   "outputs": [],
   "source": [
    "def old_macdonald(name):\n",
    "    # 여기에 로직 작성"
   ]
  },
  {
   "cell_type": "code",
   "execution_count": null,
   "metadata": {},
   "outputs": [],
   "source": [
    "old_macdonald('macdonald')"
   ]
  },
  {
   "cell_type": "markdown",
   "metadata": {},
   "source": [
    "### MASTER YODA \n",
    "- 하나의 인자로 문자열(스트링)을 받아 반대로 출력하시오\n",
    "\n",
    "- master_yoda('I am home') --> 'home am I'\n",
    "- master_yoda('We are ready') --> 'ready are We'"
   ]
  },
  {
   "cell_type": "code",
   "execution_count": null,
   "metadata": {},
   "outputs": [],
   "source": [
    "master_yoda('I am home')"
   ]
  },
  {
   "cell_type": "code",
   "execution_count": null,
   "metadata": {},
   "outputs": [],
   "source": [
    "master_yoda('We are ready')"
   ]
  },
  {
   "cell_type": "markdown",
   "metadata": {},
   "source": [
    "### Almost There: \n",
    "- 하나의 정수를 인자로 받는 함수다. 만약 이 숫자가 100 or 200 으로 부터 +10 or -10 이내에 존재한다면 True를 출력 그렇지 않다면 False를 출력\n",
    "\n",
    "- almost_there(90) --> True\n",
    "- almost_there(104) --> True\n",
    "- almost_there(150) --> False\n",
    "- almost_there(209) --> True"
   ]
  },
  {
   "cell_type": "code",
   "execution_count": null,
   "metadata": {},
   "outputs": [],
   "source": [
    "def almost_there(n):\n",
    "    # 여기에 로직 작성"
   ]
  },
  {
   "cell_type": "code",
   "execution_count": null,
   "metadata": {},
   "outputs": [],
   "source": [
    "almost_there(104)"
   ]
  },
  {
   "cell_type": "code",
   "execution_count": null,
   "metadata": {},
   "outputs": [],
   "source": [
    "almost_there(150)"
   ]
  },
  {
   "cell_type": "code",
   "execution_count": null,
   "metadata": {},
   "outputs": [],
   "source": [
    "almost_there(209)"
   ]
  }
 ],
 "metadata": {
  "kernelspec": {
   "display_name": "Python 3",
   "language": "python",
   "name": "python3"
  },
  "language_info": {
   "codemirror_mode": {
    "name": "ipython",
    "version": 3
   },
   "file_extension": ".py",
   "mimetype": "text/x-python",
   "name": "python",
   "nbconvert_exporter": "python",
   "pygments_lexer": "ipython3",
   "version": "3.8.5"
  }
 },
 "nbformat": 4,
 "nbformat_minor": 4
}
