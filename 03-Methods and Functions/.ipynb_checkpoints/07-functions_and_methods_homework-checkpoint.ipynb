{
 "cells": [
  {
   "cell_type": "markdown",
   "metadata": {},
   "source": [
    "## Functions and Methods Homework"
   ]
  },
  {
   "cell_type": "markdown",
   "metadata": {},
   "source": [
    "### Practice 1\n",
    "\n",
    "- ran_check 함수는 세 개의 인자값을 받는다. num, low, high,\n",
    "- ran_check(5, 2, 7) --> 5는 2와 7사이에 존재합니다.\n",
    "- ran_check(9, 2, 7) --> 9는 2와 7사이에 존재하지 않습니다.\n",
    "\n",
    "    def ran_check(num, low, high):"
   ]
  },
  {
   "cell_type": "code",
   "execution_count": 3,
   "metadata": {},
   "outputs": [],
   "source": [
    "def ran_check(num, low, high):\n",
    "    pass"
   ]
  },
  {
   "cell_type": "markdown",
   "metadata": {},
   "source": [
    "### Practice 2\n",
    "--------------------------------------------------------------------------------------------------------\n",
    "##### Write a Python function that accepts a string and calculates the number of uppercase letters and lower case letters \n",
    "\n",
    "##### 문자열 하나를 인자로 받는 함수입니다. 이 함수는 문자열에 포함된 소문자 개수와 대문자 개수를 측정해 리턴하는 함수입니다.\n",
    "\n",
    "    Sample String: \"Hello World This is Such a beautiful World\"\n",
    "    결과\n",
    "    대문자 개수: 5\n",
    "    소문자 개수: xx\n",
    "    \n",
    "- https://www.kite.com/python/answers/how-to-check-if-a-string-is-upper,-lower,-or-mixed-case-in-python"
   ]
  },
  {
   "cell_type": "code",
   "execution_count": 4,
   "metadata": {},
   "outputs": [],
   "source": [
    "def up_low(x):\n",
    "    pass"
   ]
  },
  {
   "cell_type": "markdown",
   "metadata": {},
   "source": [
    "### Practice3\n",
    "\n",
    "----------------------------------------------------------------------------------\n",
    "Write a Python function to multiply all the numbers in a list\n",
    "\n",
    "리스트를 인풋으로 받고 리스트 모든 요소의 곱을 리턴값으로 출력하는 함수를 작성하세요\n",
    "\n",
    "예시\n",
    "\n",
    "Sample List: [1, 2, 3, -4]\n",
    "결과: -24"
   ]
  },
  {
   "cell_type": "code",
   "execution_count": 1,
   "metadata": {},
   "outputs": [],
   "source": [
    "def multiply(numbers):\n",
    "    pass"
   ]
  },
  {
   "cell_type": "code",
   "execution_count": 2,
   "metadata": {},
   "outputs": [],
   "source": [
    "multiply([1, 2, 3, -4])\n",
    "# 24 출력"
   ]
  },
  {
   "cell_type": "markdown",
   "metadata": {},
   "source": [
    "### Practice4"
   ]
  },
  {
   "cell_type": "markdown",
   "metadata": {},
   "source": [
    "Write a Python function that checks whether a word or phrase is palindrome or not.\n",
    "\n",
    "Note: A palindrome is word, phrase, or sequence that reads the same backward as forward, e.g., madam,kayak,racecar, or a phrase \"nurses run\". Hint: You may want to check out the .replace() method in a string to help out with dealing with spaces. Also google search how to reverse a string in Python, there are some clever ways to do it with slicing notation."
   ]
  },
  {
   "cell_type": "code",
   "execution_count": 1,
   "metadata": {},
   "outputs": [],
   "source": [
    "def palindrome(s):\n",
    "    pass"
   ]
  },
  {
   "cell_type": "code",
   "execution_count": 2,
   "metadata": {},
   "outputs": [],
   "source": [
    "palindrome('helleh')"
   ]
  },
  {
   "cell_type": "code",
   "execution_count": null,
   "metadata": {},
   "outputs": [],
   "source": []
  }
 ],
 "metadata": {
  "kernelspec": {
   "display_name": "Python 3",
   "language": "python",
   "name": "python3"
  },
  "language_info": {
   "codemirror_mode": {
    "name": "ipython",
    "version": 3
   },
   "file_extension": ".py",
   "mimetype": "text/x-python",
   "name": "python",
   "nbconvert_exporter": "python",
   "pygments_lexer": "ipython3",
   "version": "3.8.5"
  }
 },
 "nbformat": 4,
 "nbformat_minor": 4
}
