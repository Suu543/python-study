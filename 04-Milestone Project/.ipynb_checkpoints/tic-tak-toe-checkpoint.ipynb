{
 "cells": [
  {
   "cell_type": "code",
   "execution_count": 3,
   "metadata": {},
   "outputs": [],
   "source": [
    "# IPython 이라는 도서관으로부터 clear_output 이라는 함수(메소드)를 가지고 오겠습니다\n",
    "from IPython.display import clear_output"
   ]
  },
  {
   "cell_type": "code",
   "execution_count": 8,
   "metadata": {},
   "outputs": [],
   "source": [
    "def display_board(board):\n",
    "    # 이거는 Jupyter 에서만 동작해\n",
    "    clear_output()\n",
    "    \n",
    "    print('   |   |')\n",
    "    print(' ' + board[6] + ' | ' + board[7] + ' | ' + board[8])\n",
    "    print('   |   |')\n",
    "    print('------------')\n",
    "    print('   |   |')\n",
    "    print(' ' + board[3] + ' | ' + board[4] + ' | ' + board[5])\n",
    "    print('   |   |')\n",
    "    print('------------')\n",
    "    print('   |   |')\n",
    "    print(' ' + board[0] + ' | ' + board[1] + ' | ' + board[2])\n",
    "    print('   |   |')"
   ]
  },
  {
   "cell_type": "code",
   "execution_count": 11,
   "metadata": {},
   "outputs": [
    {
     "name": "stdout",
     "output_type": "stream",
     "text": [
      "   |   |\n",
      "   |   |  \n",
      "   |   |\n",
      "------------\n",
      "   |   |\n",
      "   |   |  \n",
      "   |   |\n",
      "------------\n",
      "   |   |\n",
      "   |   |  \n",
      "   |   |\n"
     ]
    }
   ],
   "source": [
    "test_board = [' ', ' ', ' ', ' ', ' ', ' ', ' ', ' ', ' ']\n",
    "display_board(test_board)"
   ]
  },
  {
   "cell_type": "code",
   "execution_count": 15,
   "metadata": {},
   "outputs": [],
   "source": [
    "# 이번에는 o or x 중에 어느 것을 할지 선정해야한다\n",
    "def player_input():\n",
    "    marker = ''\n",
    "    \n",
    "    while not (marker == 'X' or marker == 'O'):\n",
    "        # 조건에 대문자를 사용하기 때문에, 사용자가 소문자로 입력하는 경우를 대비해 자동으로 대문자로 변환해주자 upper\n",
    "        marker = input('Player 1: Do you want to be X or O').upper()\n",
    "        \n",
    "    if marker == 'X':\n",
    "        return ('X', 'O')\n",
    "    else:\n",
    "        return ('O', 'X')    "
   ]
  },
  {
   "cell_type": "code",
   "execution_count": null,
   "metadata": {},
   "outputs": [],
   "source": []
  }
 ],
 "metadata": {
  "kernelspec": {
   "display_name": "Python 3",
   "language": "python",
   "name": "python3"
  },
  "language_info": {
   "codemirror_mode": {
    "name": "ipython",
    "version": 3
   },
   "file_extension": ".py",
   "mimetype": "text/x-python",
   "name": "python",
   "nbconvert_exporter": "python",
   "pygments_lexer": "ipython3",
   "version": "3.8.5"
  }
 },
 "nbformat": 4,
 "nbformat_minor": 4
}
