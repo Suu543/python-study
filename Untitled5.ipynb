{
 "cells": [
  {
   "cell_type": "code",
   "execution_count": 8,
   "metadata": {},
   "outputs": [
    {
     "ename": "SyntaxError",
     "evalue": "invalid syntax (<ipython-input-8-aed1d4aea4f8>, line 5)",
     "output_type": "error",
     "traceback": [
      "\u001b[1;36m  File \u001b[1;32m\"<ipython-input-8-aed1d4aea4f8>\"\u001b[1;36m, line \u001b[1;32m5\u001b[0m\n\u001b[1;33m    1. string,\u001b[0m\n\u001b[1;37m       ^\u001b[0m\n\u001b[1;31mSyntaxError\u001b[0m\u001b[1;31m:\u001b[0m invalid syntax\n"
     ]
    }
   ],
   "source": [
    "# 조건문 - if, elif, else\n",
    "# 반복만\n",
    "# 반복할 수 있다 \n",
    "# - 1. 순회할 수 있다는 조건이 성립해야한다\n",
    "1. string,\n",
    "2. list\n",
    "3. tuple\n",
    "4. dicitionary"
   ]
  },
  {
   "cell_type": "code",
   "execution_count": 9,
   "metadata": {},
   "outputs": [
    {
     "name": "stdout",
     "output_type": "stream",
     "text": [
      "H\n",
      "e\n",
      "l\n",
      "l\n",
      "o\n",
      " \n",
      "W\n",
      "o\n",
      "r\n",
      "l\n",
      "d\n",
      " \n",
      "T\n",
      "h\n",
      "i\n",
      "s\n",
      " \n",
      "i\n",
      "s\n",
      " \n",
      "S\n",
      "u\n",
      "c\n",
      "h\n",
      " \n",
      "a\n",
      " \n",
      "b\n",
      "e\n",
      "a\n",
      "u\n",
      "t\n",
      "i\n",
      "f\n",
      "u\n",
      "l\n",
      " \n",
      "d\n",
      "a\n",
      "y\n"
     ]
    }
   ],
   "source": [
    "a = \"Hello World This is Such a beautiful day\"\n",
    "# character = char\n",
    "for char in a:\n",
    "    print(char)"
   ]
  },
  {
   "cell_type": "code",
   "execution_count": 10,
   "metadata": {},
   "outputs": [
    {
     "name": "stdout",
     "output_type": "stream",
     "text": [
      "4\n"
     ]
    }
   ],
   "source": [
    "# 특정 글자 수 세기 프로그램\n",
    "# 특정 문자열에 a라는 글자가 몇개 들어가는지 출력해주는 프로그램 만들기\n",
    "count = 0\n",
    "test = \"ab dkaopdkwop a kpok b a\"\n",
    " \n",
    "for char in test:\n",
    "    if (char == 'a'):\n",
    "        count = count + 1\n",
    "\n",
    "print(count)"
   ]
  },
  {
   "cell_type": "code",
   "execution_count": 11,
   "metadata": {},
   "outputs": [
    {
     "name": "stdout",
     "output_type": "stream",
     "text": [
      "1\n",
      "2\n",
      "3\n",
      "4\n",
      "5\n",
      "6\n",
      "7\n",
      "8\n",
      "9\n",
      "10\n"
     ]
    }
   ],
   "source": [
    "# list\n",
    "test_list = [1, 2, 3, 4, 5, 6, 7, 8, 9, 10]\n",
    "\n",
    "for num in test_list:\n",
    "    print(num)"
   ]
  },
  {
   "cell_type": "code",
   "execution_count": 14,
   "metadata": {},
   "outputs": [
    {
     "name": "stdout",
     "output_type": "stream",
     "text": [
      "2\n",
      "4\n",
      "6\n",
      "8\n",
      "10\n",
      "홀수의 총합: 25, 짝수의 총합: 30\n"
     ]
    }
   ],
   "source": [
    "# [1, 2, 3, 4, 5, 6, 7, 8, 9, 10]\n",
    "# 1. 해당 리스트에 존재하는 짝수인 숫자를 출력하세요\n",
    "test_list = [1, 2, 3, 4, 5, 6, 7, 8, 9, 10]\n",
    "for i in test_list:\n",
    "    if i % 2 == 0:\n",
    "        print(i)\n",
    "\n",
    "# 2. 해당 리스트에 존재하는 모든 홀수의 합\n",
    "# 3. 해당 리스트에 존재하는 모든 짝수의 합\n",
    "odd_sum = 0\n",
    "even_sum = 0\n",
    "test_list = [1, 2, 3, 4, 5, 6, 7, 8, 9, 10]\n",
    "\n",
    "for i in test_list:\n",
    "    if i % 2 == 1:\n",
    "        odd_sum = odd_sum + i\n",
    "    \n",
    "    elif i % 2 == 0:\n",
    "        even_sum = even_sum + i\n",
    "    \n",
    "print(f'홀수의 총합: {odd_sum}, 짝수의 총합: {even_sum}')"
   ]
  },
  {
   "cell_type": "code",
   "execution_count": 17,
   "metadata": {},
   "outputs": [
    {
     "name": "stdout",
     "output_type": "stream",
     "text": [
      "-1\n"
     ]
    }
   ],
   "source": [
    "# [1, 5, 2, 6, 8, 11, 2, 3, 5]\n",
    "# for 문을 이용해서 이 list에서 최대값을 찾아주세요!\n",
    "test_list = [-1, -5, -2, -6, -8, -11, -2, -3, -5]\n",
    "# 1번 - 낭비되는 데이터는 없다\n",
    "max_value = float(\"-inf\")\n",
    "# 2번 - 필연적으로 자기 자신과 비교를 해야한다 (1번의 동작이 쓸모없어진다 - 낭비된다)\n",
    "max_value = test_list[0]\n",
    "\n",
    "for i in test_list:\n",
    "    if i > max_value:\n",
    "        max_value = i\n",
    "\n",
    "print(max_value)"
   ]
  },
  {
   "cell_type": "code",
   "execution_count": 18,
   "metadata": {},
   "outputs": [
    {
     "name": "stdout",
     "output_type": "stream",
     "text": [
      "-11\n"
     ]
    }
   ],
   "source": [
    "# [1, 5, 2, 6, 8, 11, 2, 3, 5]\n",
    "# for 문을 이용해서 이 list에서 최대값을 찾아주세요!\n",
    "test_list = [-1, -5, -2, -6, -8, -11, -2, -3, -5]\n",
    "# 1번 - 낭비되는 데이터는 없다\n",
    "min_value = float(\"-inf\")\n",
    "# 2번 - 필연적으로 자기 자신과 비교를 해야한다 (1번의 동작이 쓸모없어진다 - 낭비된다)\n",
    "min_value = test_list[0]\n",
    "\n",
    "for i in test_list:\n",
    "    if i < min_value:\n",
    "        min_value = i\n",
    "\n",
    "print(min_value)"
   ]
  },
  {
   "cell_type": "code",
   "execution_count": 20,
   "metadata": {},
   "outputs": [
    {
     "name": "stdout",
     "output_type": "stream",
     "text": [
      "1\n",
      "2\n",
      "3\n",
      "4\n",
      "5\n"
     ]
    }
   ],
   "source": [
    "# tuple\n",
    "a = (1, 2, 3, 4, 5)\n",
    "\n",
    "for elem in a:\n",
    "    print(elem)"
   ]
  },
  {
   "cell_type": "code",
   "execution_count": 24,
   "metadata": {},
   "outputs": [
    {
     "name": "stdout",
     "output_type": "stream",
     "text": [
      "k1\n",
      "k2\n",
      "k3\n",
      "1\n",
      "2\n",
      "3\n"
     ]
    }
   ],
   "source": [
    "d = {\"k1\": 1, \"k2\": 2, \"k3\": 3}\n",
    "\n",
    "for key in d:\n",
    "    print(key)\n",
    "    \n",
    "for key in d:\n",
    "    print(d[key])"
   ]
  },
  {
   "cell_type": "code",
   "execution_count": 25,
   "metadata": {},
   "outputs": [
    {
     "data": {
      "text/plain": [
       "dict_items([('k1', 1), ('k2', 2), ('k3', 3)])"
      ]
     },
     "execution_count": 25,
     "metadata": {},
     "output_type": "execute_result"
    }
   ],
   "source": [
    "d = {\"k1\": 1, \"k2\": 2, \"k3\": 3}\n",
    "d.items()"
   ]
  },
  {
   "cell_type": "code",
   "execution_count": 27,
   "metadata": {},
   "outputs": [
    {
     "name": "stdout",
     "output_type": "stream",
     "text": [
      "k1: 1\n",
      "k2: 2\n",
      "k3: 3\n"
     ]
    }
   ],
   "source": [
    "# Tuple Unpacking - Tuple in List\n",
    "d = {\"k1\": 1, \"k2\": 2, \"k3\": 3}\n",
    "for key, value in d.items():\n",
    "    print(f\"{key}: {value}\")"
   ]
  },
  {
   "cell_type": "code",
   "execution_count": null,
   "metadata": {},
   "outputs": [],
   "source": [
    "1. 비교 하는법\n",
    "<\n",
    ">\n",
    "<=\n",
    ">=\n",
    "==\n",
    "!=\n",
    "and\n",
    "or\n",
    "2. 조건\n",
    "if, elif, else\n",
    "if, elif, elif, elif, else\n",
    "3. 반복문\n",
    "- 1. 순회할 수 있는 데이터 일때\n",
    "- string, list, dictionary, tuple\n",
    "\n",
    "for 임의의이름 in stirng or list dictionay or tuple\n",
    "\n",
    "list == [1, 2, 3]\n",
    "1\n",
    "2\n",
    "3\n",
    "\n",
    "a = \"hello\"\n",
    "h\n",
    "e\n",
    "l\n",
    "l\n",
    "o\n",
    "\n",
    "a = {\"a\": \"dads\", \"b\": 'asdd', \"C\": 'dasd'}\n",
    "a\n",
    "b\n",
    "c\n",
    "a[\"b\"]\n",
    "b[\"b\"]\n",
    "\n",
    "tuple in list ==> Unpacking\n",
    "[(1, 2), (3, 4), (5, 6)]\n",
    "for key, value in a:\n",
    "    key, "
   ]
  }
 ],
 "metadata": {
  "kernelspec": {
   "display_name": "Python 3",
   "language": "python",
   "name": "python3"
  },
  "language_info": {
   "codemirror_mode": {
    "name": "ipython",
    "version": 3
   },
   "file_extension": ".py",
   "mimetype": "text/x-python",
   "name": "python",
   "nbconvert_exporter": "python",
   "pygments_lexer": "ipython3",
   "version": "3.8.5"
  }
 },
 "nbformat": 4,
 "nbformat_minor": 4
}
