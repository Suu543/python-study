{
 "cells": [
  {
   "cell_type": "code",
   "execution_count": 1,
   "metadata": {},
   "outputs": [],
   "source": [
    "# 1. Number - 1, 1.5 DONE\n",
    "# 2. String 'Hello', \"It's me\", '''dadsada''' DONE\n",
    "# 3. List [1, 2.5, \"ea\", [1, 3, 4]] DONE\n",
    "# 4. Dictionary { \"name\": \"su\"} DONE\n",
    "# 5. Tuple (1, 2, 3, 4) - PI, 날짜, 요일 DONE\n",
    "# 6. Set - 집합 --> {1, 1, 1, 2, 3, 4, 5, 6} --> { 1, 2, 3, 4, 5, 6 } DONE\n",
    "# 7. Boolean (True, False) True False DONE"
   ]
  },
  {
   "cell_type": "code",
   "execution_count": 12,
   "metadata": {},
   "outputs": [
    {
     "name": "stdout",
     "output_type": "stream",
     "text": [
      "Hello 무야호\n",
      "Hello World\n"
     ]
    }
   ],
   "source": [
    "# string\n",
    "#- 기존의 값의 삭제 혹은 변경이 불가능하다\n",
    "#- 단, 새로운 값 추가는 가능하다\n",
    "#- indexing, slicing\n",
    "# 길이를 잰다 --> 안에 특정 요소가 몇개있는지 알고싶다 \n",
    "# --> 특정 요소가 어느 위치에 있는가 --> 기존의 무낮열을 변경할 수 없는가(새로운 문자열 생성)\n",
    "#a = \"Hello World\"\n",
    "#print(a.replace('World', \"무야호\"))\n",
    "#print(a)"
   ]
  },
  {
   "cell_type": "code",
   "execution_count": 20,
   "metadata": {},
   "outputs": [],
   "source": [
    "# LIST\n",
    "# - 기존의 값의 삭제 혹은 갱신이 가능하다\n",
    "# - indexing, slicing\n",
    "# - 순서가 중요하다\n",
    "# 끝에 요소를 제거하기 쉽다, 끝에 요소를 추가하기 시팓,\n",
    "# 특정 요소가 몇개인지, 특정 요소의 위치\n",
    "# 특정 인덱스(위치)에 원하는 값을 삽입할 수 있다 insert\n",
    "# 리스트 내부에 값을 이용해서 요소 제거 가능\n",
    "a = [1, 2, 3, 4, 5, 6, 7, 8]\n",
    "a.remove(7)"
   ]
  },
  {
   "cell_type": "code",
   "execution_count": 22,
   "metadata": {},
   "outputs": [
    {
     "data": {
      "text/plain": [
       "[1, 2, 3, 4, 5, 6]"
      ]
     },
     "execution_count": 22,
     "metadata": {},
     "output_type": "execute_result"
    }
   ],
   "source": [
    "a = [1, 2, 3]\n",
    "b = [4, 5, 6]\n",
    "a + b"
   ]
  },
  {
   "cell_type": "code",
   "execution_count": 23,
   "metadata": {},
   "outputs": [
    {
     "data": {
      "text/plain": [
       "['*', '*', '*', '*', '*', '*', '*', '*', '*', '*']"
      ]
     },
     "execution_count": 23,
     "metadata": {},
     "output_type": "execute_result"
    }
   ],
   "source": [
    "a = ['*'] * 10\n",
    "a"
   ]
  },
  {
   "cell_type": "code",
   "execution_count": 24,
   "metadata": {},
   "outputs": [
    {
     "data": {
      "text/plain": [
       "3"
      ]
     },
     "execution_count": 24,
     "metadata": {},
     "output_type": "execute_result"
    }
   ],
   "source": [
    "a = [[1, 2, 3], [4, 5, 6]]\n",
    "a[0][2]"
   ]
  },
  {
   "cell_type": "code",
   "execution_count": 25,
   "metadata": {},
   "outputs": [
    {
     "data": {
      "text/plain": [
       "9"
      ]
     },
     "execution_count": 25,
     "metadata": {},
     "output_type": "execute_result"
    }
   ],
   "source": [
    "a = [1, 2, 3, [4, 5, 6, [7, 8, 9]]]\n",
    "a[3][3][2]"
   ]
  },
  {
   "cell_type": "code",
   "execution_count": 29,
   "metadata": {},
   "outputs": [
    {
     "data": {
      "text/plain": [
       "['Hello', 2, 3, 4, 5]"
      ]
     },
     "execution_count": 29,
     "metadata": {},
     "output_type": "execute_result"
    }
   ],
   "source": [
    "# 리스트 요소를 삭제 및 갱신\n",
    "a = [1, 2, 3, 4, 5]\n",
    "a[0] = \"Hello\"\n",
    "a"
   ]
  },
  {
   "cell_type": "code",
   "execution_count": 33,
   "metadata": {},
   "outputs": [
    {
     "data": {
      "text/plain": [
       "'재욱'"
      ]
     },
     "execution_count": 33,
     "metadata": {},
     "output_type": "execute_result"
    }
   ],
   "source": [
    "# Dictionary\n",
    "# Theme = 인적사항\n",
    "상호 = {\n",
    "    'name': \"상호\",\n",
    "    'age': 16,\n",
    "    'address': \"대구\"\n",
    "}\n",
    "\n",
    "재욱 = {\n",
    "    'name': '재욱',\n",
    "    'age': 17,\n",
    "    'address': \"대구\"\n",
    "}\n",
    "\n",
    "재욱['name']"
   ]
  },
  {
   "cell_type": "code",
   "execution_count": 38,
   "metadata": {},
   "outputs": [
    {
     "data": {
      "text/plain": [
       "'상호'"
      ]
     },
     "execution_count": 38,
     "metadata": {},
     "output_type": "execute_result"
    }
   ],
   "source": [
    "# Nested Dictionary\n",
    "yongsu = {\n",
    "    'name': \"Yongsu\",\n",
    "    'age': 25,\n",
    "    'height': 182,\n",
    "    'friends': ['a', 'b', 'c', 'd'],\n",
    "    'students_info': [\n",
    "        {\n",
    "            'name': '상호'\n",
    "        },\n",
    "        {\n",
    "            'name': '종휘'\n",
    "        },\n",
    "        \n",
    "        {\n",
    "            'name': '재욱'\n",
    "        }\n",
    "    ]\n",
    "}\n",
    "\n",
    "yongsu['students_info'][0]['name']"
   ]
  },
  {
   "cell_type": "code",
   "execution_count": 39,
   "metadata": {},
   "outputs": [
    {
     "data": {
      "text/plain": [
       "2"
      ]
     },
     "execution_count": 39,
     "metadata": {},
     "output_type": "execute_result"
    }
   ],
   "source": [
    "a = {\"a\": 1, \"a\": 2}\n",
    "a['a']"
   ]
  },
  {
   "cell_type": "code",
   "execution_count": 40,
   "metadata": {},
   "outputs": [],
   "source": [
    "a = {}"
   ]
  },
  {
   "cell_type": "code",
   "execution_count": 41,
   "metadata": {},
   "outputs": [
    {
     "data": {
      "text/plain": [
       "{'name': '재욱'}"
      ]
     },
     "execution_count": 41,
     "metadata": {},
     "output_type": "execute_result"
    }
   ],
   "source": [
    "a['name'] = '재욱'\n",
    "a"
   ]
  },
  {
   "cell_type": "code",
   "execution_count": 42,
   "metadata": {},
   "outputs": [
    {
     "name": "stdout",
     "output_type": "stream",
     "text": [
      "{'name': 'su', 'age': 25}\n"
     ]
    }
   ],
   "source": [
    "# Dictionary를 간단하게 선언하는 방법\n",
    "a = dict(name=\"su\", age=25)\n",
    "print(a)"
   ]
  },
  {
   "cell_type": "code",
   "execution_count": 45,
   "metadata": {},
   "outputs": [
    {
     "name": "stdout",
     "output_type": "stream",
     "text": [
      "{'name': 'su', 'age': 15}\n"
     ]
    }
   ],
   "source": [
    "# 2차원 배열을 이용해 생성하는법\n",
    "a = [[\"name\",\"su\"], [\"age\", 15]]\n",
    "print(dict(a))"
   ]
  },
  {
   "cell_type": "code",
   "execution_count": 46,
   "metadata": {},
   "outputs": [
    {
     "data": {
      "text/plain": [
       "{'name': 'Yongsu',\n",
       " 'height': 182,\n",
       " 'friends': ['a', 'b', 'c', 'd'],\n",
       " 'students_info': [{'name': '상호'}, {'name': '종휘'}, {'name': '재욱'}]}"
      ]
     },
     "execution_count": 46,
     "metadata": {},
     "output_type": "execute_result"
    }
   ],
   "source": [
    "# 생성, 갱신, 삭제\n",
    "yongsu = {\n",
    "    'name': \"Yongsu\",\n",
    "    'age': 25,\n",
    "    'height': 182,\n",
    "    'friends': ['a', 'b', 'c', 'd'],\n",
    "    'students_info': [\n",
    "        {\n",
    "            'name': '상호'\n",
    "        },\n",
    "        {\n",
    "            'name': '종휘'\n",
    "        },\n",
    "        \n",
    "        {\n",
    "            'name': '재욱'\n",
    "        }\n",
    "    ]\n",
    "}\n",
    "\n",
    "del yongsu['age']\n",
    "yongsu"
   ]
  },
  {
   "cell_type": "code",
   "execution_count": 47,
   "metadata": {},
   "outputs": [
    {
     "data": {
      "text/plain": [
       "{'age': 25}"
      ]
     },
     "execution_count": 47,
     "metadata": {},
     "output_type": "execute_result"
    }
   ],
   "source": [
    "# key를 이용해 삭제하는법 pop\n",
    "test = {\"name\": \"su\", \"age\": 25}\n",
    "test.pop('name')\n",
    "test"
   ]
  },
  {
   "cell_type": "code",
   "execution_count": 48,
   "metadata": {},
   "outputs": [
    {
     "name": "stdout",
     "output_type": "stream",
     "text": [
      "{'age': 25, 'address': 'daegu'}\n"
     ]
    }
   ],
   "source": [
    "test = { \"name\": \"su\", \"age\": 25, \"address\": \"daegu\"}\n",
    "new_dict = { key: val for key, val in test.items() if key != \"name\"}\n",
    "print(new_dict)"
   ]
  },
  {
   "cell_type": "code",
   "execution_count": 49,
   "metadata": {},
   "outputs": [
    {
     "data": {
      "text/plain": [
       "dict_keys(['name', 'age', 'address'])"
      ]
     },
     "execution_count": 49,
     "metadata": {},
     "output_type": "execute_result"
    }
   ],
   "source": [
    "# key만 뽑아내기, value만 뽑애내기\n",
    "test = { \"name\": \"su\", \"age\": 25, \"address\": \"daegu\"}\n",
    "test.keys()"
   ]
  },
  {
   "cell_type": "code",
   "execution_count": 50,
   "metadata": {},
   "outputs": [
    {
     "data": {
      "text/plain": [
       "dict_values(['su', 25, 'daegu'])"
      ]
     },
     "execution_count": 50,
     "metadata": {},
     "output_type": "execute_result"
    }
   ],
   "source": [
    "test.values()"
   ]
  },
  {
   "cell_type": "code",
   "execution_count": 51,
   "metadata": {},
   "outputs": [
    {
     "data": {
      "text/plain": [
       "dict_items([('name', 'su'), ('age', 25), ('address', 'daegu')])"
      ]
     },
     "execution_count": 51,
     "metadata": {},
     "output_type": "execute_result"
    }
   ],
   "source": [
    "test.items()"
   ]
  },
  {
   "cell_type": "code",
   "execution_count": 52,
   "metadata": {},
   "outputs": [],
   "source": [
    "# 튜플은 리스트와 유사한 자료구조다, 튜플은 한 번 생성하면 내부의 값을 (추가, 삭제)등의 변경이 불가능하다\n",
    "# 요일, 날짜, 달력 등 변하지 않는 일정한 수의 경우\n",
    "# 제약사항을 명시한다"
   ]
  },
  {
   "cell_type": "code",
   "execution_count": 53,
   "metadata": {},
   "outputs": [],
   "source": [
    "t = (1, 2, 3)"
   ]
  },
  {
   "cell_type": "code",
   "execution_count": 54,
   "metadata": {},
   "outputs": [
    {
     "data": {
      "text/plain": [
       "tuple"
      ]
     },
     "execution_count": 54,
     "metadata": {},
     "output_type": "execute_result"
    }
   ],
   "source": [
    "type(t)"
   ]
  },
  {
   "cell_type": "code",
   "execution_count": 55,
   "metadata": {},
   "outputs": [
    {
     "data": {
      "text/plain": [
       "1"
      ]
     },
     "execution_count": 55,
     "metadata": {},
     "output_type": "execute_result"
    }
   ],
   "source": [
    "t[0]"
   ]
  },
  {
   "cell_type": "code",
   "execution_count": 56,
   "metadata": {},
   "outputs": [
    {
     "data": {
      "text/plain": [
       "(1, 2, 3)"
      ]
     },
     "execution_count": 56,
     "metadata": {},
     "output_type": "execute_result"
    }
   ],
   "source": [
    "t[:]"
   ]
  },
  {
   "cell_type": "code",
   "execution_count": 57,
   "metadata": {},
   "outputs": [
    {
     "ename": "TypeError",
     "evalue": "'tuple' object does not support item assignment",
     "output_type": "error",
     "traceback": [
      "\u001b[1;31m---------------------------------------------------------------------------\u001b[0m",
      "\u001b[1;31mTypeError\u001b[0m                                 Traceback (most recent call last)",
      "\u001b[1;32m<ipython-input-57-f7fb8d4f9b63>\u001b[0m in \u001b[0;36m<module>\u001b[1;34m\u001b[0m\n\u001b[1;32m----> 1\u001b[1;33m \u001b[0mt\u001b[0m\u001b[1;33m[\u001b[0m\u001b[1;36m0\u001b[0m\u001b[1;33m]\u001b[0m \u001b[1;33m=\u001b[0m \u001b[1;34m'adsa'\u001b[0m\u001b[1;33m\u001b[0m\u001b[1;33m\u001b[0m\u001b[0m\n\u001b[0m",
      "\u001b[1;31mTypeError\u001b[0m: 'tuple' object does not support item assignment"
     ]
    }
   ],
   "source": [
    "t[0] = 'adsa'"
   ]
  },
  {
   "cell_type": "code",
   "execution_count": 58,
   "metadata": {},
   "outputs": [
    {
     "data": {
      "text/plain": [
       "('Hello', 0, 1, 2, 3)"
      ]
     },
     "execution_count": 58,
     "metadata": {},
     "output_type": "execute_result"
    }
   ],
   "source": [
    "t = ('Hello', 0, 1, 2, 3)\n",
    "t"
   ]
  },
  {
   "cell_type": "code",
   "execution_count": 59,
   "metadata": {},
   "outputs": [
    {
     "data": {
      "text/plain": [
       "('Hello', 0, 1, 2, [1, 2, 3])"
      ]
     },
     "execution_count": 59,
     "metadata": {},
     "output_type": "execute_result"
    }
   ],
   "source": [
    "t = ('Hello', 0, 1, 2, [1, 2, 3])\n",
    "t"
   ]
  },
  {
   "cell_type": "code",
   "execution_count": 60,
   "metadata": {},
   "outputs": [
    {
     "data": {
      "text/plain": [
       "1"
      ]
     },
     "execution_count": 60,
     "metadata": {},
     "output_type": "execute_result"
    }
   ],
   "source": [
    "t.index(0)"
   ]
  },
  {
   "cell_type": "code",
   "execution_count": 61,
   "metadata": {},
   "outputs": [
    {
     "data": {
      "text/plain": [
       "1"
      ]
     },
     "execution_count": 61,
     "metadata": {},
     "output_type": "execute_result"
    }
   ],
   "source": [
    "t.count(1)"
   ]
  },
  {
   "cell_type": "code",
   "execution_count": 62,
   "metadata": {},
   "outputs": [
    {
     "data": {
      "text/plain": [
       "5"
      ]
     },
     "execution_count": 62,
     "metadata": {},
     "output_type": "execute_result"
    }
   ],
   "source": [
    "len(t)"
   ]
  },
  {
   "cell_type": "code",
   "execution_count": 64,
   "metadata": {},
   "outputs": [
    {
     "data": {
      "text/plain": [
       "('Hello', 0, 1, 2, [1, 2])"
      ]
     },
     "execution_count": 64,
     "metadata": {},
     "output_type": "execute_result"
    }
   ],
   "source": [
    "t[4].pop()\n",
    "t"
   ]
  },
  {
   "cell_type": "code",
   "execution_count": 65,
   "metadata": {},
   "outputs": [
    {
     "name": "stdout",
     "output_type": "stream",
     "text": [
      "{1, 2, 3, 4, 5, 6}\n",
      "<class 'set'>\n"
     ]
    }
   ],
   "source": [
    "# set은 집합을 생가가혐ㄴ되, 순서는 없어, 하지만 이 집합안에는 값의 중복이 없다.\n",
    "# 고유한 값 만을 가져아한다\n",
    "# set 정의 방법\n",
    "# 1. 중괄호\n",
    "# 2. set 키워들ㄹ + list\n",
    "a = {1, 1, 1, 1, 2, 3, 4, 5, 6}\n",
    "print(a)\n",
    "print(type(a))"
   ]
  },
  {
   "cell_type": "code",
   "execution_count": 66,
   "metadata": {},
   "outputs": [
    {
     "name": "stdout",
     "output_type": "stream",
     "text": [
      "{1, 2, 3, 4, 5, 6, 7}\n",
      "<class 'set'>\n"
     ]
    }
   ],
   "source": [
    "s = set([1, 1, 1, 2, 3, 4, 5, 6, 7, 7])\n",
    "print(s)\n",
    "print(type(s))"
   ]
  },
  {
   "cell_type": "code",
   "execution_count": 67,
   "metadata": {},
   "outputs": [
    {
     "data": {
      "text/plain": [
       "{1, 2, 3}"
      ]
     },
     "execution_count": 67,
     "metadata": {},
     "output_type": "execute_result"
    }
   ],
   "source": [
    "# set에 값 추가하기 -단일 값add, 다수의 값 추가할때 update\n",
    "k = {1, 2}\n",
    "k.add(3)\n",
    "k.add(3)\n",
    "k"
   ]
  },
  {
   "cell_type": "code",
   "execution_count": 68,
   "metadata": {},
   "outputs": [
    {
     "name": "stdout",
     "output_type": "stream",
     "text": [
      "{1, 2, 3, 4, 5, 6, 7, 8, 9}\n"
     ]
    }
   ],
   "source": [
    "k = {1, 2}\n",
    "k.update([1,2,3,4,5,6,7,8,9])\n",
    "print(k)"
   ]
  },
  {
   "cell_type": "code",
   "execution_count": 72,
   "metadata": {},
   "outputs": [
    {
     "name": "stdout",
     "output_type": "stream",
     "text": [
      "{1, 2}\n",
      "True\n"
     ]
    }
   ],
   "source": [
    "# 원소 제거하는 방법 - remove\n",
    "k = { 1, 2, 3 }\n",
    "k.remove(3)\n",
    "print(k)\n",
    "print(1 in k)"
   ]
  },
  {
   "cell_type": "code",
   "execution_count": 73,
   "metadata": {},
   "outputs": [
    {
     "name": "stdout",
     "output_type": "stream",
     "text": [
      "{1, 2, 3, 4, 5, 6, 7}\n",
      "{1, 2, 3, 4, 5, 6, 7}\n"
     ]
    }
   ],
   "source": [
    "# 합집합 or union\n",
    "a = {1, 2, 3, 4, 5}\n",
    "b = {3, 4, 5, 6, 7}\n",
    "c = a.union(b)\n",
    "d = a | b\n",
    "print(c)\n",
    "print(d)"
   ]
  },
  {
   "cell_type": "code",
   "execution_count": 74,
   "metadata": {},
   "outputs": [],
   "source": [
    "a = True\n",
    "b = False"
   ]
  },
  {
   "cell_type": "code",
   "execution_count": 75,
   "metadata": {},
   "outputs": [
    {
     "data": {
      "text/plain": [
       "False"
      ]
     },
     "execution_count": 75,
     "metadata": {},
     "output_type": "execute_result"
    }
   ],
   "source": [
    "# Comparison Operator\n",
    "a == b"
   ]
  },
  {
   "cell_type": "code",
   "execution_count": 76,
   "metadata": {},
   "outputs": [
    {
     "data": {
      "text/plain": [
       "True"
      ]
     },
     "execution_count": 76,
     "metadata": {},
     "output_type": "execute_result"
    }
   ],
   "source": [
    "a != b"
   ]
  },
  {
   "cell_type": "code",
   "execution_count": 77,
   "metadata": {},
   "outputs": [
    {
     "data": {
      "text/plain": [
       "True"
      ]
     },
     "execution_count": 77,
     "metadata": {},
     "output_type": "execute_result"
    }
   ],
   "source": [
    "a = 5\n",
    "b = 10\n",
    "a > b\n",
    "a < b\n",
    "a >= b\n",
    "a <= b"
   ]
  },
  {
   "cell_type": "code",
   "execution_count": 79,
   "metadata": {},
   "outputs": [
    {
     "name": "stdout",
     "output_type": "stream",
     "text": [
      "True\n"
     ]
    }
   ],
   "source": [
    "a = 5\n",
    "b = 5\n",
    "print(a == 5 or b == 5)"
   ]
  },
  {
   "cell_type": "code",
   "execution_count": 80,
   "metadata": {},
   "outputs": [
    {
     "name": "stdout",
     "output_type": "stream",
     "text": [
      "d\n"
     ]
    }
   ],
   "source": [
    "a = \"귤\"\n",
    "\n",
    "if a == '사과':\n",
    "    print('a')\n",
    "elif a == '배':\n",
    "    print('b')\n",
    "elif a == '키위':\n",
    "    print('c')\n",
    "else:\n",
    "    print('d')"
   ]
  },
  {
   "cell_type": "code",
   "execution_count": 87,
   "metadata": {},
   "outputs": [
    {
     "name": "stdout",
     "output_type": "stream",
     "text": [
      "0\n",
      "값 1\n",
      "1\n",
      "값 2\n",
      "2\n",
      "값 3\n",
      "3\n",
      "값 4\n",
      "4\n",
      "값 5\n",
      "5\n",
      "값 6\n",
      "6\n",
      "값 7\n",
      "7\n",
      "값 8\n",
      "8\n",
      "값 9\n",
      "9\n",
      "값 10\n"
     ]
    }
   ],
   "source": [
    "# 반복문 순회할 수 있는 데이터 타입\n",
    "# objects, string, lists, tuples, dictionarys\n",
    "list1 = [1, 2, 3, 4, 5, 6, 7, 8, 9, 10]\n",
    "index = 0\n",
    "for value in list1:\n",
    "    print(index)\n",
    "    print(f\"값 {value}\")\n",
    "    index = index + 1\n"
   ]
  },
  {
   "cell_type": "code",
   "execution_count": 88,
   "metadata": {},
   "outputs": [
    {
     "name": "stdout",
     "output_type": "stream",
     "text": [
      "2\n",
      "4\n",
      "6\n",
      "8\n",
      "10\n"
     ]
    }
   ],
   "source": [
    "list2 = [1, 2, 3, 4, 5, 6, 7, 8, 9, 10]\n",
    "\n",
    "for num in list2:\n",
    "    if num % 2 == 0:\n",
    "        print(num)"
   ]
  },
  {
   "cell_type": "code",
   "execution_count": 89,
   "metadata": {},
   "outputs": [
    {
     "name": "stdout",
     "output_type": "stream",
     "text": [
      "W\n",
      "e\n",
      "l\n",
      "c\n",
      "o\n",
      "m\n",
      "e\n",
      " \n",
      "T\n",
      "o\n",
      " \n",
      "t\n",
      "h\n",
      "e\n",
      " \n",
      "J\n",
      "u\n",
      "n\n",
      "g\n",
      "l\n",
      "e\n",
      "!\n"
     ]
    }
   ],
   "source": [
    "greetings = \"Welcome To the Jungle!\"\n",
    "\n",
    "for char in greetings:\n",
    "    print(char)"
   ]
  },
  {
   "cell_type": "code",
   "execution_count": 90,
   "metadata": {},
   "outputs": [
    {
     "name": "stdout",
     "output_type": "stream",
     "text": [
      "1\n",
      "2\n",
      "3\n",
      "4\n",
      "5\n"
     ]
    }
   ],
   "source": [
    "tup = (1, 2, 3, 4, 5)\n",
    "\n",
    "for i in tup:\n",
    "    print(i)"
   ]
  },
  {
   "cell_type": "code",
   "execution_count": 91,
   "metadata": {},
   "outputs": [
    {
     "name": "stdout",
     "output_type": "stream",
     "text": [
      "(2, 4)\n",
      "(6, 8)\n",
      "(9, 19)\n"
     ]
    }
   ],
   "source": [
    "tup_in_list = [(2, 4), (6, 8), (9, 19)]\n",
    "\n",
    "for tup in tup_in_list:\n",
    "    print(tup)"
   ]
  },
  {
   "cell_type": "code",
   "execution_count": 92,
   "metadata": {},
   "outputs": [
    {
     "name": "stdout",
     "output_type": "stream",
     "text": [
      "t1 2\n",
      "t2 4\n",
      "t1 6\n",
      "t2 8\n",
      "t1 9\n",
      "t2 19\n"
     ]
    }
   ],
   "source": [
    "# unpacking\n",
    "tup_in_list = [(2, 4), (6, 8), (9, 19)]\n",
    "\n",
    "for (t1, t2) in tup_in_list:\n",
    "    print(\"t1\", t1)\n",
    "    print(\"t2\", t2)"
   ]
  },
  {
   "cell_type": "code",
   "execution_count": 94,
   "metadata": {},
   "outputs": [
    {
     "name": "stdout",
     "output_type": "stream",
     "text": [
      "1\n",
      "2\n",
      "2\n"
     ]
    }
   ],
   "source": [
    "# dicitionary\n",
    "d = { \"k1\": 1, \"k2\": 2, \"k3\": 2}\n",
    "\n",
    "for item in d:\n",
    "    print(d[item])"
   ]
  },
  {
   "cell_type": "code",
   "execution_count": 95,
   "metadata": {},
   "outputs": [
    {
     "data": {
      "text/plain": [
       "dict_items([('k1', 1), ('k2', 2), ('k3', 2)])"
      ]
     },
     "execution_count": 95,
     "metadata": {},
     "output_type": "execute_result"
    }
   ],
   "source": [
    "d.items()"
   ]
  },
  {
   "cell_type": "code",
   "execution_count": 96,
   "metadata": {},
   "outputs": [
    {
     "name": "stdout",
     "output_type": "stream",
     "text": [
      "key k1\n",
      "value 1\n",
      "key k2\n",
      "value 2\n",
      "key k3\n",
      "value 2\n"
     ]
    }
   ],
   "source": [
    "for (key, value) in d.items():\n",
    "    print(\"key\", key)\n",
    "    print(\"value\", value)"
   ]
  },
  {
   "cell_type": "code",
   "execution_count": 97,
   "metadata": {},
   "outputs": [
    {
     "data": {
      "text/plain": [
       "range(0, 11)"
      ]
     },
     "execution_count": 97,
     "metadata": {},
     "output_type": "execute_result"
    }
   ],
   "source": [
    "# range(시작숫자, 끝숫자 + 1, 간격)\n",
    "range(0, 11)"
   ]
  },
  {
   "cell_type": "code",
   "execution_count": 98,
   "metadata": {},
   "outputs": [
    {
     "data": {
      "text/plain": [
       "[0, 1, 2, 3, 4, 5, 6, 7, 8, 9]"
      ]
     },
     "execution_count": 98,
     "metadata": {},
     "output_type": "execute_result"
    }
   ],
   "source": [
    "list(range(0, 10))"
   ]
  },
  {
   "cell_type": "code",
   "execution_count": 99,
   "metadata": {},
   "outputs": [
    {
     "data": {
      "text/plain": [
       "[0, 10, 20, 30, 40, 50, 60, 70, 80, 90, 100]"
      ]
     },
     "execution_count": 99,
     "metadata": {},
     "output_type": "execute_result"
    }
   ],
   "source": [
    "list(range(0, 101, 10))"
   ]
  },
  {
   "cell_type": "markdown",
   "metadata": {},
   "source": [
    "## enumerate"
   ]
  },
  {
   "cell_type": "code",
   "execution_count": 100,
   "metadata": {},
   "outputs": [
    {
     "name": "stdout",
     "output_type": "stream",
     "text": [
      "At index 0 and letter a\n",
      "At index 1 and letter b\n",
      "At index 2 and letter c\n",
      "At index 3 and letter d\n",
      "At index 4 and letter e\n"
     ]
    }
   ],
   "source": [
    "index_count = 0\n",
    "\n",
    "for letter in \"abcde\":\n",
    "    print(f\"At index {index_count} and letter {letter}\")\n",
    "    index_count = index_count + 1"
   ]
  },
  {
   "cell_type": "code",
   "execution_count": 102,
   "metadata": {},
   "outputs": [
    {
     "name": "stdout",
     "output_type": "stream",
     "text": [
      "At index 0 and letter a\n",
      "At index 1 and letter b\n",
      "At index 2 and letter c\n",
      "At index 3 and letter d\n",
      "At index 4 and letter e\n"
     ]
    }
   ],
   "source": [
    "# enumerate\n",
    "\n",
    "for (index, letter) in enumerate(\"abcde\"):\n",
    "    print(f\"At index {index} and letter {letter}\")"
   ]
  },
  {
   "cell_type": "code",
   "execution_count": 103,
   "metadata": {},
   "outputs": [
    {
     "name": "stdout",
     "output_type": "stream",
     "text": [
      "0\n",
      "1\n",
      "2\n",
      "3\n",
      "4\n",
      "5\n",
      "6\n",
      "7\n",
      "8\n",
      "9\n"
     ]
    }
   ],
   "source": [
    "for i in range(0, 10):\n",
    "    print(i)"
   ]
  },
  {
   "cell_type": "code",
   "execution_count": 2,
   "metadata": {},
   "outputs": [
    {
     "name": "stdout",
     "output_type": "stream",
     "text": [
      "[1, 2, 3, 4, 5]\n",
      "1\n",
      "[1, 3, 5]\n"
     ]
    }
   ],
   "source": [
    "a = [1, 2, 3, 4, 5]\n",
    "print(a)\n",
    "print(a[0])\n",
    "print(a[::2])\n",
    "del a[0]"
   ]
  },
  {
   "cell_type": "code",
   "execution_count": 3,
   "metadata": {},
   "outputs": [],
   "source": [
    "a.append(6)\n",
    "a.append(7)"
   ]
  },
  {
   "cell_type": "code",
   "execution_count": 4,
   "metadata": {},
   "outputs": [
    {
     "data": {
      "text/plain": [
       "[2, 3, 4, 5, 6, 7]"
      ]
     },
     "execution_count": 4,
     "metadata": {},
     "output_type": "execute_result"
    }
   ],
   "source": [
    "a"
   ]
  },
  {
   "cell_type": "code",
   "execution_count": 5,
   "metadata": {},
   "outputs": [
    {
     "data": {
      "text/plain": [
       "7"
      ]
     },
     "execution_count": 5,
     "metadata": {},
     "output_type": "execute_result"
    }
   ],
   "source": [
    "a.pop()"
   ]
  },
  {
   "cell_type": "code",
   "execution_count": 6,
   "metadata": {},
   "outputs": [
    {
     "name": "stdout",
     "output_type": "stream",
     "text": [
      "[1, 2, 3]\n"
     ]
    }
   ],
   "source": [
    "a = [1, 1.5, \"문자\", [1, 2, 3]]\n",
    "print(a[3])"
   ]
  },
  {
   "cell_type": "code",
   "execution_count": 8,
   "metadata": {},
   "outputs": [
    {
     "name": "stdout",
     "output_type": "stream",
     "text": [
      "[6, 5, 4, 3, 2, 1]\n"
     ]
    }
   ],
   "source": [
    "a = [1, 2, 3, 4, 5, 6]\n",
    "a.reverse()\n",
    "print(a)"
   ]
  },
  {
   "cell_type": "code",
   "execution_count": 9,
   "metadata": {},
   "outputs": [
    {
     "name": "stdout",
     "output_type": "stream",
     "text": [
      "['Hello', 5, 4, 3, 2, 1]\n"
     ]
    }
   ],
   "source": [
    "a[0] = \"Hello\"\n",
    "print(a)"
   ]
  },
  {
   "cell_type": "code",
   "execution_count": 11,
   "metadata": {},
   "outputs": [
    {
     "name": "stdout",
     "output_type": "stream",
     "text": [
      "['a', 'b', 'c', 'd']\n"
     ]
    }
   ],
   "source": [
    "# 리스트 \n",
    "# 생성, 삭제, 추가, 갱신 \n",
    "a = ['b', 'c', 'a', 'd']\n",
    "a.sort()\n",
    "print(a)"
   ]
  },
  {
   "cell_type": "code",
   "execution_count": 14,
   "metadata": {},
   "outputs": [
    {
     "name": "stdout",
     "output_type": "stream",
     "text": [
      "[3, 4, 5]\n"
     ]
    }
   ],
   "source": [
    "a = [1, 2, 3, 4, 5, [\"가\", \"나\", [1, 2, 3, 4, 5]]]\n",
    "print(a[5][2][2:])"
   ]
  },
  {
   "cell_type": "code",
   "execution_count": 15,
   "metadata": {},
   "outputs": [],
   "source": [
    "# String (o)\n",
    "# Number (o)\n",
    "# List   (o)\n",
    "# Dictionary\n",
    "# Tuple\n",
    "# Set\n",
    "# Boolean"
   ]
  },
  {
   "cell_type": "code",
   "execution_count": 17,
   "metadata": {},
   "outputs": [
    {
     "name": "stdout",
     "output_type": "stream",
     "text": [
      "Yongsu\n",
      "25\n",
      "Daegu\n"
     ]
    }
   ],
   "source": [
    "# Dictionary\n",
    "# 인적 사항\n",
    "# 이름\n",
    "# 나이\n",
    "# 직업\n",
    "# 주소\n",
    "# Key: Value { }\n",
    "\n",
    "su = {\n",
    "    \"name\": \"Yongsu\",\n",
    "    \"age\": 25,\n",
    "    \"address\": \"Daegu\",\n",
    "    \"work\": \"unemployed\"\n",
    "}\n",
    "\n",
    "print(su[\"name\"])\n",
    "print(su[\"age\"])\n",
    "print(su[\"address\"])"
   ]
  },
  {
   "cell_type": "code",
   "execution_count": 20,
   "metadata": {},
   "outputs": [
    {
     "name": "stdout",
     "output_type": "stream",
     "text": [
      "{'name': 'su', 'age': 25, 'address': 'daegu'}\n",
      "{'name': 'su', 'age': 15}\n"
     ]
    }
   ],
   "source": [
    "# Dictionary를 생성하는 세 가지 방법\n",
    "# 1. 제일 처음에 본거\n",
    "# 2. dict라는 함수를 이용해 생성\n",
    "a = dict(name = \"su\", age = 25, address = 'daegu')\n",
    "print(a)\n",
    "# 3. dict 함수를 사용하는데 이차원 배열\n",
    "a = dict([[\"name\", \"su\"], [\"age\", 15]])\n",
    "print(a)"
   ]
  },
  {
   "cell_type": "code",
   "execution_count": 23,
   "metadata": {
    "scrolled": true
   },
   "outputs": [
    {
     "name": "stdout",
     "output_type": "stream",
     "text": [
      "{'name': 'hyunsu'}\n",
      "{}\n",
      "{'age': 15}\n"
     ]
    }
   ],
   "source": [
    "a = {\n",
    "    \"name\": \"yongsu\"\n",
    "}\n",
    "\n",
    "# 내부에 존재하는 키의 값을 변경하고 싶을때\n",
    "a[\"name\"] = \"hyunsu\"\n",
    "print(a)\n",
    "# 내부에 존재하는 값을 삭제하고 싶을때\n",
    "del a[\"name\"]\n",
    "\n",
    "print(a)\n",
    "\n",
    "# 새로운 요소 추가하기\n",
    "a[\"age\"] = 15\n",
    "print(a)"
   ]
  },
  {
   "cell_type": "code",
   "execution_count": 24,
   "metadata": {},
   "outputs": [
    {
     "name": "stdout",
     "output_type": "stream",
     "text": [
      "dict_keys(['name', 'age', 'address'])\n",
      "dict_values(['su', 25, 'daegu'])\n",
      "dict_items([('name', 'su'), ('age', 25), ('address', 'daegu')])\n"
     ]
    }
   ],
   "source": [
    "# 유용한 Dictionary 함수\n",
    "test = { \"name\": \"su\", \"age\": 25, \"address\": \"daegu\"}\n",
    "# Dictionary Key 값만 출력\n",
    "print(test.keys())\n",
    "# Dictionary Value 값만 출력\n",
    "print(test.values())\n",
    "# Dictionary Key: Value 값을 출력\n",
    "print(test.items())"
   ]
  },
  {
   "cell_type": "code",
   "execution_count": 28,
   "metadata": {},
   "outputs": [
    {
     "name": "stdout",
     "output_type": "stream",
     "text": [
      "su\n",
      "[1, 2, 3, 4, 5]\n"
     ]
    }
   ],
   "source": [
    "# 1. list에는 dictionary 데이터를 포함할 수 있다 : T\n",
    "a = { 'name': 'su' }\n",
    "b = [a]\n",
    "print(b[0]['name'])\n",
    "# 2. dictionary에 value로 list를 포함할 수 있다 : T\n",
    "a = {\n",
    "    'test': [1, 2, 3, 4, 5]\n",
    "}\n",
    "print(a['test'])"
   ]
  },
  {
   "cell_type": "code",
   "execution_count": 29,
   "metadata": {},
   "outputs": [
    {
     "ename": "SyntaxError",
     "evalue": "invalid syntax (<ipython-input-29-bd0ee2e69bb4>, line 1)",
     "output_type": "error",
     "traceback": [
      "\u001b[1;36m  File \u001b[1;32m\"<ipython-input-29-bd0ee2e69bb4>\"\u001b[1;36m, line \u001b[1;32m1\u001b[0m\n\u001b[1;33m    상황:\u001b[0m\n\u001b[1;37m       ^\u001b[0m\n\u001b[1;31mSyntaxError\u001b[0m\u001b[1;31m:\u001b[0m invalid syntax\n"
     ]
    }
   ],
   "source": [
    "상황:\n",
    "\n",
    "이름, 나이, 성별, 주소, 친구목록[], 좋아하는 색,  Dictionary를 사용한다\n",
    "사용하는 컴퓨터 기종과 그 컴퓨터의 사양 (가격, 브랜드, 성능)에 관한 정보를 모두 포함하고 있는 변수를 하나 생성하고 싶습니다 (Dictionary를 사용한다). \n",
    "\n",
    "주소: “Daegu Bollio Dong Daegu High School”\n",
    "친구이름: ‘josh’, “amy’, ‘kale’, ‘peter’, ‘muta’\n",
    "좋아하는 색: ‘red’, ‘purple’, ‘blue’, ‘violet’, ‘blue’\n",
    "\n",
    "이 생성한 변수를 이용해서 다음 작업을 수행하고 싶습니다.\n",
    "친구목록에 작성된 친구의 이름을 알파벳 순으로 정렬하고 싶습니다.\n",
    "좋아하는 색을 알파벳 순으로 정렬하고 이것을 역순으로 정렬하고 싶습니다.\n",
    "컴퓨터 사양에 관한 정보에 (구매 일자를 추가하고 싶습니다 ex) “2020-01-01”)\n",
    "주소를 공백 기준으로 자르고 싶습니다.\n",
    "좋아하는 색 리스트를 1 ~ 4번 까지 제거해주세요.\n",
    "\n"
   ]
  },
  {
   "cell_type": "code",
   "execution_count": 30,
   "metadata": {},
   "outputs": [],
   "source": [
    "#이름, 나이, 성별, 주소, 친구목록[], 좋아하는 색,  Dictionary를 사용한다\n",
    "#사용하는 컴퓨터 기종과 그 컴퓨터의 사양 (가격, 브랜드, 성능)에 관한 정보를 모두 포함하고 있는 변수를 하나 생성\n",
    "#주소: “Daegu Bollio Dong Daegu High School”\n",
    "#친구이름: ‘josh’, “amy’, ‘kale’, ‘peter’, ‘muta’\n",
    "#좋아하는 색: ‘red’, ‘purple’, ‘blue’, ‘violet’, ‘blue’\n"
   ]
  },
  {
   "cell_type": "code",
   "execution_count": 38,
   "metadata": {},
   "outputs": [
    {
     "name": "stdout",
     "output_type": "stream",
     "text": [
      "['amy', 'josh', 'kale', 'muta', 'peter']\n",
      "['violet']\n",
      "{'price': 150, 'brand': 'Samsung', 'performance': 'A', 'purchase': '2020-01-01'}\n",
      "['Daegu', 'Bollio', 'Dong', 'Daegu', 'High', 'School']\n",
      "['violet']\n"
     ]
    }
   ],
   "source": [
    "yongsu = {\n",
    "    \"name\": \"Yongsu\",\n",
    "    \"age\": 25,\n",
    "    \"gender\": \"male\",\n",
    "    \"address\": \"Daegu Bollio Dong Daegu High School\",\n",
    "    \"friends_list\": [\"josh\", \"amy\", \"kale\", \"peter\", \"muta\"],\n",
    "    \"favorite_colors\": [\"red\", \"purple\", \"blue\", \"violet\", \"orange\"],\n",
    "    \"computer\": {\n",
    "        \"price\": 150,\n",
    "        \"brand\": \"Samsung\",\n",
    "        \"performance\": \"A\"\n",
    "    }\n",
    "}\n",
    "\n",
    "친구목록에 작성된 친구의 이름을 알파벳 순으로 정렬하고 싶습니다.\n",
    "yongsu[\"friends_list\"].sort()\n",
    "yongsu[\"favorite_colors\"].sort()\n",
    "yongsu[\"favorite_colors\"].reverse()\n",
    "yongsu[\"computer\"][\"purchase\"] = \"2020-01-01\"\n",
    "del yongsu[\"favorite_colors\"][1:5]"
   ]
  },
  {
   "cell_type": "code",
   "execution_count": 43,
   "metadata": {},
   "outputs": [
    {
     "name": "stdout",
     "output_type": "stream",
     "text": [
      "(1, 2, 3, 4, 5)\n",
      "(1, 1.5, '문자', [1, 2, 3])\n"
     ]
    }
   ],
   "source": [
    "# Tuple\n",
    "# 리스트는 내용의 추가, 삭제, 갱신 모두 다 가능하다\n",
    "# 튜플은 리트스랑 똑같아요, 추가 삭제 갱신 다 불가능하요\n",
    "# 튜플: 요일, 달\n",
    "# 튜플을 사용할 때는 소괄호를 \n",
    "a = (1, 2, 3, 4, 5)\n",
    "print(a)\n",
    "# a[0] = \"hello\"\n",
    "# del a[0]\n",
    "# 튜플 정의할 때 어떤 데이터 타입이든 다 가능하다 : T \n",
    "a = (1, 1.5, \"문자\", [1, 2, 3])\n",
    "print(a)"
   ]
  },
  {
   "cell_type": "code",
   "execution_count": 44,
   "metadata": {},
   "outputs": [
    {
     "data": {
      "text/plain": [
       "1"
      ]
     },
     "execution_count": 44,
     "metadata": {},
     "output_type": "execute_result"
    }
   ],
   "source": [
    "a[0]"
   ]
  },
  {
   "cell_type": "code",
   "execution_count": 45,
   "metadata": {},
   "outputs": [
    {
     "name": "stdout",
     "output_type": "stream",
     "text": [
      "(1.5, '문자', [1, 2, 3])\n"
     ]
    }
   ],
   "source": [
    "print(a[1:])"
   ]
  },
  {
   "cell_type": "code",
   "execution_count": 46,
   "metadata": {},
   "outputs": [],
   "source": [
    "# 체스, 바둑, 오목\n",
    "# 게임을 시작할 때\n",
    "# 흰색, 검은색"
   ]
  },
  {
   "cell_type": "code",
   "execution_count": 47,
   "metadata": {},
   "outputs": [],
   "source": [
    "# Boolean\n",
    "#True\n",
    "#False"
   ]
  },
  {
   "cell_type": "code",
   "execution_count": 55,
   "metadata": {},
   "outputs": [
    {
     "name": "stdout",
     "output_type": "stream",
     "text": [
      "{1, 2, 3, 4, 5}\n",
      "False\n",
      "True\n",
      "{1, 2, 3, 4, 5, 6}\n",
      "{1, 2, 3, 4, 5}\n",
      "{1, 2, 3, 4, 5, 7}\n"
     ]
    }
   ],
   "source": [
    "# Set (집합)\n",
    "# 중복된 값을 제거하고, 고유한 값만 보관하고 싶은 경우\n",
    "# 1 ,1, 2, 2, 3, 4, 4, 5, 5, 6, 6, --> 1, 2, 3, 4, 5, 6\n",
    "# 중괄호를 이용해서 정의해요\n",
    "a = {1, 1, 2, 2, 3, 3, 4, 4, 5, 5}\n",
    "print(a)\n",
    "print(6 in a)\n",
    "print(5 in a)\n",
    "a.add(6)\n",
    "print(a)\n",
    "a.remove(6)\n",
    "print(a)\n",
    "# 다수의 요소를 추가하고 싶다\n",
    "a.update([1, 2, 5, 7])\n",
    "print(a)"
   ]
  },
  {
   "cell_type": "code",
   "execution_count": null,
   "metadata": {},
   "outputs": [],
   "source": [
    "# python\n",
    "1. String - 기존의 것의 수정은 불가하다, 추가는 가능하다 (indexing + slicing)\n",
    "2. Number \n",
    "3. List - 추가, 삭제, 갱신 모두 가능하다 indexing + slciing\n",
    "4. Dictionary - 추가, 삭제, 갱신 모두 가능하다 key: value\n",
    "5. Tuple - 리스트랑 똑같은데 추가, 삭제, 갱신 모두 불가능하다\n",
    "6. Set - 고유한 값만 추가할 수 있다 (집합)\n",
    "7. Boolean  - True False"
   ]
  }
 ],
 "metadata": {
  "kernelspec": {
   "display_name": "Python 3",
   "language": "python",
   "name": "python3"
  },
  "language_info": {
   "codemirror_mode": {
    "name": "ipython",
    "version": 3
   },
   "file_extension": ".py",
   "mimetype": "text/x-python",
   "name": "python",
   "nbconvert_exporter": "python",
   "pygments_lexer": "ipython3",
   "version": "3.8.5"
  }
 },
 "nbformat": 4,
 "nbformat_minor": 4
}
