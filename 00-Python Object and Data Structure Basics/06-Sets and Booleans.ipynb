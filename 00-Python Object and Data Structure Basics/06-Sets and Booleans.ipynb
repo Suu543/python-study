{
 "cells": [
  {
   "cell_type": "markdown",
   "metadata": {},
   "source": [
    "# Set and Booleans"
   ]
  },
  {
   "cell_type": "markdown",
   "metadata": {},
   "source": [
    "### Sets\n",
    "\n",
    "`set`은 수학에서 사용하는 집합을 생각하면 이해가 쉽다. 순서는 없다, 하지만 이 집합 안에는 값의 중복이 없고, `고유한(unique)` 값을 가지는 특징이 있다.\n",
    "\n",
    "- `set` 선언\n",
    "- `set` 생성장에 `list(리스트)`와 같이 순회할 수 있는 객체를 넣으면 내부적으로 변환해 `set`을 만들어 준다.\n",
    "- `set`을 간단히 생성하는 방법\n",
    "- `set`의 유용한 메소드(methods)\n",
    "- `set` 연산"
   ]
  },
  {
   "cell_type": "code",
   "execution_count": 4,
   "metadata": {},
   "outputs": [
    {
     "name": "stdout",
     "output_type": "stream",
     "text": [
      "{1, 2, 3, 4}\n",
      "<class 'set'>\n"
     ]
    }
   ],
   "source": [
    "# 1. set 선언\n",
    "# 방법 1 - 중괄호 이용하기\n",
    "s = {1, 2, 3, 4}\n",
    "print(s)\n",
    "print(type(s))"
   ]
  },
  {
   "cell_type": "code",
   "execution_count": 5,
   "metadata": {},
   "outputs": [
    {
     "name": "stdout",
     "output_type": "stream",
     "text": [
      "{1, 2, 3, 4}\n",
      "<class 'set'>\n"
     ]
    }
   ],
   "source": [
    "# 방법 2 - 순회할 수 있는 객체를 set 키워드와 함께 작성하기\n",
    "s = set([1, 2, 3, 4])\n",
    "print(s)\n",
    "print(type(s))"
   ]
  },
  {
   "cell_type": "code",
   "execution_count": 7,
   "metadata": {},
   "outputs": [
    {
     "name": "stdout",
     "output_type": "stream",
     "text": [
      "{1, 2, 3, 4, 5}\n",
      "{1, 2, 3, 4, 5}\n"
     ]
    }
   ],
   "source": [
    "# 중복된 값으로 set을 작성하는 경우 - 중복된 값이 자동으로 제거되는 것을 확인할 수 있다\n",
    "s1 = {1, 1, 2, 2, 3, 3, 4, 4, 5, 5}\n",
    "s2 = set([1, 1, 2, 2, 3, 3, 4, 4, 5, 5])\n",
    "print(s1)\n",
    "print(s2)"
   ]
  },
  {
   "cell_type": "code",
   "execution_count": 9,
   "metadata": {},
   "outputs": [
    {
     "name": "stdout",
     "output_type": "stream",
     "text": [
      "0\n",
      "1\n",
      "2\n",
      "3\n",
      "4\n",
      "5\n",
      "6\n",
      "7\n",
      "8\n"
     ]
    }
   ],
   "source": [
    "# set(집합)은 순서가 존재하지 않는다. 그러므로 반복문을 사용한 경우 어떤 값이 먼저 나올지 알 수 없다\n",
    "for i in {1, 2, 3, 4, 5, 6, 7, 8, 0}:\n",
    "    print(i)"
   ]
  },
  {
   "cell_type": "code",
   "execution_count": 10,
   "metadata": {},
   "outputs": [
    {
     "name": "stdout",
     "output_type": "stream",
     "text": [
      "True\n",
      "False\n"
     ]
    }
   ],
   "source": [
    "# set 내부에 특정 요소의 존재 여부를 알고 싶은 경우 (in) - Boolean값 리턴\n",
    "s = {1, 2, 3, 4, 5, 6, 7, 8, 9}\n",
    "print(3 in s)\n",
    "print(10 in s)"
   ]
  },
  {
   "cell_type": "markdown",
   "metadata": {},
   "source": [
    "### 유용한 set 메소드"
   ]
  },
  {
   "cell_type": "code",
   "execution_count": 12,
   "metadata": {},
   "outputs": [
    {
     "name": "stdout",
     "output_type": "stream",
     "text": [
      "{1, 2, 3, 4}\n"
     ]
    }
   ],
   "source": [
    "# set에 원소를 추가하고 싶은 경우 - add\n",
    "k = {1, 2}\n",
    "k.add(3)\n",
    "k.add(4)\n",
    "print(k)"
   ]
  },
  {
   "cell_type": "code",
   "execution_count": 13,
   "metadata": {},
   "outputs": [
    {
     "name": "stdout",
     "output_type": "stream",
     "text": [
      "{1, 2, 3, 4, 5, 6}\n"
     ]
    }
   ],
   "source": [
    "# set에 다수의 값을 추가할때 - update\n",
    "k = {1, 2, 3}\n",
    "k.update([3, 4, 5, 6])\n",
    "print(k)"
   ]
  },
  {
   "cell_type": "code",
   "execution_count": 15,
   "metadata": {},
   "outputs": [
    {
     "name": "stdout",
     "output_type": "stream",
     "text": [
      "{1, 2}\n"
     ]
    },
    {
     "ename": "KeyError",
     "evalue": "'가'",
     "output_type": "error",
     "traceback": [
      "\u001b[1;31m---------------------------------------------------------------------------\u001b[0m",
      "\u001b[1;31mKeyError\u001b[0m                                  Traceback (most recent call last)",
      "\u001b[1;32m<ipython-input-15-41a78382096b>\u001b[0m in \u001b[0;36m<module>\u001b[1;34m\u001b[0m\n\u001b[0;32m      5\u001b[0m \u001b[0mprint\u001b[0m\u001b[1;33m(\u001b[0m\u001b[0mk\u001b[0m\u001b[1;33m)\u001b[0m\u001b[1;33m\u001b[0m\u001b[1;33m\u001b[0m\u001b[0m\n\u001b[0;32m      6\u001b[0m \u001b[1;33m\u001b[0m\u001b[0m\n\u001b[1;32m----> 7\u001b[1;33m \u001b[0mk\u001b[0m\u001b[1;33m.\u001b[0m\u001b[0mremove\u001b[0m\u001b[1;33m(\u001b[0m\u001b[1;34m\"가\"\u001b[0m\u001b[1;33m)\u001b[0m\u001b[1;33m\u001b[0m\u001b[1;33m\u001b[0m\u001b[0m\n\u001b[0m",
      "\u001b[1;31mKeyError\u001b[0m: '가'"
     ]
    }
   ],
   "source": [
    "# set의 원소를 제거할 때 - remove\n",
    "# item에 해당하는 원소를 제거하고, 없으면 KeyError 발생\n",
    "k = { 1, 2, 3 }\n",
    "k.remove(3)\n",
    "print(k)\n",
    "\n",
    "k.remove(\"가\")"
   ]
  },
  {
   "cell_type": "code",
   "execution_count": 16,
   "metadata": {},
   "outputs": [],
   "source": [
    "# set의 원소를 제거할 때 - discard\n",
    "# discard는 원소를 제거하고, 없으면 에러를 발생시키지 않는다\n",
    "k = { 1, 2, 3 }\n",
    "k.discard(3)\n",
    "k.discard(3)"
   ]
  },
  {
   "cell_type": "code",
   "execution_count": 17,
   "metadata": {},
   "outputs": [
    {
     "name": "stdout",
     "output_type": "stream",
     "text": [
      "2650389342912\n",
      "2650389340672\n"
     ]
    }
   ],
   "source": [
    "# set의 복사 - 얕은 복사 (나중에 다룰 내용)\n",
    "s = { 1, 2, 3 }\n",
    "t = s.copy()\n",
    "print(id(s))\n",
    "print(id(t))"
   ]
  },
  {
   "cell_type": "code",
   "execution_count": 20,
   "metadata": {},
   "outputs": [
    {
     "name": "stdout",
     "output_type": "stream",
     "text": [
      "{1, 2, 3}\n"
     ]
    }
   ],
   "source": [
    "# 생성자로도 복사가 가능하다\n",
    "s = { 1, 2, 3 }\n",
    "t = set(s)\n",
    "print(t)"
   ]
  },
  {
   "cell_type": "markdown",
   "metadata": {},
   "source": [
    "### set 연산"
   ]
  },
  {
   "cell_type": "code",
   "execution_count": 1,
   "metadata": {},
   "outputs": [
    {
     "name": "stdout",
     "output_type": "stream",
     "text": [
      "{1, 2, 3, 4, 5, 6, 7}\n",
      "{1, 2, 3, 4, 5, 6, 7}\n"
     ]
    }
   ],
   "source": [
    "# | (합집합 연산자) or union (합집합)\n",
    "a = { 1, 2, 3, 4, 5 }\n",
    "b = { 3, 4, 5, 6, 7 }\n",
    "f = {1, 2, 3, 4}\n",
    "c = a | b | f\n",
    "print(c)\n",
    "\n",
    "d = a.union(b)\n",
    "print(d)"
   ]
  },
  {
   "cell_type": "code",
   "execution_count": 25,
   "metadata": {},
   "outputs": [
    {
     "name": "stdout",
     "output_type": "stream",
     "text": [
      "{3, 4, 5}\n",
      "{3, 4, 5}\n"
     ]
    }
   ],
   "source": [
    "# & (교집합 연산자) or intersection (교집합)\n",
    "a = { 1, 2, 3, 4, 5 }\n",
    "b = { 3, 4, 5, 6, 7 }\n",
    "c = a & b\n",
    "print(c)\n",
    "\n",
    "d = a.intersection(b)\n",
    "print(d)"
   ]
  },
  {
   "cell_type": "code",
   "execution_count": 27,
   "metadata": {},
   "outputs": [
    {
     "name": "stdout",
     "output_type": "stream",
     "text": [
      "{1, 2}\n",
      "{1, 2}\n"
     ]
    }
   ],
   "source": [
    "# - (차집합 연산자) or difference (차집합)\n",
    "a = { 1, 2, 3, 4, 5 }\n",
    "b = { 3, 4, 5, 6, 7 }\n",
    "c = a - b\n",
    "print(c)\n",
    "\n",
    "d = a.difference(b)\n",
    "print(d)"
   ]
  },
  {
   "cell_type": "code",
   "execution_count": 28,
   "metadata": {},
   "outputs": [
    {
     "name": "stdout",
     "output_type": "stream",
     "text": [
      "{1, 2, 6, 7}\n",
      "{1, 2, 6, 7}\n"
     ]
    }
   ],
   "source": [
    "# ^ (대칭차집합 (합집합 - 교집합)) or symmetric_difference (대칭차집합)\n",
    "a = { 1, 2, 3, 4, 5 }\n",
    "b = { 3, 4, 5, 6, 7 }\n",
    "c = a ^ b\n",
    "print(c)\n",
    "\n",
    "d = a.symmetric_difference(b)\n",
    "print(d)"
   ]
  }
 ],
 "metadata": {
  "kernelspec": {
   "display_name": "Python 3",
   "language": "python",
   "name": "python3"
  },
  "language_info": {
   "codemirror_mode": {
    "name": "ipython",
    "version": 3
   },
   "file_extension": ".py",
   "mimetype": "text/x-python",
   "name": "python",
   "nbconvert_exporter": "python",
   "pygments_lexer": "ipython3",
   "version": "3.8.5"
  }
 },
 "nbformat": 4,
 "nbformat_minor": 4
}
