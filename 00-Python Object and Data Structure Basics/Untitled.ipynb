{
 "cells": [
  {
   "cell_type": "code",
   "execution_count": 1,
   "metadata": {},
   "outputs": [
    {
     "name": "stdout",
     "output_type": "stream",
     "text": [
      "Hello\n"
     ]
    }
   ],
   "source": [
    "test = 1\n",
    "test = \"Hello\"\n",
    "print(test)"
   ]
  },
  {
   "cell_type": "code",
   "execution_count": 2,
   "metadata": {},
   "outputs": [],
   "source": [
    "# 정수: 1, -1\n",
    "# 소수: 0.5, -0.5"
   ]
  },
  {
   "cell_type": "code",
   "execution_count": 3,
   "metadata": {},
   "outputs": [
    {
     "name": "stdout",
     "output_type": "stream",
     "text": [
      "2\n"
     ]
    }
   ],
   "source": [
    "a = 2\n",
    "print(a)"
   ]
  },
  {
   "cell_type": "code",
   "execution_count": 4,
   "metadata": {},
   "outputs": [
    {
     "name": "stdout",
     "output_type": "stream",
     "text": [
      "1.5\n"
     ]
    }
   ],
   "source": [
    "a = 1.5\n",
    "print(a)"
   ]
  },
  {
   "cell_type": "code",
   "execution_count": 5,
   "metadata": {},
   "outputs": [
    {
     "data": {
      "text/plain": [
       "1.5"
      ]
     },
     "execution_count": 5,
     "metadata": {},
     "output_type": "execute_result"
    }
   ],
   "source": [
    "# 나누기 몫 (소숫점 포함)\n",
    "3 / 2"
   ]
  },
  {
   "cell_type": "code",
   "execution_count": 6,
   "metadata": {},
   "outputs": [
    {
     "data": {
      "text/plain": [
       "1"
      ]
     },
     "execution_count": 6,
     "metadata": {},
     "output_type": "execute_result"
    }
   ],
   "source": [
    "# 나누기 몫 (소수점 미포함)\n",
    "3 // 2"
   ]
  },
  {
   "cell_type": "code",
   "execution_count": 7,
   "metadata": {},
   "outputs": [
    {
     "data": {
      "text/plain": [
       "1"
      ]
     },
     "execution_count": 7,
     "metadata": {},
     "output_type": "execute_result"
    }
   ],
   "source": [
    "# 나머지 구하기\n",
    "3 % 2"
   ]
  },
  {
   "cell_type": "code",
   "execution_count": 8,
   "metadata": {},
   "outputs": [
    {
     "data": {
      "text/plain": [
       "8"
      ]
     },
     "execution_count": 8,
     "metadata": {},
     "output_type": "execute_result"
    }
   ],
   "source": [
    "2 ** 3"
   ]
  },
  {
   "cell_type": "code",
   "execution_count": 9,
   "metadata": {},
   "outputs": [
    {
     "data": {
      "text/plain": [
       "105"
      ]
     },
     "execution_count": 9,
     "metadata": {},
     "output_type": "execute_result"
    }
   ],
   "source": [
    "2 + 10 * 10 + 3"
   ]
  },
  {
   "cell_type": "code",
   "execution_count": 10,
   "metadata": {},
   "outputs": [
    {
     "data": {
      "text/plain": [
       "72"
      ]
     },
     "execution_count": 10,
     "metadata": {},
     "output_type": "execute_result"
    }
   ],
   "source": [
    "(2 + 10) * (1 + 5)"
   ]
  },
  {
   "cell_type": "code",
   "execution_count": 11,
   "metadata": {},
   "outputs": [
    {
     "data": {
      "text/plain": [
       "5"
      ]
     },
     "execution_count": 11,
     "metadata": {},
     "output_type": "execute_result"
    }
   ],
   "source": [
    "# == 같다\n",
    "# = (값을 변수에 할당한다)\n",
    "test = 5\n",
    "test"
   ]
  },
  {
   "cell_type": "code",
   "execution_count": 12,
   "metadata": {},
   "outputs": [],
   "source": [
    "# Dynamic Typing\n",
    "# test라는 변수에 숫자를 넣을래\n",
    "# test라는 변수에 문자를 넣을래\n",
    "# test라는 변수에 숫자를 넣을래\n",
    "test = 2\n",
    "test = \"Helo\"\n",
    "test = 3.5\n",
    "\n",
    "# Static Typing\n",
    "# test라는 변수에는 오직 숫자만 넣을 수 있고 넣을 수 있는 데이터의 양 조차 정의한다"
   ]
  },
  {
   "cell_type": "markdown",
   "metadata": {},
   "source": [
    "# 변수명 규칙\n",
    "- 1. 변수명은 숫자로 시작하면 안된다\n",
    "- 2. 변수명 사이에 공백은 허용하지 않는다\n",
    "- 3. 변수명에 @^#&*(^#@(*&@^# 특수문자 사용이 불가능하다\n",
    "- 4. 변수명에는 print와 같이 어떤 특정 기능을 할 때 사용하는 예약어의 사용이 불가능하다\n",
    "- 5. 왠만하면 대문자를 처음에 사용하지 마세요!!!"
   ]
  },
  {
   "cell_type": "code",
   "execution_count": 13,
   "metadata": {},
   "outputs": [
    {
     "name": "stdout",
     "output_type": "stream",
     "text": [
      "10.0\n"
     ]
    }
   ],
   "source": [
    "# 세금 = 나의 수익 (100) * 세금 비율 (0.1)\n",
    "my_income = 100\n",
    "tax_rate = 0.1\n",
    "\n",
    "my_taxes = my_income * tax_rate\n",
    "print(my_taxes)"
   ]
  },
  {
   "cell_type": "code",
   "execution_count": 14,
   "metadata": {},
   "outputs": [
    {
     "data": {
      "text/plain": [
       "int"
      ]
     },
     "execution_count": 14,
     "metadata": {},
     "output_type": "execute_result"
    }
   ],
   "source": [
    "# 데이터의 타입을 확인하는 방법 type(변수) 메소드(method) ==> 함수(function)\n",
    "a = 10\n",
    "type(a)"
   ]
  },
  {
   "cell_type": "code",
   "execution_count": 15,
   "metadata": {},
   "outputs": [
    {
     "data": {
      "text/plain": [
       "float"
      ]
     },
     "execution_count": 15,
     "metadata": {},
     "output_type": "execute_result"
    }
   ],
   "source": [
    "a = 10.5\n",
    "type(a)"
   ]
  },
  {
   "cell_type": "code",
   "execution_count": 16,
   "metadata": {},
   "outputs": [],
   "source": [
    "# string\n",
    "# 문자열\n",
    "# --> 다수의 문자로 구성된 집합\n",
    "# --> 문자 하나하나가 합쳐진 상태\n",
    "# Hello\n",
    "# \"H\" + \"e\" + \"l\" + \"l\" + \"o\""
   ]
  },
  {
   "cell_type": "code",
   "execution_count": 17,
   "metadata": {},
   "outputs": [],
   "source": [
    "# 문자열을 정의하느 4가지 방법\n",
    "# 1. 홑따옴표\n",
    "# 2. 쌍따옴표\n",
    "# 3. 트리플 홑따옴표\n",
    "# 4. 트리플 쌍따옴표"
   ]
  },
  {
   "cell_type": "code",
   "execution_count": 18,
   "metadata": {},
   "outputs": [
    {
     "name": "stdout",
     "output_type": "stream",
     "text": [
      "it's me\n"
     ]
    }
   ],
   "source": [
    "# 어퍼스트로피\n",
    "# 한 쌍이 문자열의 시작과 끝을 명시한다는\n",
    "a = \"it's me\"\n",
    "print(a)"
   ]
  },
  {
   "cell_type": "code",
   "execution_count": 20,
   "metadata": {},
   "outputs": [
    {
     "name": "stdout",
     "output_type": "stream",
     "text": [
      "\n",
      "\n",
      "it's me\n",
      "\n",
      "\n"
     ]
    }
   ],
   "source": [
    "# 트리플 쌍따옴표\n",
    "print('''\n",
    "\n",
    "it's me\n",
    "\n",
    "''')"
   ]
  },
  {
   "cell_type": "code",
   "execution_count": 21,
   "metadata": {},
   "outputs": [
    {
     "name": "stdout",
     "output_type": "stream",
     "text": [
      "\n",
      "Dear Su,\n",
      "\n",
      "It's such a great honor to meet you today.\n",
      "\n",
      "Thank You\n",
      "\n",
      "\n"
     ]
    }
   ],
   "source": [
    "print(\"\"\"\n",
    "Dear Su,\n",
    "\n",
    "It's such a great honor to meet you today.\n",
    "\n",
    "Thank You\n",
    "\n",
    "\"\"\")"
   ]
  },
  {
   "cell_type": "markdown",
   "metadata": {},
   "source": [
    "## Concatenate String"
   ]
  },
  {
   "cell_type": "code",
   "execution_count": 22,
   "metadata": {},
   "outputs": [
    {
     "name": "stdout",
     "output_type": "stream",
     "text": [
      "HelloWorldHelloWorld\n"
     ]
    }
   ],
   "source": [
    "a = \"Hello\"\n",
    "b = \"World\"\n",
    "print(a + b + a + b)"
   ]
  },
  {
   "cell_type": "code",
   "execution_count": 24,
   "metadata": {},
   "outputs": [
    {
     "name": "stdout",
     "output_type": "stream",
     "text": [
      "hellohellohellohellohellohellohellohellohellohellohellohellohellohellohellohellohellohellohellohellohellohellohellohellohellohellohellohellohellohellohellohellohellohellohellohellohellohellohellohellohellohellohellohellohellohellohellohellohellohellohellohellohellohellohellohellohellohellohellohellohellohellohellohellohellohellohellohellohellohellohellohellohellohellohellohellohellohellohellohellohellohellohellohellohellohellohellohellohellohellohellohellohellohellohellohellohellohellohellohello\n",
      "Hello\n"
     ]
    }
   ],
   "source": [
    "# 문자열 곱하기\n",
    "a = 'hello'\n",
    "print(a * 100)\n",
    "print(\"Hello\")"
   ]
  },
  {
   "cell_type": "code",
   "execution_count": 25,
   "metadata": {},
   "outputs": [
    {
     "name": "stdout",
     "output_type": "stream",
     "text": [
      "--------------------------------------------------\n",
      "Hello World\n",
      "--------------------------------------------------\n"
     ]
    }
   ],
   "source": [
    "# 1. 문자열 곱하기\n",
    "# 2. print라는 함수가(메소드)가 줄바꿈을 한다\n",
    "print(\"-\" * 50)\n",
    "print(\"Hello World\")\n",
    "print(\"-\" * 50)"
   ]
  },
  {
   "cell_type": "code",
   "execution_count": 26,
   "metadata": {},
   "outputs": [
    {
     "data": {
      "text/plain": [
       "15"
      ]
     },
     "execution_count": 26,
     "metadata": {},
     "output_type": "execute_result"
    }
   ],
   "source": [
    "# 2. 문자열 길이를 구하는 법\n",
    "# Why? 아이디, 비밀번호, 이메일 \n",
    "a = \"Hello World is \"\n",
    "\n",
    "# (길이)length\n",
    "len(a)"
   ]
  },
  {
   "cell_type": "code",
   "execution_count": 27,
   "metadata": {},
   "outputs": [
    {
     "data": {
      "text/plain": [
       "11"
      ]
     },
     "execution_count": 27,
     "metadata": {},
     "output_type": "execute_result"
    }
   ],
   "source": [
    "len(\"Hello World\")"
   ]
  },
  {
   "cell_type": "code",
   "execution_count": 28,
   "metadata": {},
   "outputs": [],
   "source": [
    "# 문자열 \n",
    "# 다수의 문자로 구성된 집합\n",
    "# 문자열을 구성하는 문자에 직접 접근할 수는 없는가?\n",
    "# indexing(인덱싱) index: 가리킨다"
   ]
  },
  {
   "attachments": {
    "image.png": {
     "image/png": "[encoded data removed]"
    }
   },
   "cell_type": "markdown",
   "metadata": {},
   "source": [
    "![image.png](attachment:image.png)"
   ]
  },
  {
   "cell_type": "code",
   "execution_count": 29,
   "metadata": {},
   "outputs": [
    {
     "name": "stdout",
     "output_type": "stream",
     "text": [
      "H\n"
     ]
    }
   ],
   "source": [
    "a = \"Hello\"\n",
    "print(a[0])"
   ]
  },
  {
   "cell_type": "code",
   "execution_count": 30,
   "metadata": {},
   "outputs": [
    {
     "name": "stdout",
     "output_type": "stream",
     "text": [
      "e\n"
     ]
    }
   ],
   "source": [
    "print(a[1])"
   ]
  },
  {
   "cell_type": "code",
   "execution_count": 32,
   "metadata": {},
   "outputs": [
    {
     "ename": "IndexError",
     "evalue": "string index out of range",
     "output_type": "error",
     "traceback": [
      "\u001b[1;31m---------------------------------------------------------------------------\u001b[0m",
      "\u001b[1;31mIndexError\u001b[0m                                Traceback (most recent call last)",
      "\u001b[1;32m<ipython-input-32-73bce34391c5>\u001b[0m in \u001b[0;36m<module>\u001b[1;34m\u001b[0m\n\u001b[1;32m----> 1\u001b[1;33m \u001b[0mprint\u001b[0m\u001b[1;33m(\u001b[0m\u001b[0ma\u001b[0m\u001b[1;33m[\u001b[0m\u001b[0mlen\u001b[0m\u001b[1;33m(\u001b[0m\u001b[0ma\u001b[0m\u001b[1;33m)\u001b[0m\u001b[1;33m]\u001b[0m\u001b[1;33m)\u001b[0m\u001b[1;33m\u001b[0m\u001b[1;33m\u001b[0m\u001b[0m\n\u001b[0m",
      "\u001b[1;31mIndexError\u001b[0m: string index out of range"
     ]
    }
   ],
   "source": [
    "print(a[len(a)])"
   ]
  },
  {
   "cell_type": "code",
   "execution_count": 33,
   "metadata": {},
   "outputs": [
    {
     "data": {
      "text/plain": [
       "'o'"
      ]
     },
     "execution_count": 33,
     "metadata": {},
     "output_type": "execute_result"
    }
   ],
   "source": [
    "a = \"Hello\"\n",
    "a[-1]"
   ]
  },
  {
   "cell_type": "code",
   "execution_count": 37,
   "metadata": {},
   "outputs": [
    {
     "name": "stdout",
     "output_type": "stream",
     "text": [
      "Hello\n",
      "Hello\n"
     ]
    }
   ],
   "source": [
    "# string을 조금 더 쉽게 그리고 효율적으로 다루는 방법\n",
    "# [start:end:step]\n",
    "# 1. start: 시작 index\n",
    "# 2. end: 목표 index + 1\n",
    "# 3. step 몇 단계식 건너뛸 것인가\n",
    "greeting = \"Hello World\"\n",
    "print(greeting[0:5]) # 0 ~ 4\n",
    "print(greeting[:5])"
   ]
  },
  {
   "attachments": {
    "image.png": {
     "image/png": "[encoded data removed]"
    }
   },
   "cell_type": "markdown",
   "metadata": {},
   "source": [
    "# string slicing -\n",
    "# slice = 잘라내다\n",
    "![image.png](attachment:image.png)"
   ]
  },
  {
   "cell_type": "code",
   "execution_count": 38,
   "metadata": {},
   "outputs": [
    {
     "data": {
      "text/plain": [
       "'aaaaa'"
      ]
     },
     "execution_count": 38,
     "metadata": {},
     "output_type": "execute_result"
    }
   ],
   "source": [
    "name = \"ababababab\"\n",
    "name[::2]"
   ]
  },
  {
   "cell_type": "code",
   "execution_count": 39,
   "metadata": {},
   "outputs": [
    {
     "data": {
      "text/plain": [
       "'bababababa'"
      ]
     },
     "execution_count": 39,
     "metadata": {},
     "output_type": "execute_result"
    }
   ],
   "source": [
    "name[::-1]"
   ]
  },
  {
   "cell_type": "code",
   "execution_count": 40,
   "metadata": {},
   "outputs": [
    {
     "data": {
      "text/plain": [
       "'Imagine'"
      ]
     },
     "execution_count": 40,
     "metadata": {},
     "output_type": "execute_result"
    }
   ],
   "source": [
    "lyrics = \"Imagine if I never messed up\"\n",
    "# favorite_part = lyrics[0] + lyrics[1] + lyrics[2]\n",
    "lyrics[:7]"
   ]
  },
  {
   "cell_type": "code",
   "execution_count": 41,
   "metadata": {},
   "outputs": [
    {
     "data": {
      "text/plain": [
       "'Hello World'"
      ]
     },
     "execution_count": 41,
     "metadata": {},
     "output_type": "execute_result"
    }
   ],
   "source": [
    "# string is immutability\n",
    "# 문자열은 불변성을\n",
    "# 기존의 문자열에 새로운 문자를 추가하는 것은 가능해요,\n",
    "# 기존의 문자열에 있는 내용을 다른 문자로 변경하는 것은 불가능해요\n",
    "\n",
    "a = \"Hello \"\n",
    "a = a + \"World\"\n",
    "a"
   ]
  },
  {
   "cell_type": "code",
   "execution_count": 42,
   "metadata": {},
   "outputs": [
    {
     "data": {
      "text/plain": [
       "'H'"
      ]
     },
     "execution_count": 42,
     "metadata": {},
     "output_type": "execute_result"
    }
   ],
   "source": [
    "a[0]"
   ]
  },
  {
   "cell_type": "code",
   "execution_count": 43,
   "metadata": {},
   "outputs": [
    {
     "ename": "TypeError",
     "evalue": "'str' object does not support item assignment",
     "output_type": "error",
     "traceback": [
      "\u001b[1;31m---------------------------------------------------------------------------\u001b[0m",
      "\u001b[1;31mTypeError\u001b[0m                                 Traceback (most recent call last)",
      "\u001b[1;32m<ipython-input-43-a41c88416083>\u001b[0m in \u001b[0;36m<module>\u001b[1;34m\u001b[0m\n\u001b[1;32m----> 1\u001b[1;33m \u001b[0ma\u001b[0m\u001b[1;33m[\u001b[0m\u001b[1;36m0\u001b[0m\u001b[1;33m]\u001b[0m \u001b[1;33m=\u001b[0m \u001b[1;34m\"d\"\u001b[0m\u001b[1;33m\u001b[0m\u001b[1;33m\u001b[0m\u001b[0m\n\u001b[0m",
      "\u001b[1;31mTypeError\u001b[0m: 'str' object does not support item assignment"
     ]
    }
   ],
   "source": [
    "a[0] = \"d\""
   ]
  },
  {
   "cell_type": "markdown",
   "metadata": {},
   "source": [
    "## 문자열 요약\n",
    "\n",
    "문자열은 = 다수의 문자로 구성된 집합\n",
    "문자열에 유용하게 접근하기 위해 우리는 index (가리킨다) 것을 사용할 수 있다\n",
    "a = \"Hello\"\n",
    "a[0]\n",
    "단, 첫번째 index는 0부터 시작한다 이 부분을 혼동하지말자\n",
    "\n",
    "문자열 내부의 두 개 이상의 문자에 손쉽게 접근하기 위해서 우리는\n",
    "slice(잘라내다) 라는 방식을 사용할 수 있다\n",
    "[start:end:step]\n",
    "\n",
    "a = \"hELLO wORLD\"\n",
    "a[:5]\n",
    "\n",
    "문자열ㅇ른 기존의 요소를 변경하는 것이 불가능하다. 그 이뉴는 문자열이 가지는 불변성의 특징 때문이다."
   ]
  },
  {
   "cell_type": "markdown",
   "metadata": {},
   "source": [
    "## 문자열에 내장된 유용한 함수\n",
    "\n",
    "1. 문자열 내부에 특정 문자가 몇개가 존재하는가 (count)\n",
    "2. 특정 문자의 위치를 찾기 (find) - 존재하지 않는 경우에는 -1을 리턴\n",
    "3. 특정 문자의 위치를 찾기 (index) - 존재하지 않는 경우 오류를 발생시킨다\n",
    "4. 문자열 삽입(join) \"abcd\" --> \",\" --> \"a,b,c,d\"\n",
    "5. 생성한 문자를 대문자 혹은 소문자로 변경하는 함수 (upper or lower)\n",
    "6. 특정 글자를 기준으로 한 단위로 문자를 쪼개는 함수 (split)\n",
    "7. 왼쪽 공백 지우기 (lstrip)\n",
    "8. 오른쪽 공백 지우기 (rstrip)\n",
    "9. 양쪽 공백 지우기 (strip)\n",
    "10. 문자열 변경하기 (replace) --> 아하 문자열 변경하기는 새로운 문자를 생성하는 거구나 기존의 문자를 기반으로"
   ]
  },
  {
   "cell_type": "code",
   "execution_count": 44,
   "metadata": {},
   "outputs": [
    {
     "name": "stdout",
     "output_type": "stream",
     "text": [
      "5\n"
     ]
    }
   ],
   "source": [
    "# 문자 개수 세기 (count)\n",
    "count_str = \"ababababab\"\n",
    "print(count_str.count('a'))"
   ]
  },
  {
   "cell_type": "code",
   "execution_count": 45,
   "metadata": {},
   "outputs": [
    {
     "name": "stdout",
     "output_type": "stream",
     "text": [
      "-1\n"
     ]
    }
   ],
   "source": [
    "# 문자의 위치 알려 ( -1 리턴, 오류리턴)\n",
    "# -1 ==> find\n",
    "find_str = 'Hello World'\n",
    "print(find_str.find(\"가\"))"
   ]
  },
  {
   "cell_type": "code",
   "execution_count": 46,
   "metadata": {},
   "outputs": [
    {
     "ename": "ValueError",
     "evalue": "substring not found",
     "output_type": "error",
     "traceback": [
      "\u001b[1;31m---------------------------------------------------------------------------\u001b[0m",
      "\u001b[1;31mValueError\u001b[0m                                Traceback (most recent call last)",
      "\u001b[1;32m<ipython-input-46-9f219a6ec346>\u001b[0m in \u001b[0;36m<module>\u001b[1;34m\u001b[0m\n\u001b[0;32m      1\u001b[0m \u001b[0mfind_str\u001b[0m \u001b[1;33m=\u001b[0m \u001b[1;34m'Hello World'\u001b[0m\u001b[1;33m\u001b[0m\u001b[1;33m\u001b[0m\u001b[0m\n\u001b[1;32m----> 2\u001b[1;33m \u001b[0mprint\u001b[0m\u001b[1;33m(\u001b[0m\u001b[0mfind_str\u001b[0m\u001b[1;33m.\u001b[0m\u001b[0mindex\u001b[0m\u001b[1;33m(\u001b[0m\u001b[1;34m\"가\"\u001b[0m\u001b[1;33m)\u001b[0m\u001b[1;33m)\u001b[0m\u001b[1;33m\u001b[0m\u001b[1;33m\u001b[0m\u001b[0m\n\u001b[0m",
      "\u001b[1;31mValueError\u001b[0m: substring not found"
     ]
    }
   ],
   "source": [
    "find_str = 'Hello World'\n",
    "print(find_str.index(\"가\"))"
   ]
  },
  {
   "cell_type": "code",
   "execution_count": 48,
   "metadata": {},
   "outputs": [
    {
     "data": {
      "text/plain": [
       "'a,b,c,d'"
      ]
     },
     "execution_count": 48,
     "metadata": {},
     "output_type": "execute_result"
    }
   ],
   "source": [
    "a = \"abcd\"\n",
    "\",\".join(a)"
   ]
  },
  {
   "cell_type": "code",
   "execution_count": 49,
   "metadata": {},
   "outputs": [
    {
     "name": "stdout",
     "output_type": "stream",
     "text": [
      "HELLOWORLD\n",
      "helloworld\n"
     ]
    }
   ],
   "source": [
    "# 문자열을 대문자로 변경\n",
    "lower_to_upper = \"helloworld\"\n",
    "print(lower_to_upper.upper())\n",
    "# 문자열을 소문자로 변경\n",
    "upper_to_lower = \"HELLOWORLD\"\n",
    "print(upper_to_lower.lower())"
   ]
  },
  {
   "cell_type": "code",
   "execution_count": 50,
   "metadata": {},
   "outputs": [
    {
     "name": "stdout",
     "output_type": "stream",
     "text": [
      "hello\n"
     ]
    }
   ],
   "source": [
    "# 문자열 왼쪽 공백 지우기 (lstrip)\n",
    "left_blank = \" hello\"\n",
    "print(left_blank.lstrip())"
   ]
  },
  {
   "cell_type": "code",
   "execution_count": 51,
   "metadata": {},
   "outputs": [
    {
     "name": "stdout",
     "output_type": "stream",
     "text": [
      "hello\n"
     ]
    }
   ],
   "source": [
    "# 문자열 오른쪽 공백 지우기 (rstrip)\n",
    "right_blank = \"hello     \"\n",
    "print(right_blank.rstrip())"
   ]
  },
  {
   "cell_type": "code",
   "execution_count": 52,
   "metadata": {},
   "outputs": [
    {
     "name": "stdout",
     "output_type": "stream",
     "text": [
      "hello\n"
     ]
    }
   ],
   "source": [
    "# 문자열 양쪽 공백 지우기\n",
    "both_blank = \"       hello      \"\n",
    "print(both_blank.strip())"
   ]
  },
  {
   "cell_type": "code",
   "execution_count": 54,
   "metadata": {},
   "outputs": [
    {
     "name": "stdout",
     "output_type": "stream",
     "text": [
      "Hello Hi\n",
      "Hello World\n"
     ]
    }
   ],
   "source": [
    "# 문자열 변경하기 (replace)\n",
    "# 문자열은 immutability (불변성)\n",
    "# replace 함수는 변경하고 싶은 문자로 새로운 문자열을 생성해 리턴한다\n",
    "new_str = \"Hello World\"\n",
    "print(new_str.replace(\"World\", \"Hi\"))\n",
    "print(new_str)"
   ]
  },
  {
   "cell_type": "code",
   "execution_count": 56,
   "metadata": {},
   "outputs": [
    {
     "name": "stdout",
     "output_type": "stream",
     "text": [
      "['', 'b', 'b', 'b', 'b', 'b', 'b']\n"
     ]
    }
   ],
   "source": [
    "# split(쪼개다) --> 특정문자를 기준으로 쪼개는거에요, 특정문자는 포함하지 않는다\n",
    "split_str = \"abababababab\"\n",
    "print(split_str.split(\"a\"))"
   ]
  },
  {
   "cell_type": "markdown",
   "metadata": {},
   "source": [
    "## String Formatting"
   ]
  },
  {
   "cell_type": "code",
   "execution_count": 57,
   "metadata": {},
   "outputs": [
    {
     "name": "stdout",
     "output_type": "stream",
     "text": [
      "저는 15살 입니다\n",
      "저는 20살 입니다\n"
     ]
    }
   ],
   "source": [
    "print(\"저는 15살 입니다\")\n",
    "print(\"저는 20살 입니다\")"
   ]
  },
  {
   "cell_type": "code",
   "execution_count": 58,
   "metadata": {},
   "outputs": [
    {
     "name": "stdout",
     "output_type": "stream",
     "text": [
      "I am 15\n",
      "I am 20\n"
     ]
    }
   ],
   "source": [
    "print(\"I am %d\" %15)\n",
    "print(\"I am %d\" %20)"
   ]
  },
  {
   "cell_type": "code",
   "execution_count": 59,
   "metadata": {},
   "outputs": [
    {
     "name": "stdout",
     "output_type": "stream",
     "text": [
      "I am Hello World\n"
     ]
    }
   ],
   "source": [
    "print(\"I am %s\" %\"Hello World\")"
   ]
  },
  {
   "cell_type": "code",
   "execution_count": 60,
   "metadata": {},
   "outputs": [
    {
     "name": "stdout",
     "output_type": "stream",
     "text": [
      "Hello I am Yongsu and 15 years old\n"
     ]
    }
   ],
   "source": [
    "age = 15\n",
    "name = \"Yongsu\"\n",
    "print(\"Hello I am %s and %d years old\" %(name, age))"
   ]
  },
  {
   "cell_type": "code",
   "execution_count": 62,
   "metadata": {},
   "outputs": [
    {
     "name": "stdout",
     "output_type": "stream",
     "text": [
      "3.1414\n",
      "    3.1414\n"
     ]
    }
   ],
   "source": [
    "# 소수점 표현하기\n",
    "print(\"%0.4f\" % 3.141414)\n",
    "print(\"%10.4f\" % 3.141414)"
   ]
  },
  {
   "cell_type": "code",
   "execution_count": 63,
   "metadata": {},
   "outputs": [
    {
     "name": "stdout",
     "output_type": "stream",
     "text": [
      "I am 25 su\n"
     ]
    }
   ],
   "source": [
    "# format 함수\n",
    "age = 25\n",
    "name = 'su'\n",
    "print(\"I am {0} {1}\".format(age, name))"
   ]
  },
  {
   "cell_type": "code",
   "execution_count": 65,
   "metadata": {},
   "outputs": [
    {
     "name": "stdout",
     "output_type": "stream",
     "text": [
      "My name is Yongsu and I am 26 years old\n"
     ]
    }
   ],
   "source": [
    "# f string formatting\n",
    "# python 3.6 버전 f string formatting\n",
    "name = \"Yongsu\"\n",
    "age = 25\n",
    "print(f'My name is {name} and I am {age + 1} years old')"
   ]
  },
  {
   "cell_type": "code",
   "execution_count": 71,
   "metadata": {},
   "outputs": [
    {
     "name": "stdout",
     "output_type": "stream",
     "text": [
      "hi        \n",
      "        hi\n",
      "    hi    \n",
      "{and}\n",
      "3.1414\n"
     ]
    }
   ],
   "source": [
    "# 왼쪽 정렬\n",
    "print(f'{\"hi\":<10}')\n",
    "# 오른쪽 정렬\n",
    "print(f'{\"hi\":>10}')\n",
    "# 가운데 정렬\n",
    "print(f'{\"hi\":^10}')\n",
    "# 내부에 중괄호를 표시하고 싶은 경우\n",
    "print(f'{{and}}')\n",
    "# 소수점 4자리 까지만\n",
    "a = 3.1414141414\n",
    "print(f'{a:0.4f}')"
   ]
  },
  {
   "cell_type": "code",
   "execution_count": null,
   "metadata": {},
   "outputs": [],
   "source": []
  }
 ],
 "metadata": {
  "kernelspec": {
   "display_name": "Python 3",
   "language": "python",
   "name": "python3"
  },
  "language_info": {
   "codemirror_mode": {
    "name": "ipython",
    "version": 3
   },
   "file_extension": ".py",
   "mimetype": "text/x-python",
   "name": "python",
   "nbconvert_exporter": "python",
   "pygments_lexer": "ipython3",
   "version": "3.8.5"
  }
 },
 "nbformat": 4,
 "nbformat_minor": 4
}
