{
 "cells": [
  {
   "cell_type": "code",
   "execution_count": 1,
   "metadata": {},
   "outputs": [
    {
     "name": "stdout",
     "output_type": "stream",
     "text": [
      "1.0\n"
     ]
    }
   ],
   "source": [
    "test = 1\n",
    "test = \"Hello\"\n",
    "test = 1.0\n",
    "\n",
    "print(test)"
   ]
  },
  {
   "cell_type": "code",
   "execution_count": 2,
   "metadata": {},
   "outputs": [
    {
     "name": "stdout",
     "output_type": "stream",
     "text": [
      "<class 'int'>\n",
      "<class 'float'>\n"
     ]
    }
   ],
   "source": [
    "# 정수 (Integer) - 소수 (Float)\n",
    "a = 2\n",
    "b = 2.5\n",
    "\n",
    "print(type(a))\n",
    "print(type(b))"
   ]
  },
  {
   "cell_type": "code",
   "execution_count": 3,
   "metadata": {},
   "outputs": [
    {
     "name": "stdout",
     "output_type": "stream",
     "text": [
      "1.5\n",
      "1\n",
      "1\n",
      "9\n",
      "105\n",
      "84\n"
     ]
    }
   ],
   "source": [
    "print(3 / 2) # 소수점 포함\n",
    "print(3 // 2) # 소수점 미포함\n",
    "print(3 % 2) # 나머지 구하기\n",
    "print(3 ** 2) # 제곱\n",
    "print(2 + 10 * 10 + 3) # 연산 우선 순위\n",
    "print((2 + 10) * (5 + 2)) # 연산 우선 순위 (소괄호 이용)"
   ]
  },
  {
   "cell_type": "code",
   "execution_count": 5,
   "metadata": {},
   "outputs": [],
   "source": [
    "# == (같다)\n",
    "# = (값을 변수에 할당한다)"
   ]
  },
  {
   "cell_type": "markdown",
   "metadata": {},
   "source": [
    "## 변수명 규칙\n",
    "1. 변수명은 숫자로 시작하면 안된다\n",
    "2. 변수명 사이에 공백은 허용되지 않는다\n",
    "3. 변수명에 ^(&*^*&(^ 특수문자는 사용하지 않는다\n",
    "4. 변수명에 print, type 등과 같은 예약어는 사용핮 ㅣ않는다\n",
    "5. 왠만하면 처음에 대문자를 사용하지 않는다\n",
    " - Pi = 3.14"
   ]
  },
  {
   "cell_type": "code",
   "execution_count": 6,
   "metadata": {},
   "outputs": [
    {
     "name": "stdout",
     "output_type": "stream",
     "text": [
      "10.0\n"
     ]
    }
   ],
   "source": [
    "# 세금 = 나의 수익 * 세금 비율\n",
    "my_income = 100\n",
    "tax_rate = 0.1\n",
    "\n",
    "my_taxes = my_income * tax_rate\n",
    "print(my_taxes)"
   ]
  },
  {
   "cell_type": "markdown",
   "metadata": {},
   "source": [
    "# String (문자열)\n",
    "\n",
    "- 문자열은 다수의 문자로 구성된 집합\n",
    "- 문자 하나하나가 합쳐신 상태를 의미한다\n",
    "#### Hello\n",
    "- \"H\" + \"e\" + \"l\" + \"l\" + \"o\""
   ]
  },
  {
   "cell_type": "code",
   "execution_count": 7,
   "metadata": {},
   "outputs": [
    {
     "name": "stdout",
     "output_type": "stream",
     "text": [
      "hello\n",
      "Hello WOrld\n",
      "\n",
      "Hello\n",
      "\n",
      "This is \n",
      "\n",
      "Yongsu\n",
      "\n",
      "\n"
     ]
    }
   ],
   "source": [
    "# 문자열을 정의하는 방식 (4가지)\n",
    "# 1. 홑따옴표 ''\n",
    "# 2. 쌍따옴표 \"\" (어퍼스트로피)\n",
    "# 3. 트리플 홑따옴표 ''''''\n",
    "#4. 트리플 쌍따옴표 \"\"\"\"\"\"\n",
    "a = 'hello'\n",
    "b = \"Hello WOrld\"\n",
    "c = '''\n",
    "Hello\n",
    "\n",
    "This is \n",
    "\n",
    "Yongsu\n",
    "\n",
    "'''\n",
    "\n",
    "print(a)\n",
    "print(b)\n",
    "print(c)"
   ]
  },
  {
   "cell_type": "code",
   "execution_count": 8,
   "metadata": {},
   "outputs": [
    {
     "name": "stdout",
     "output_type": "stream",
     "text": [
      "HelloWorldHelloWorld\n"
     ]
    }
   ],
   "source": [
    "# 문자열은 덧셈이 가능하다\n",
    "a = \"Hello\"\n",
    "b = \"World\"\n",
    "print(a + b + a + b)"
   ]
  },
  {
   "cell_type": "code",
   "execution_count": 9,
   "metadata": {},
   "outputs": [
    {
     "name": "stdout",
     "output_type": "stream",
     "text": [
      "hellohellohellohellohellohellohellohellohellohellohellohellohellohellohellohellohellohellohellohellohellohellohellohellohellohellohellohellohellohellohellohellohellohellohellohellohellohellohellohellohellohellohellohellohellohellohellohellohellohellohellohellohellohellohellohellohellohellohellohellohellohellohellohellohellohellohellohellohellohellohellohellohellohellohellohellohellohellohellohellohellohellohellohellohellohellohellohellohellohellohellohellohellohellohellohellohellohellohellohello\n"
     ]
    }
   ],
   "source": [
    "# 문자열 곱하기\n",
    "a = \"hello\"\n",
    "print(a * 100)"
   ]
  },
  {
   "cell_type": "code",
   "execution_count": null,
   "metadata": {},
   "outputs": [],
   "source": [
    "--------------------------------------------------\n",
    "Hello World\n",
    "--------------------------------------------------"
   ]
  },
  {
   "cell_type": "code",
   "execution_count": 10,
   "metadata": {},
   "outputs": [
    {
     "name": "stdout",
     "output_type": "stream",
     "text": [
      "--------------------------------------------------\n",
      "Hello World\n",
      "--------------------------------------------------\n"
     ]
    }
   ],
   "source": [
    "print(\"-\" * 50)\n",
    "print(\"Hello World\")\n",
    "print(\"-\" * 50)"
   ]
  },
  {
   "cell_type": "code",
   "execution_count": 11,
   "metadata": {},
   "outputs": [
    {
     "name": "stdout",
     "output_type": "stream",
     "text": [
      "11\n"
     ]
    }
   ],
   "source": [
    "# 문자열 길이를 구하는 법\n",
    "# 아이디, 비밀번호, 이메일\n",
    "# length\n",
    "a = 'Hello World'\n",
    "print(len(a))"
   ]
  },
  {
   "cell_type": "code",
   "execution_count": 12,
   "metadata": {},
   "outputs": [
    {
     "data": {
      "text/plain": [
       "'H'"
      ]
     },
     "execution_count": 12,
     "metadata": {},
     "output_type": "execute_result"
    }
   ],
   "source": [
    "# index (가리키다)\n",
    "# indexing(인겓싱)\n",
    "# 문자열을 구성하는 문자에 직접 접근할 수 없는가? Yes\n"
   ]
  },
  {
   "attachments": {
    "image.png": {
     "image/png": "[encoded data removed]"
    }
   },
   "cell_type": "markdown",
   "metadata": {},
   "source": [
    "![image.png](attachment:image.png)"
   ]
  },
  {
   "cell_type": "code",
   "execution_count": 13,
   "metadata": {},
   "outputs": [
    {
     "data": {
      "text/plain": [
       "'h'"
      ]
     },
     "execution_count": 13,
     "metadata": {},
     "output_type": "execute_result"
    }
   ],
   "source": [
    "a = \"hello\"\n",
    "a[0]"
   ]
  },
  {
   "cell_type": "code",
   "execution_count": 14,
   "metadata": {},
   "outputs": [
    {
     "data": {
      "text/plain": [
       "'e'"
      ]
     },
     "execution_count": 14,
     "metadata": {},
     "output_type": "execute_result"
    }
   ],
   "source": [
    "a[1]"
   ]
  },
  {
   "cell_type": "code",
   "execution_count": 15,
   "metadata": {},
   "outputs": [
    {
     "data": {
      "text/plain": [
       "'o'"
      ]
     },
     "execution_count": 15,
     "metadata": {},
     "output_type": "execute_result"
    }
   ],
   "source": [
    "a[-1]"
   ]
  },
  {
   "cell_type": "code",
   "execution_count": 16,
   "metadata": {},
   "outputs": [
    {
     "data": {
      "text/plain": [
       "'l'"
      ]
     },
     "execution_count": 16,
     "metadata": {},
     "output_type": "execute_result"
    }
   ],
   "source": [
    "a[-2]"
   ]
  },
  {
   "cell_type": "code",
   "execution_count": 19,
   "metadata": {},
   "outputs": [
    {
     "name": "stdout",
     "output_type": "stream",
     "text": [
      "o\n"
     ]
    }
   ],
   "source": [
    "a = \"hello\"\n",
    "\n",
    "print(a[len(a) - 1])"
   ]
  },
  {
   "cell_type": "markdown",
   "metadata": {},
   "source": [
    "### string slicing(잘라내다)"
   ]
  },
  {
   "cell_type": "code",
   "execution_count": 20,
   "metadata": {},
   "outputs": [],
   "source": [
    "a = \"Hello World\"\n",
    "b = a[0] + a[1] + a[2] + a[3]"
   ]
  },
  {
   "attachments": {
    "image.png": {
     "image/png": "[encoded data removed]"
    }
   },
   "cell_type": "markdown",
   "metadata": {},
   "source": [
    "![image.png](attachment:image.png)"
   ]
  },
  {
   "cell_type": "code",
   "execution_count": 23,
   "metadata": {},
   "outputs": [
    {
     "name": "stdout",
     "output_type": "stream",
     "text": [
      "Hello\n",
      "Hello\n"
     ]
    }
   ],
   "source": [
    "a = \"Hello World\"\n",
    "print(a[0:5])\n",
    "print(a[:5])"
   ]
  },
  {
   "cell_type": "code",
   "execution_count": 24,
   "metadata": {},
   "outputs": [
    {
     "name": "stdout",
     "output_type": "stream",
     "text": [
      "aaaaa\n"
     ]
    }
   ],
   "source": [
    "a = \"ababababab\"\n",
    "print(a[::2])"
   ]
  },
  {
   "cell_type": "code",
   "execution_count": 25,
   "metadata": {},
   "outputs": [
    {
     "name": "stdout",
     "output_type": "stream",
     "text": [
      "bbbbaaaa\n"
     ]
    }
   ],
   "source": [
    "a = \"aaaabbbb\"\n",
    "print(a[::-1])"
   ]
  },
  {
   "cell_type": "code",
   "execution_count": 27,
   "metadata": {},
   "outputs": [
    {
     "data": {
      "text/plain": [
       "'Imaging'"
      ]
     },
     "execution_count": 27,
     "metadata": {},
     "output_type": "execute_result"
    }
   ],
   "source": [
    "lyrics = \"Imaging if I never messed up\"\n",
    "lyrics[0:7]"
   ]
  },
  {
   "cell_type": "code",
   "execution_count": 28,
   "metadata": {},
   "outputs": [
    {
     "name": "stdout",
     "output_type": "stream",
     "text": [
      "HelloWorld\n"
     ]
    }
   ],
   "source": [
    "# String is immutability (불변성)\n",
    "# 문자열은 불변성\n",
    "# 기존의 문자열에 새로운 문자를 추가하는 것은 가능해요\n",
    "# 기존의 문자열에 있는 요소 중 하나를 다른 값으로 변경하는 것은 불가능해요\n",
    "a = \"Hello\"\n",
    "a = a + \"World\"\n",
    "print(a)"
   ]
  },
  {
   "cell_type": "code",
   "execution_count": 30,
   "metadata": {},
   "outputs": [
    {
     "ename": "TypeError",
     "evalue": "'str' object does not support item assignment",
     "output_type": "error",
     "traceback": [
      "\u001b[1;31m---------------------------------------------------------------------------\u001b[0m",
      "\u001b[1;31mTypeError\u001b[0m                                 Traceback (most recent call last)",
      "\u001b[1;32m<ipython-input-30-e7e391b0d8de>\u001b[0m in \u001b[0;36m<module>\u001b[1;34m\u001b[0m\n\u001b[0;32m      1\u001b[0m \u001b[0ma\u001b[0m \u001b[1;33m=\u001b[0m \u001b[1;34m\"Hello\"\u001b[0m\u001b[1;33m\u001b[0m\u001b[1;33m\u001b[0m\u001b[0m\n\u001b[1;32m----> 2\u001b[1;33m \u001b[0ma\u001b[0m\u001b[1;33m[\u001b[0m\u001b[1;36m0\u001b[0m\u001b[1;33m]\u001b[0m \u001b[1;33m=\u001b[0m \u001b[1;34m\"W\"\u001b[0m\u001b[1;33m\u001b[0m\u001b[1;33m\u001b[0m\u001b[0m\n\u001b[0m",
      "\u001b[1;31mTypeError\u001b[0m: 'str' object does not support item assignment"
     ]
    }
   ],
   "source": [
    "a = \"Hello\"\n",
    "a[0] = \"W\""
   ]
  },
  {
   "cell_type": "markdown",
   "metadata": {},
   "source": [
    "##  문자열 요약\n",
    "\n",
    "문자열 = 다수의 문자로 구성된 집합\n",
    "indexing = 문자열이 다수의 문자로 구성되었기 때문에 개별의 문자에 접근하는 방법이다\n",
    "- 시작은 0부터 한다\n",
    "- [index]\n",
    "- 이렇게 indexing을 조금 더 효율적으로 하기 위해서\n",
    "- slice (자르다)\n",
    "[start:end:step]\n",
    "- end 값은 포함하지 않는다, end 값 전 값까지 포함한다\n",
    "- step: 0을 포함한 배수를 생각하면된다.\n",
    "\n",
    "문자열에는 새로운 요소를 추가하는 것은 가능하지만,\n",
    "기존의 문자를 변경하는 것은 불가능하다."
   ]
  },
  {
   "cell_type": "markdown",
   "metadata": {},
   "source": [
    "# h1\n",
    "## h2\n",
    "### h3\n",
    "#### h4\n",
    "##### h5\n",
    "###### h6\n",
    "\n",
    "1. 1\n",
    "2. 2\n",
    "3. 3"
   ]
  },
  {
   "cell_type": "markdown",
   "metadata": {},
   "source": [
    "### 문자열에 내장된 유용한 함수\n",
    "1. 문자열 내부에 특정 문자가 몇개 존재하는가 (count)\n",
    "2. 문자열 내부에서 특정 문자의 위치가 어디인가 (find (-1), index(오류를 출력))\n",
    "3. 문자열 삽입 (join) \"abcd\" --> \",\" --> \"a,b,c,d\"\n",
    "4. 문자열 전체를 소문자 혹은 대문자로 만들기 (lower or upper)\n",
    "5. 문자열에 포함된 특정 문자를 기준으로 문자열 쪼개기 (split)\n",
    "6. 왼쪽 공백지우기 (lstrip) 오른쪽 공백지우기 (rstrip) 양쪽 공백지우기 (strip)\n",
    "7. 문자열 변경하기 (replace)\n",
    "    --> 문자열은 변경이 불가능하다\n",
    "    --> 문자열 변경하기 (replace)는 내부적으로 새로운 문자를 생성하는구나"
   ]
  },
  {
   "cell_type": "code",
   "execution_count": 31,
   "metadata": {},
   "outputs": [
    {
     "name": "stdout",
     "output_type": "stream",
     "text": [
      "4\n"
     ]
    }
   ],
   "source": [
    "# 문자 개수 세기 (count)\n",
    "count_num_of_str = \"abababab\"\n",
    "print(count_num_of_str.count(\"a\"))"
   ]
  },
  {
   "cell_type": "code",
   "execution_count": 35,
   "metadata": {},
   "outputs": [
    {
     "name": "stdout",
     "output_type": "stream",
     "text": [
      "2\n"
     ]
    }
   ],
   "source": [
    "# 특정 문자의 위치 찾기 (find, index)\n",
    "find_char = \"Hello World\"\n",
    "print(find_char.find(\"l\"))"
   ]
  },
  {
   "cell_type": "code",
   "execution_count": 36,
   "metadata": {},
   "outputs": [
    {
     "ename": "ValueError",
     "evalue": "substring not found",
     "output_type": "error",
     "traceback": [
      "\u001b[1;31m---------------------------------------------------------------------------\u001b[0m",
      "\u001b[1;31mValueError\u001b[0m                                Traceback (most recent call last)",
      "\u001b[1;32m<ipython-input-36-aba73a15d840>\u001b[0m in \u001b[0;36m<module>\u001b[1;34m\u001b[0m\n\u001b[1;32m----> 1\u001b[1;33m \u001b[0mprint\u001b[0m\u001b[1;33m(\u001b[0m\u001b[0mfind_char\u001b[0m\u001b[1;33m.\u001b[0m\u001b[0mindex\u001b[0m\u001b[1;33m(\u001b[0m\u001b[1;34m\"가\"\u001b[0m\u001b[1;33m)\u001b[0m\u001b[1;33m)\u001b[0m\u001b[1;33m\u001b[0m\u001b[1;33m\u001b[0m\u001b[0m\n\u001b[0m",
      "\u001b[1;31mValueError\u001b[0m: substring not found"
     ]
    }
   ],
   "source": [
    "print(find_char.index(\"가\"))"
   ]
  },
  {
   "cell_type": "code",
   "execution_count": 38,
   "metadata": {},
   "outputs": [
    {
     "name": "stdout",
     "output_type": "stream",
     "text": [
      "a, b, c, d\n"
     ]
    }
   ],
   "source": [
    "# 문자열 삽입 (join)\n",
    "a = \"abcd\"\n",
    "\n",
    "b = \", \".join(a)\n",
    "print(b)"
   ]
  },
  {
   "cell_type": "code",
   "execution_count": 40,
   "metadata": {},
   "outputs": [
    {
     "name": "stdout",
     "output_type": "stream",
     "text": [
      "aaaaaaa\n",
      "BBBBBBB\n"
     ]
    }
   ],
   "source": [
    "# 소문자 + 대문자\n",
    "# chaining \n",
    "a = \"aaaaaaa\"\n",
    "b = \"BBBBBBB\"\n",
    "print(a.upper().lower())\n",
    "print(b.lower().upper())"
   ]
  },
  {
   "cell_type": "code",
   "execution_count": 41,
   "metadata": {},
   "outputs": [
    {
     "data": {
      "text/plain": [
       "['Hello', 'This', 'is', 'Yongsu', 'Jeong', 'Welcome']"
      ]
     },
     "execution_count": 41,
     "metadata": {},
     "output_type": "execute_result"
    }
   ],
   "source": [
    "# 특정 글자를 단위로 문자를 쪼개는 함수 (split)\n",
    "a = \"Hello This is Yongsu Jeong Welcome\"\n",
    "a.split(\" \")"
   ]
  },
  {
   "cell_type": "code",
   "execution_count": 43,
   "metadata": {},
   "outputs": [
    {
     "name": "stdout",
     "output_type": "stream",
     "text": [
      "aaaa\n",
      "aaaa\n",
      "aa\n"
     ]
    }
   ],
   "source": [
    "# 왼쪽 (lstrip) 오른쪽 (rstrip) 양쪽 (strip)\n",
    "a = \"      aaaa\"\n",
    "b = \"aaaa      \"\n",
    "c = \"    aa    \"\n",
    "\n",
    "print(a.lstrip())\n",
    "print(b.rstrip())\n",
    "print(c.strip())"
   ]
  },
  {
   "cell_type": "code",
   "execution_count": 44,
   "metadata": {},
   "outputs": [
    {
     "name": "stdout",
     "output_type": "stream",
     "text": [
      "Hello Yongsu\n",
      "Hello World\n"
     ]
    }
   ],
   "source": [
    "# 문자열 변경하기 replace\n",
    "# 문자열은 변경이 불가능하다 ---> 가능하다 --> 아하 새로운 문자를 생성하는 거구나\n",
    "str_replace = \"Hello World\"\n",
    "# replace(변경하고싶은문자, 변경 문자)\n",
    "print(str_replace.replace(\"World\", \"Yongsu\"))\n",
    "print(str_replace)"
   ]
  },
  {
   "cell_type": "markdown",
   "metadata": {},
   "source": [
    "### String Formatting"
   ]
  },
  {
   "cell_type": "code",
   "execution_count": 45,
   "metadata": {},
   "outputs": [
    {
     "name": "stdout",
     "output_type": "stream",
     "text": [
      "저는 15살 입니다\n",
      "저는 16살 입니다\n",
      "저는 17살 입니다\n"
     ]
    }
   ],
   "source": [
    "print(\"저는 15살 입니다\")\n",
    "print(\"저는 16살 입니다\")\n",
    "print(\"저는 17살 입니다\")"
   ]
  },
  {
   "cell_type": "code",
   "execution_count": 46,
   "metadata": {},
   "outputs": [],
   "source": [
    "# 1. string format(유물)\n",
    "# 2. Format 함수 (청동기)\n",
    "# 3. f - string (21세기)"
   ]
  },
  {
   "cell_type": "code",
   "execution_count": 48,
   "metadata": {},
   "outputs": [
    {
     "name": "stdout",
     "output_type": "stream",
     "text": [
      "I am 15\n",
      "I am Yongsu\n",
      "I am c\n"
     ]
    }
   ],
   "source": [
    "# 정수: %d\n",
    "# 소수: %f\n",
    "# 문자열: %s\n",
    "# 문자(하나): %c\n",
    "print('I am %d' %15)\n",
    "print('I am %s' %\"Yongsu\")\n",
    "print('I am %c' %'c')"
   ]
  },
  {
   "cell_type": "code",
   "execution_count": 50,
   "metadata": {},
   "outputs": [
    {
     "name": "stdout",
     "output_type": "stream",
     "text": [
      "I am 15\n",
      "I am Yongsu\n",
      "I am Yongsu and 15\n"
     ]
    }
   ],
   "source": [
    "age = 15\n",
    "name = 'Yongsu'\n",
    "\n",
    "print('I am %d' %age)\n",
    "print('I am %s' %name)\n",
    "print('I am %s and %d' %(name, age))"
   ]
  },
  {
   "cell_type": "code",
   "execution_count": 55,
   "metadata": {},
   "outputs": [
    {
     "name": "stdout",
     "output_type": "stream",
     "text": [
      "    3.1414\n"
     ]
    }
   ],
   "source": [
    "# 소수점 표현하기\n",
    "# 소수점 4자리\n",
    "a = 3.14141414141\n",
    "print(\"%10.4f\" %a)"
   ]
  },
  {
   "cell_type": "code",
   "execution_count": 60,
   "metadata": {},
   "outputs": [
    {
     "name": "stdout",
     "output_type": "stream",
     "text": [
      "I am 35 su\n"
     ]
    }
   ],
   "source": [
    "# 청동기 format\n",
    "age = 35\n",
    "name = 'su'\n",
    "print(\"I am {0} {1}\".format(age, name))"
   ]
  },
  {
   "cell_type": "code",
   "execution_count": 61,
   "metadata": {},
   "outputs": [
    {
     "name": "stdout",
     "output_type": "stream",
     "text": [
      "I am hello 52\n"
     ]
    }
   ],
   "source": [
    "print(\"I am {name} {age}\".format(name = \"hello\", age = 52))"
   ]
  },
  {
   "cell_type": "code",
   "execution_count": 63,
   "metadata": {},
   "outputs": [
    {
     "name": "stdout",
     "output_type": "stream",
     "text": [
      "My name is Yongsu and I am 16 years old\n"
     ]
    }
   ],
   "source": [
    "# f string\n",
    "# python 3.6 버전 \n",
    "name = \"Yongsu\"\n",
    "age = 15\n",
    "print(f'My name is {name} and I am {age + 1} years old')"
   ]
  },
  {
   "cell_type": "code",
   "execution_count": 67,
   "metadata": {},
   "outputs": [
    {
     "name": "stdout",
     "output_type": "stream",
     "text": [
      "hi        \n",
      "        hi\n",
      "    hi    \n",
      "{and}\n",
      "3.1414\n"
     ]
    }
   ],
   "source": [
    "# 왼쪽 정렬 - 왼쪽으로 정렬하고 총 10자리를 만들겠다\n",
    "print(f'{\"hi\":<10}')\n",
    "# 오른쪽 정렬\n",
    "print(f'{\"hi\":>10}')\n",
    "# 가운데 정렬\n",
    "print(f'{\"hi\":^10}')\n",
    "\n",
    "# 내부에 중괄호를 변수를 담는 역할말고 진짜 중괄호를 표시하고 싶은 경우\n",
    "print(f'{{and}}')\n",
    "# 소수점 4자리 까지만 (float)\n",
    "a = 3.14141414\n",
    "print(f'{a:0.4f}')"
   ]
  },
  {
   "cell_type": "code",
   "execution_count": 68,
   "metadata": {},
   "outputs": [
    {
     "name": "stdout",
     "output_type": "stream",
     "text": [
      "5 and -4 and 0.2\n"
     ]
    }
   ],
   "source": [
    "a = 1\n",
    "b = 5\n",
    "print(f'{a * b} and {a - b} and {a / b}')"
   ]
  },
  {
   "cell_type": "code",
   "execution_count": 73,
   "metadata": {},
   "outputs": [
    {
     "name": "stdout",
     "output_type": "stream",
     "text": [
      "당신의 이름을 입력해주세요: Yongsu\n",
      "당신의 직업을 입력해주세요: unemployed\n",
      "당신의 성별을 입력해주세요: male\n",
      "Hi Yongsu \n",
      "You are a unemployed \n",
      "You are male \n",
      "\n"
     ]
    }
   ],
   "source": [
    "name = input(\"당신의 이름을 입력해주세요: \")\n",
    "profession = input(\"당신의 직업을 입력해주세요: \")\n",
    "gender = input(\"당신의 성별을 입력해주세요: \")\n",
    "\n",
    "message = (\n",
    "    f\"Hi {name} \\n\"\n",
    "    f\"You are a {profession} \\n\"\n",
    "    f\"You are {gender} \\n\"\n",
    ")\n",
    "\n",
    "print(message)"
   ]
  },
  {
   "cell_type": "code",
   "execution_count": null,
   "metadata": {},
   "outputs": [],
   "source": []
  }
 ],
 "metadata": {
  "kernelspec": {
   "display_name": "Python 3",
   "language": "python",
   "name": "python3"
  },
  "language_info": {
   "codemirror_mode": {
    "name": "ipython",
    "version": 3
   },
   "file_extension": ".py",
   "mimetype": "text/x-python",
   "name": "python",
   "nbconvert_exporter": "python",
   "pygments_lexer": "ipython3",
   "version": "3.8.5"
  }
 },
 "nbformat": 4,
 "nbformat_minor": 4
}
