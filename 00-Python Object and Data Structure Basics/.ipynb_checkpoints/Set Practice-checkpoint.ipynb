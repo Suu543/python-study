{
 "cells": [
  {
   "cell_type": "code",
   "execution_count": 1,
   "metadata": {},
   "outputs": [],
   "source": [
    "# 인적사항\n",
    "# - 나이\n",
    "# - 성별\n",
    "# - 주소\n",
    "jihoon = {\n",
    "    \"name\": \"jihoon\",\n",
    "    \"age\": 18,\n",
    "    \"address\": \"Daegu\"\n",
    "}"
   ]
  },
  {
   "cell_type": "code",
   "execution_count": 2,
   "metadata": {},
   "outputs": [
    {
     "name": "stdout",
     "output_type": "stream",
     "text": [
      "jihoon\n",
      "18\n"
     ]
    }
   ],
   "source": [
    "print(jihoon['name'])\n",
    "print(jihoon['age'])"
   ]
  },
  {
   "cell_type": "code",
   "execution_count": 3,
   "metadata": {},
   "outputs": [
    {
     "name": "stdout",
     "output_type": "stream",
     "text": [
      "{'name': 'jihoon', 'age': 18, 'address': 'Daegu'}\n",
      "{'name': 'jihoon', 'age': 18, 'address': 'Daegu'}\n"
     ]
    }
   ],
   "source": [
    "jihoon2 = dict(name = 'jihoon', age = 18, address = \"Daegu\")\n",
    "jihoon3 = dict([[\"name\", \"jihoon\"], [\"age\", 18], [\"address\", \"Daegu\"]])\n",
    "print(jihoon2)\n",
    "print(jihoon3)"
   ]
  },
  {
   "cell_type": "code",
   "execution_count": 6,
   "metadata": {},
   "outputs": [
    {
     "name": "stdout",
     "output_type": "stream",
     "text": [
      "{'name': 'jihoon', 'age': 18, 'address': 'Daegu', 'gender': 'male'}\n",
      "{'name': 'jihoon', 'age': 20, 'address': 'Daegu', 'gender': 'male'}\n",
      "{'name': 'jihoon', 'address': 'Daegu', 'gender': 'male'}\n"
     ]
    }
   ],
   "source": [
    "# Dictionary는 \n",
    "# 1. 어떻게 생성하는가? (o)\n",
    "# 2. 어떻게 새로운 요소를 추가하는가?\n",
    "# 3. 어떻게 기존의 요소를 변경하는가?\n",
    "# 4. 어떻게 기존의 요소를 삭제하는가?\n",
    "jihoon = {\n",
    "    \"name\": \"jihoon\",\n",
    "    \"age\": 18,\n",
    "    \"address\": \"Daegu\"\n",
    "}\n",
    "# 새로운 키를 추가\n",
    "jihoon[\"gender\"] = \"male\"\n",
    "print(jihoon)\n",
    "\n",
    "jihoon[\"age\"] = 20\n",
    "print(jihoon)\n",
    "\n",
    "del jihoon[\"age\"]\n",
    "print(jihoon)"
   ]
  },
  {
   "cell_type": "code",
   "execution_count": 9,
   "metadata": {},
   "outputs": [
    {
     "name": "stdout",
     "output_type": "stream",
     "text": [
      "['a', 'b', 'c', 'd', 'e']\n",
      "a\n"
     ]
    }
   ],
   "source": [
    "# Dictionary 데이터 타입은 어떤 데이터를 값으로 포함할 수 있는가?\n",
    "# 숫자, 문자, 리스트, 딕셔러니\n",
    "jihoon = {\n",
    "    \"name\": \"jihoon\",\n",
    "    \"age\": 18,\n",
    "    \"address\": \"Daegu\",\n",
    "    \"friends\": ['a', 'b', 'c', 'd', 'e'],\n",
    "    \"abcde\": {\n",
    "        \"name\": \"a\",\n",
    "        \"price\": 150\n",
    "    }\n",
    "}\n",
    "\n",
    "print(jihoon['friends'])\n",
    "print(jihoon['abcde']['name'])"
   ]
  },
  {
   "cell_type": "code",
   "execution_count": 10,
   "metadata": {
    "scrolled": true
   },
   "outputs": [
    {
     "name": "stdout",
     "output_type": "stream",
     "text": [
      "b\n"
     ]
    }
   ],
   "source": [
    "a = {\n",
    "    \"name\": \"a\",\n",
    "    \"name\": \"b\"\n",
    "}"
   ]
  },
  {
   "cell_type": "code",
   "execution_count": 13,
   "metadata": {},
   "outputs": [
    {
     "name": "stdout",
     "output_type": "stream",
     "text": [
      "dict_keys(['name', 'age', 'address', 'friends', 'abcde'])\n",
      "dict_values(['jihoon', 18, 'Daegu', ['a', 'b', 'c', 'd', 'e'], {'name': 'a', 'price': 150}])\n",
      "dict_items([('name', 'jihoon'), ('age', 18), ('address', 'Daegu'), ('friends', ['a', 'b', 'c', 'd', 'e']), ('abcde', {'name': 'a', 'price': 150})])\n"
     ]
    }
   ],
   "source": [
    "# keys --> 키만 출력, values --> 값만 출력, items --> 키 + 값을 모두 출력\n",
    "jihoon = {\n",
    "    \"name\": \"jihoon\",\n",
    "    \"age\": 18,\n",
    "    \"address\": \"Daegu\",\n",
    "    \"friends\": ['a', 'b', 'c', 'd', 'e'],\n",
    "    \"abcde\": {\n",
    "        \"name\": \"a\",\n",
    "        \"price\": 150\n",
    "    }\n",
    "}\n",
    "print(jihoon.keys())\n",
    "print(jihoon.values())\n",
    "print(jihoon.items())"
   ]
  },
  {
   "cell_type": "code",
   "execution_count": 14,
   "metadata": {},
   "outputs": [],
   "source": [
    "# String (o)\n",
    "# Number (o)\n",
    "# List (o)\n",
    "# Dictionary (o)\n",
    "# Tuple (o)\n",
    "# Set (o)\n",
    "# Boolean True or False (o)"
   ]
  },
  {
   "cell_type": "code",
   "execution_count": 16,
   "metadata": {},
   "outputs": [
    {
     "data": {
      "text/plain": [
       "(2, 3)"
      ]
     },
     "execution_count": 16,
     "metadata": {},
     "output_type": "execute_result"
    }
   ],
   "source": [
    "# Tuple\n",
    "# list랑 똑같은데, 한 번 생성하면, 추가, 삭제, 변경이 불가능한 자료 구조\n",
    "# 요일, 날짜, 게임 ()\n",
    "# 어떤 데이터 타입이든 다 포함가능하고\n",
    "# 1. 소괄호를 이용한다\n",
    "# 2. indexing + slicing\n",
    "a = (1, 2, 3)\n",
    "a[1:]"
   ]
  },
  {
   "cell_type": "code",
   "execution_count": 18,
   "metadata": {},
   "outputs": [
    {
     "ename": "TypeError",
     "evalue": "'tuple' object does not support item assignment",
     "output_type": "error",
     "traceback": [
      "\u001b[1;31m---------------------------------------------------------------------------\u001b[0m",
      "\u001b[1;31mTypeError\u001b[0m                                 Traceback (most recent call last)",
      "\u001b[1;32m<ipython-input-18-fa30b8e96caf>\u001b[0m in \u001b[0;36m<module>\u001b[1;34m\u001b[0m\n\u001b[1;32m----> 1\u001b[1;33m \u001b[0ma\u001b[0m\u001b[1;33m[\u001b[0m\u001b[1;36m0\u001b[0m\u001b[1;33m]\u001b[0m \u001b[1;33m=\u001b[0m \u001b[1;34m\"hello\"\u001b[0m\u001b[1;33m\u001b[0m\u001b[1;33m\u001b[0m\u001b[0m\n\u001b[0m",
      "\u001b[1;31mTypeError\u001b[0m: 'tuple' object does not support item assignment"
     ]
    }
   ],
   "source": [
    "a[0] = \"hello\""
   ]
  },
  {
   "cell_type": "code",
   "execution_count": 20,
   "metadata": {},
   "outputs": [
    {
     "name": "stdout",
     "output_type": "stream",
     "text": [
      "{1, 2, 3, 4, 5}\n",
      "{1, 2, 3, 4, 5}\n"
     ]
    }
   ],
   "source": [
    "# set 집합\n",
    "# 1,1,2,2,3,4,5, --> 1, 2, 3, 4, 5\n",
    "# 중괄호를 이용\n",
    "adasd = {1, 1, 2, 2, 3, 3, 4, 4, 5, 5}\n",
    "print(adasd)\n",
    "dada = set([1, 1, 2, 2, 3, 3, 4, 4, 5, 5])\n",
    "print(dada)"
   ]
  },
  {
   "cell_type": "code",
   "execution_count": 24,
   "metadata": {},
   "outputs": [
    {
     "name": "stdout",
     "output_type": "stream",
     "text": [
      "{1, 2, 3, 4, 5}\n",
      "{1, 2, 3, 4, 5, 6}\n",
      "{1, 2, 3, 4, 5, 6, 7, 8, 9, 10}\n",
      "{1, 2, 3, 4, 5, 6, 7, 8, 9}\n"
     ]
    }
   ],
   "source": [
    "# add, update, remove\n",
    "a = {1, 2, 3, 4, 5}\n",
    "print(a)\n",
    "# 하나의 값을 추가하고 싶을때 add\n",
    "a.add(6)\n",
    "print(a)\n",
    "# 하나 이상의 다수의 값을 추가하고 싶을때 update + list\n",
    "a.update([6, 7, 8, 9, 10])\n",
    "print(a)\n",
    "a.remove(10)\n",
    "print(a)"
   ]
  },
  {
   "cell_type": "code",
   "execution_count": 25,
   "metadata": {},
   "outputs": [
    {
     "ename": "SyntaxError",
     "evalue": "invalid syntax (<ipython-input-25-83ed6790b0d0>, line 1)",
     "output_type": "error",
     "traceback": [
      "\u001b[1;36m  File \u001b[1;32m\"<ipython-input-25-83ed6790b0d0>\"\u001b[1;36m, line \u001b[1;32m1\u001b[0m\n\u001b[1;33m    상황:\u001b[0m\n\u001b[1;37m       ^\u001b[0m\n\u001b[1;31mSyntaxError\u001b[0m\u001b[1;31m:\u001b[0m invalid syntax\n"
     ]
    }
   ],
   "source": [
    "상황:\n",
    "\n",
    "이름, 나이, 성별, 주소, 친구목록, 좋아하는 색\n",
    "사용하는 컴퓨터 기종과 그 컴퓨터의 사양 (가격, 브랜드, 성능)에 관한 정보를 모두 포함하고 있는 변수를 하나 생성하고 싶습니다. \n",
    "\n",
    "주소: “Daegu Bollio Dong Daegu High School”\n",
    "친구이름: ‘josh’, ‘amy’, ‘kale’, ‘peter’, ‘muta’\n",
    "좋아하는 색: ‘red’, ‘purple’, ‘blue’, ‘violet’, ‘blue’\n",
    "\n",
    "이 생성한 변수를 이용해서 다음 작업을 수행하고 싶습니다.\n",
    "친구목록에 작성된 친구의 이름을 알파벳 순으로 정렬하고 싶습니다.\n",
    "좋아하는 색을 알파벳 순으로 정렬하고 이것을 역순으로 정렬하고 싶습니다.\n",
    "컴퓨터 사양에 관한 정보에 (구매 일자를 추가하고 싶습니다 ex) “2020-01-01”)\n",
    "주소를 공백 기준으로 자르고 싶습니다.\n",
    "좋아하는 색 리스트를 1 ~ 4번 까지 제거해주세요."
   ]
  },
  {
   "cell_type": "code",
   "execution_count": 26,
   "metadata": {},
   "outputs": [],
   "source": [
    "# 이름, 나이, 성별, 주소, 친구목록, 좋아하는 색\n",
    "a = {\n",
    "    \"name\": \"yongsu\",\n",
    "    \"age\": 25,\n",
    "    \"gender\": \"male\",\n",
    "    \"address\": \"Daegu Bollio Dong Daegu High School\",\n",
    "    \"friends\": ['josh', 'amy', 'kale', 'peter', 'muta'],\n",
    "    \"favorite_colors\": ['velvet', 'blue', 'red', 'purple', 'brown'],\n",
    "    \"computer\": {\n",
    "        \"product\": \"A\",\n",
    "        \"performance\": \"S\",\n",
    "        \"price\": 1500\n",
    "    }\n",
    "}"
   ]
  },
  {
   "cell_type": "code",
   "execution_count": 27,
   "metadata": {},
   "outputs": [
    {
     "name": "stdout",
     "output_type": "stream",
     "text": [
      "['amy', 'josh', 'kale', 'muta', 'peter']\n"
     ]
    }
   ],
   "source": [
    "a[\"friends\"].sort()\n",
    "print(a[\"friends\"])"
   ]
  },
  {
   "cell_type": "code",
   "execution_count": 28,
   "metadata": {},
   "outputs": [
    {
     "name": "stdout",
     "output_type": "stream",
     "text": [
      "['velvet', 'red', 'purple', 'brown', 'blue']\n"
     ]
    }
   ],
   "source": [
    "a[\"favorite_colors\"].sort()\n",
    "a[\"favorite_colors\"].reverse()\n",
    "print(a[\"favorite_colors\"])"
   ]
  },
  {
   "cell_type": "code",
   "execution_count": 30,
   "metadata": {},
   "outputs": [],
   "source": [
    "a[\"computer\"][\"purchase\"] = \"2020-10-10\""
   ]
  },
  {
   "cell_type": "code",
   "execution_count": 31,
   "metadata": {},
   "outputs": [
    {
     "data": {
      "text/plain": [
       "{'product': 'A', 'performance': 'S', 'price': 1500, 'purchase': '2020-10-10'}"
      ]
     },
     "execution_count": 31,
     "metadata": {},
     "output_type": "execute_result"
    }
   ],
   "source": [
    "a[\"computer\"]"
   ]
  },
  {
   "cell_type": "code",
   "execution_count": 32,
   "metadata": {},
   "outputs": [
    {
     "data": {
      "text/plain": [
       "['Daegu', 'Bollio', 'Dong', 'Daegu', 'High', 'School']"
      ]
     },
     "execution_count": 32,
     "metadata": {},
     "output_type": "execute_result"
    }
   ],
   "source": [
    "a[\"address\"].split(\" \")"
   ]
  },
  {
   "cell_type": "code",
   "execution_count": 33,
   "metadata": {},
   "outputs": [
    {
     "data": {
      "text/plain": [
       "['velvet']"
      ]
     },
     "execution_count": 33,
     "metadata": {},
     "output_type": "execute_result"
    }
   ],
   "source": [
    "del a[\"favorite_colors\"][1:5]\n",
    "a[\"favorite_colors\"]"
   ]
  },
  {
   "cell_type": "markdown",
   "metadata": {},
   "source": [
    "## Set \n",
    "수학에서 집합을 생각할 수 있다.\n",
    "- 집합 안에는 값의 중복이 ㅇ벗고, 고유한 값을 가지는 특징이 있다."
   ]
  },
  {
   "cell_type": "code",
   "execution_count": 2,
   "metadata": {},
   "outputs": [
    {
     "name": "stdout",
     "output_type": "stream",
     "text": [
      "{1, 2, 3, 4, 5, 6}\n",
      "<class 'set'>\n"
     ]
    }
   ],
   "source": [
    "test_set = {1, 1, 2, 2, 3, 3, 4, 4, 5, 5, 6, 6}\n",
    "print(test_set)\n",
    "print(type(test_set))"
   ]
  },
  {
   "cell_type": "code",
   "execution_count": 3,
   "metadata": {
    "scrolled": true
   },
   "outputs": [
    {
     "name": "stdout",
     "output_type": "stream",
     "text": [
      "{1, 2, 3, 4, 5, 6}\n",
      "<class 'set'>\n"
     ]
    }
   ],
   "source": [
    "# set 키워드 + [ ] 리스트\n",
    "test_set = set([1, 1, 2, 2, 3, 3, 4, 4, 5, 5, 6, 6])\n",
    "print(test_set)\n",
    "print(type(test_set))"
   ]
  },
  {
   "cell_type": "code",
   "execution_count": 6,
   "metadata": {},
   "outputs": [
    {
     "name": "stdout",
     "output_type": "stream",
     "text": [
      "{0, 1, 2}\n"
     ]
    }
   ],
   "source": [
    "k = { 0 }\n",
    "# 1. 값을 추가 (하나)\n",
    "k.add(1)\n",
    "# 2. 값을 추가 (두개이상)\n",
    "k.update([1, 2, 3])\n",
    "# 3. 값을 삭제\n",
    "k.remove(3)\n",
    "# 4. 값을 확인하는법\n",
    "print(k)"
   ]
  },
  {
   "cell_type": "code",
   "execution_count": 7,
   "metadata": {},
   "outputs": [
    {
     "name": "stdout",
     "output_type": "stream",
     "text": [
      "{1, 2, 3, 4, 5, 6, 7}\n",
      "{1, 2, 3, 4, 5, 6, 7}\n"
     ]
    }
   ],
   "source": [
    "# 합집합, 교집합, 차집합, 대칭차집합\n",
    "# | or union\n",
    "a = {1, 2, 3, 4, 5}\n",
    "b = {3, 4, 5, 6, 7}\n",
    "c = a | b\n",
    "d = a.union(b)\n",
    "print(c)\n",
    "print(d)"
   ]
  },
  {
   "cell_type": "code",
   "execution_count": 8,
   "metadata": {},
   "outputs": [
    {
     "name": "stdout",
     "output_type": "stream",
     "text": [
      "{3, 4, 5}\n",
      "{3, 4, 5}\n"
     ]
    }
   ],
   "source": [
    "# 교집합\n",
    "# & or intersection\n",
    "a = {1, 2, 3, 4, 5}\n",
    "b = {3, 4, 5, 6, 7}\n",
    "c = a & b\n",
    "d = a.intersection(b)\n",
    "print(c)\n",
    "print(d)"
   ]
  },
  {
   "cell_type": "code",
   "execution_count": 10,
   "metadata": {},
   "outputs": [
    {
     "name": "stdout",
     "output_type": "stream",
     "text": [
      "{1, 2}\n",
      "{1, 2}\n"
     ]
    }
   ],
   "source": [
    "# 차집합\n",
    "# - or difference\n",
    "a = {1, 2, 3, 4, 5}\n",
    "b = {3, 4, 5, 6, 7}\n",
    "c = a - b\n",
    "d = a.difference(b)\n",
    "print(c)\n",
    "print(d)"
   ]
  },
  {
   "cell_type": "code",
   "execution_count": 11,
   "metadata": {},
   "outputs": [
    {
     "name": "stdout",
     "output_type": "stream",
     "text": [
      "{1, 2, 6, 7}\n",
      "{1, 2, 6, 7}\n"
     ]
    }
   ],
   "source": [
    "# ^ 대칭차집합 (합집합 - 교집합) or symmetric_difference\n",
    "a = { 1, 2, 3, 4, 5 }\n",
    "b = { 3, 4, 5, 6, 7 }\n",
    "c = a ^ b\n",
    "d = a.symmetric_difference(b)\n",
    "print(c)\n",
    "print(d)"
   ]
  },
  {
   "cell_type": "code",
   "execution_count": 16,
   "metadata": {},
   "outputs": [
    {
     "name": "stdout",
     "output_type": "stream",
     "text": [
      "False\n",
      "True\n",
      "True\n"
     ]
    }
   ],
   "source": [
    "setX = set(['a', 'b'])\n",
    "setY = set(['a'])\n",
    "print(setX.issubset(setY))\n",
    "print(setY.issubset(setX))\n",
    "print('a' in setX)"
   ]
  },
  {
   "cell_type": "code",
   "execution_count": 23,
   "metadata": {},
   "outputs": [
    {
     "name": "stdout",
     "output_type": "stream",
     "text": [
      "{'apple', 'grape'}\n",
      "{'kiwi', 'apple', 'mango', 'grape'}\n",
      "True\n",
      "False\n",
      "False\n",
      "False\n",
      "{'kiwi', 'mango'}\n",
      "False\n",
      "True\n"
     ]
    }
   ],
   "source": [
    "# a: 망고, 포도, 사과\n",
    "# b: 포도, 사과\n",
    "# c: 키위\n",
    "\n",
    "a = set(['mango', 'grape', 'apple'])\n",
    "b = set(['grape', 'apple'])\n",
    "c = set(['kiwi'])\n",
    "# 1. a, b 의 교집합\n",
    "one = a.intersection(b)\n",
    "print(one)\n",
    "# 2. a, b, c의 합집합\n",
    "two = a | b | c\n",
    "print(two)\n",
    "# 3. a가 b의 부분집합인가? \n",
    "print(b.issubset(a))\n",
    "# 4. a가 c의 부분집합인가? \n",
    "print(c.issubset(a))\n",
    "# 5. b가 c의 부분집합인가? \n",
    "print(c.issubset(b))\n",
    "# 6. c가 b의 부분집합인가?\n",
    "print(b.issubset(c))\n",
    "# 7. a, b, c의 대칭차집합 \n",
    "three = a ^ b ^ c\n",
    "print(three)\n",
    "# 메론이 a에 있는가?\n",
    "print(\"melon\" in a)\n",
    "# 포도가 a에 있는가?\n",
    "print(\"grape\" in a)"
   ]
  },
  {
   "cell_type": "code",
   "execution_count": null,
   "metadata": {},
   "outputs": [],
   "source": [
    "# a: 망고, 포도, 사과\n",
    "# b: 포도, 사과\n",
    "# c: 키위\n",
    "# 1. a, b 의 교집합\n",
    "# 2. a, b, c의 합집합\n",
    "# 3. a가 b의 부분집합인가? \n",
    "# 4. a가 c의 부분집합인가? \n",
    "# 5. b가 c의 부분집합인가? \n",
    "# 6. c가 b의 부분집합인가?\n",
    "# 7. a, b, c의 대칭차집합 \n",
    "# 메론이 a의 부분집합인가 in 사용?\n",
    "# 포도가 a의 부분집합인가 in 사용?\n"
   ]
  }
 ],
 "metadata": {
  "kernelspec": {
   "display_name": "Python 3",
   "language": "python",
   "name": "python3"
  },
  "language_info": {
   "codemirror_mode": {
    "name": "ipython",
    "version": 3
   },
   "file_extension": ".py",
   "mimetype": "text/x-python",
   "name": "python",
   "nbconvert_exporter": "python",
   "pygments_lexer": "ipython3",
   "version": "3.8.5"
  }
 },
 "nbformat": 4,
 "nbformat_minor": 4
}
