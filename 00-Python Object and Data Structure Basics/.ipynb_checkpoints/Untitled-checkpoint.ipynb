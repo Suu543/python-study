{
 "cells": [
  {
   "cell_type": "markdown",
   "metadata": {},
   "source": [
    "## string(문자열)\n",
    "\n",
    "문자열 --> 다수의 문자로 구성된 집합\n",
    "다수의 개별의 문자로 구성되었기 때문이 이것에 접근이 가능해야 논리적이다"
   ]
  },
  {
   "cell_type": "code",
   "execution_count": 1,
   "metadata": {},
   "outputs": [
    {
     "name": "stdout",
     "output_type": "stream",
     "text": [
      "it's me\n"
     ]
    }
   ],
   "source": [
    "# 1. 홑 따옴표\n",
    "# 2. 쌍 따옴표\n",
    "# 3. 트리플 홑 따옴표\n",
    "# 4. 트리플 쌍 따옴표\n",
    "print(\"it's me\")"
   ]
  },
  {
   "cell_type": "code",
   "execution_count": 2,
   "metadata": {},
   "outputs": [],
   "source": [
    "a = '''\n",
    "Hello\n",
    "\n",
    "This is Yongsu\n",
    "\n",
    "Jeong\n",
    "\n",
    "'''"
   ]
  },
  {
   "cell_type": "code",
   "execution_count": 4,
   "metadata": {},
   "outputs": [
    {
     "name": "stdout",
     "output_type": "stream",
     "text": [
      "\n",
      "Hello\n",
      "\n",
      "This is Yongsu\n",
      "\n",
      "Jeong\n",
      "\n",
      "\n"
     ]
    }
   ],
   "source": [
    "print(a)"
   ]
  },
  {
   "cell_type": "code",
   "execution_count": 5,
   "metadata": {},
   "outputs": [
    {
     "name": "stdout",
     "output_type": "stream",
     "text": [
      "HelloWorld\n"
     ]
    }
   ],
   "source": [
    "# 문자열 합치기\n",
    "a = \"Hello\"\n",
    "b= \"World\"\n",
    "print(a + b)"
   ]
  },
  {
   "cell_type": "code",
   "execution_count": 6,
   "metadata": {},
   "outputs": [
    {
     "name": "stdout",
     "output_type": "stream",
     "text": [
      "****************************************************************************************************\n"
     ]
    }
   ],
   "source": [
    "# 문자열 곱하기\n",
    "a = \"*\"\n",
    "print(a * 100)"
   ]
  },
  {
   "cell_type": "code",
   "execution_count": 7,
   "metadata": {},
   "outputs": [
    {
     "name": "stdout",
     "output_type": "stream",
     "text": [
      "Hello\n"
     ]
    }
   ],
   "source": [
    "# indexing (가리키다)\n",
    "# [start:end:step]\n",
    "# index 0 or 1\n",
    "a = \"Hello World\"\n",
    "print(a[0:5])"
   ]
  },
  {
   "cell_type": "code",
   "execution_count": 8,
   "metadata": {},
   "outputs": [
    {
     "data": {
      "text/plain": [
       "'H'"
      ]
     },
     "execution_count": 8,
     "metadata": {},
     "output_type": "execute_result"
    }
   ],
   "source": [
    "a[0]"
   ]
  },
  {
   "cell_type": "code",
   "execution_count": 9,
   "metadata": {},
   "outputs": [
    {
     "name": "stdout",
     "output_type": "stream",
     "text": [
      "dlroW olleH\n"
     ]
    }
   ],
   "source": [
    "print(a[::-1])"
   ]
  },
  {
   "cell_type": "code",
   "execution_count": 13,
   "metadata": {},
   "outputs": [
    {
     "data": {
      "text/plain": [
       "'dlroW olleH'"
      ]
     },
     "execution_count": 13,
     "metadata": {},
     "output_type": "execute_result"
    }
   ],
   "source": [
    "a[::-1]"
   ]
  },
  {
   "cell_type": "code",
   "execution_count": 14,
   "metadata": {},
   "outputs": [
    {
     "name": "stdout",
     "output_type": "stream",
     "text": [
      "aaaaa\n"
     ]
    }
   ],
   "source": [
    "greeting = \"ababababab\"\n",
    "print(greeting[::2])"
   ]
  },
  {
   "cell_type": "code",
   "execution_count": 15,
   "metadata": {},
   "outputs": [],
   "source": [
    "# 문자열 스트링\n",
    "# 1. 추가는 가능하다 새로운 문자 혹은 문자열\n",
    "# 2. 기존의 문자열을 구성하는 문자의 변경은 불가능하다"
   ]
  },
  {
   "cell_type": "code",
   "execution_count": 16,
   "metadata": {},
   "outputs": [
    {
     "ename": "TypeError",
     "evalue": "'str' object does not support item assignment",
     "output_type": "error",
     "traceback": [
      "\u001b[1;31m---------------------------------------------------------------------------\u001b[0m",
      "\u001b[1;31mTypeError\u001b[0m                                 Traceback (most recent call last)",
      "\u001b[1;32m<ipython-input-16-0cff0b9fa375>\u001b[0m in \u001b[0;36m<module>\u001b[1;34m\u001b[0m\n\u001b[0;32m      1\u001b[0m \u001b[0ma\u001b[0m \u001b[1;33m=\u001b[0m \u001b[1;34m\"Helo\"\u001b[0m\u001b[1;33m\u001b[0m\u001b[1;33m\u001b[0m\u001b[0m\n\u001b[1;32m----> 2\u001b[1;33m \u001b[0ma\u001b[0m\u001b[1;33m[\u001b[0m\u001b[1;36m0\u001b[0m\u001b[1;33m]\u001b[0m \u001b[1;33m=\u001b[0m \u001b[1;34m\"p\"\u001b[0m\u001b[1;33m\u001b[0m\u001b[1;33m\u001b[0m\u001b[0m\n\u001b[0m",
      "\u001b[1;31mTypeError\u001b[0m: 'str' object does not support item assignment"
     ]
    }
   ],
   "source": [
    "a = \"Helo\"\n",
    "a[0] = \"p\""
   ]
  },
  {
   "cell_type": "markdown",
   "metadata": {},
   "source": [
    "### 문자열에 내장된 유용한 함수\n",
    "\n",
    "1. 문자열 내부의 특정 문자 개수 세기(count)\n",
    "2. 특정 문자의 위치 찾기 (find (-1), index (오류발생)\n",
    "3. 문자열 삽입 (join)\n",
    "4. 대(소)문자 (lower or upper)\n",
    "5. 특정 글자를 기준으로 한 단위로 문자를 쪼개는 함수 (split)\n",
    "6. 왼쪽, 오른쪽, 양쪽, 공백 지우기 (lstrip, rstrip, strip)\n",
    "7. 문자열 변경하기 (replace)\n",
    "- 기존의 문자열을 복사해서 새로운 문자열을 리턴한다"
   ]
  },
  {
   "cell_type": "code",
   "execution_count": 17,
   "metadata": {},
   "outputs": [
    {
     "data": {
      "text/plain": [
       "5"
      ]
     },
     "execution_count": 17,
     "metadata": {},
     "output_type": "execute_result"
    }
   ],
   "source": [
    "# count\n",
    "a = \"aaaaa\"\n",
    "a.count('a')"
   ]
  },
  {
   "cell_type": "code",
   "execution_count": 18,
   "metadata": {},
   "outputs": [
    {
     "data": {
      "text/plain": [
       "1"
      ]
     },
     "execution_count": 18,
     "metadata": {},
     "output_type": "execute_result"
    }
   ],
   "source": [
    "# 특정 문자 index(위치) 찾기\n",
    "a = \"abcdefg\"\n",
    "a.find(\"b\")"
   ]
  },
  {
   "cell_type": "code",
   "execution_count": 19,
   "metadata": {},
   "outputs": [
    {
     "ename": "ValueError",
     "evalue": "substring not found",
     "output_type": "error",
     "traceback": [
      "\u001b[1;31m---------------------------------------------------------------------------\u001b[0m",
      "\u001b[1;31mValueError\u001b[0m                                Traceback (most recent call last)",
      "\u001b[1;32m<ipython-input-19-635d11a43cea>\u001b[0m in \u001b[0;36m<module>\u001b[1;34m\u001b[0m\n\u001b[0;32m      1\u001b[0m \u001b[0ma\u001b[0m \u001b[1;33m=\u001b[0m \u001b[1;34m\"abcdefg\"\u001b[0m\u001b[1;33m\u001b[0m\u001b[1;33m\u001b[0m\u001b[0m\n\u001b[1;32m----> 2\u001b[1;33m \u001b[0ma\u001b[0m\u001b[1;33m.\u001b[0m\u001b[0mindex\u001b[0m\u001b[1;33m(\u001b[0m\u001b[1;34m\"가\"\u001b[0m\u001b[1;33m)\u001b[0m\u001b[1;33m\u001b[0m\u001b[1;33m\u001b[0m\u001b[0m\n\u001b[0m",
      "\u001b[1;31mValueError\u001b[0m: substring not found"
     ]
    }
   ],
   "source": [
    "a = \"abcdefg\"\n",
    "a.index(\"가\")"
   ]
  },
  {
   "cell_type": "code",
   "execution_count": 21,
   "metadata": {},
   "outputs": [
    {
     "data": {
      "text/plain": [
       "'a, b, c, d'"
      ]
     },
     "execution_count": 21,
     "metadata": {},
     "output_type": "execute_result"
    }
   ],
   "source": [
    "\", \".join(\"abcd\")\n",
    "\n",
    "a = \"abcd\"\n",
    "\n",
    "\", \".join(a)"
   ]
  },
  {
   "cell_type": "code",
   "execution_count": 22,
   "metadata": {},
   "outputs": [
    {
     "name": "stdout",
     "output_type": "stream",
     "text": [
      "AAAAA\n",
      "bbbb\n"
     ]
    }
   ],
   "source": [
    "a = \"aaaaa\"\n",
    "b = \"BBBB\"\n",
    "print(a.upper())\n",
    "print(b.lower())"
   ]
  },
  {
   "cell_type": "code",
   "execution_count": 23,
   "metadata": {},
   "outputs": [
    {
     "name": "stdout",
     "output_type": "stream",
     "text": [
      "hello\n",
      "hello\n",
      "hello\n"
     ]
    }
   ],
   "source": [
    "a = \"hello       \"\n",
    "b = \"        hello\"\n",
    "c = \"   hello     \"\n",
    "\n",
    "print(a.rstrip())\n",
    "print(b.lstrip())\n",
    "print(c.strip())"
   ]
  },
  {
   "cell_type": "code",
   "execution_count": 24,
   "metadata": {},
   "outputs": [
    {
     "name": "stdout",
     "output_type": "stream",
     "text": [
      "Hello Yonmgsu\n",
      "Hello World\n"
     ]
    }
   ],
   "source": [
    "new_str = \"Hello World\"\n",
    "print(new_str.replace(\"World\", \"Yonmgsu\"))\n",
    "print(new_str)"
   ]
  },
  {
   "cell_type": "code",
   "execution_count": 27,
   "metadata": {},
   "outputs": [
    {
     "name": "stdout",
     "output_type": "stream",
     "text": [
      "['Hello', 'World', 'This', 'is']\n",
      "['', 'b', 'b', 'b', 'b', 'b']\n"
     ]
    }
   ],
   "source": [
    "# split 쪼개기 - 아무것도 안넣으면 공백\n",
    "split_str = \"Hello World This is\"\n",
    "print(split_str.split())\n",
    "\n",
    "baba = \"ababababab\"\n",
    "print(baba.split(\"a\"))"
   ]
  },
  {
   "cell_type": "code",
   "execution_count": 28,
   "metadata": {},
   "outputs": [
    {
     "name": "stdout",
     "output_type": "stream",
     "text": [
      "저는 11살 입니다\n",
      "저는 12살 입니다\n",
      "저는 13살 입니다\n",
      "저는 14살 입니다\n",
      "저는 15살 입니다\n",
      "저는 16살 입니다\n"
     ]
    }
   ],
   "source": [
    "print(\"저는 11살 입니다\")\n",
    "print(\"저는 12살 입니다\")\n",
    "print(\"저는 13살 입니다\")\n",
    "print(\"저는 14살 입니다\")\n",
    "print(\"저는 15살 입니다\")\n",
    "print(\"저는 16살 입니다\")"
   ]
  },
  {
   "cell_type": "code",
   "execution_count": 29,
   "metadata": {},
   "outputs": [],
   "source": [
    "# 1. 구석기 - 구식 방식\n",
    "# 2. 신석기 - 신식 + 구식\n",
    "# 3. 청동기 - 신식"
   ]
  },
  {
   "cell_type": "markdown",
   "metadata": {},
   "source": [
    "1. %d - 정수\n",
    "2. %f - 소수\n",
    "3. %s - 문자열\n",
    "4. %c - 문자(문자 한 개)"
   ]
  },
  {
   "cell_type": "code",
   "execution_count": 31,
   "metadata": {},
   "outputs": [
    {
     "name": "stdout",
     "output_type": "stream",
     "text": [
      "I am 15\n",
      "I am 15.500000\n",
      "I am Yongsu\n",
      "I am a\n",
      "I am 15 155.500000 Yongsu\n"
     ]
    }
   ],
   "source": [
    "print(\"I am %d\" %15)\n",
    "print(\"I am %f\" %15.5)\n",
    "print(\"I am %s\" %\"Yongsu\")\n",
    "print(\"I am %c\" %\"a\")\n",
    "print(\"I am %d %f %s\" %(15, 155.5, \"Yongsu\"))"
   ]
  },
  {
   "cell_type": "code",
   "execution_count": 32,
   "metadata": {},
   "outputs": [
    {
     "name": "stdout",
     "output_type": "stream",
     "text": [
      "I am 15 155.500000 Yongsu\n"
     ]
    }
   ],
   "source": [
    "age = 15\n",
    "height = 155.5\n",
    "name = \"Yongsu\"\n",
    "\n",
    "print(\"I am %d %f %s\" %(age, height, name))"
   ]
  },
  {
   "cell_type": "markdown",
   "metadata": {},
   "source": [
    "### format 함수를 사용한 String Formatting"
   ]
  },
  {
   "cell_type": "code",
   "execution_count": 34,
   "metadata": {},
   "outputs": [
    {
     "name": "stdout",
     "output_type": "stream",
     "text": [
      "I am 25\n",
      "I am Yongsu 175.5 25 175.5 175.5 175.5\n"
     ]
    }
   ],
   "source": [
    "age = 25\n",
    "height = 175.5\n",
    "name = \"Yongsu\"\n",
    "\n",
    "print(\"I am {0}\".format(age))\n",
    "print(\"I am {2} {1} {0} {1} {1} {1}\".format(age, height, name))"
   ]
  },
  {
   "cell_type": "code",
   "execution_count": 35,
   "metadata": {},
   "outputs": [
    {
     "name": "stdout",
     "output_type": "stream",
     "text": [
      "I am Yongsu 185.5\n"
     ]
    }
   ],
   "source": [
    "print(\"I am {name} {height}\".format(age = 25, height = 185.5, name = \"Yongsu\"))"
   ]
  },
  {
   "cell_type": "code",
   "execution_count": 38,
   "metadata": {},
   "outputs": [
    {
     "name": "stdout",
     "output_type": "stream",
     "text": [
      "hi        \n",
      "        hi\n",
      "    hi    \n"
     ]
    }
   ],
   "source": [
    "# 문자열 총 자리수를 10자리 왼쪽 정렬\n",
    "print(\"{0:<10}\".format('hi'))\n",
    "print(\"{0:>10}\".format('hi'))\n",
    "print(\"{0:^10}\".format('hi'))"
   ]
  },
  {
   "cell_type": "code",
   "execution_count": 39,
   "metadata": {},
   "outputs": [],
   "source": [
    "# Rule of Thumb"
   ]
  },
  {
   "cell_type": "code",
   "execution_count": null,
   "metadata": {},
   "outputs": [],
   "source": [
    "# 청동기\n",
    "# f string formatting"
   ]
  },
  {
   "cell_type": "code",
   "execution_count": 40,
   "metadata": {},
   "outputs": [
    {
     "name": "stdout",
     "output_type": "stream",
     "text": [
      "My name is Yongsu and 26 years old...\n"
     ]
    }
   ],
   "source": [
    "name = \"Yongsu\"\n",
    "age = 25\n",
    "print(f\"My name is {name} and {age + 1} years old...\")"
   ]
  },
  {
   "cell_type": "code",
   "execution_count": 42,
   "metadata": {},
   "outputs": [
    {
     "name": "stdout",
     "output_type": "stream",
     "text": [
      "10자리를 만들어보자:       23.1\n",
      "10자리를 만들어보자:     23.123\n"
     ]
    }
   ],
   "source": [
    "# 소수점 { value: {길이}.{소수점자리수}}\n",
    "num = 23.123456789\n",
    "print(f\"10자리를 만들어보자: {num:{10}.{3}}\")\n",
    "print(f\"10자리를 만들어보자: {num:{10}.{5}}\")"
   ]
  },
  {
   "cell_type": "code",
   "execution_count": 43,
   "metadata": {},
   "outputs": [
    {
     "name": "stdout",
     "output_type": "stream",
     "text": [
      "5 and 4 and 5.0\n"
     ]
    }
   ],
   "source": [
    "a = 5\n",
    "b = 1\n",
    "print(f\"{ a * b } and { a - b} and { a / b}\")"
   ]
  },
  {
   "cell_type": "code",
   "execution_count": 44,
   "metadata": {},
   "outputs": [
    {
     "name": "stdout",
     "output_type": "stream",
     "text": [
      "당신의 이름을 입력해 주세요: Yongsu\n"
     ]
    }
   ],
   "source": [
    "name = input(\"당신의 이름을 입력해 주세요: \")"
   ]
  },
  {
   "cell_type": "code",
   "execution_count": 45,
   "metadata": {},
   "outputs": [
    {
     "name": "stdout",
     "output_type": "stream",
     "text": [
      "Yongsu\n"
     ]
    }
   ],
   "source": [
    "print(name)"
   ]
  },
  {
   "cell_type": "code",
   "execution_count": 46,
   "metadata": {},
   "outputs": [
    {
     "name": "stdout",
     "output_type": "stream",
     "text": [
      "당신의 이름을 입력해 주세요: Yongsu\n",
      "당신의 직업을 입력해 주세요: Unemployed\n",
      "당신의 성별을 입력해 주세요: male\n",
      "Hi Yongsu \n",
      "You are a Unemployed \n",
      "You are male \n",
      "\n"
     ]
    }
   ],
   "source": [
    "name = input(\"당신의 이름을 입력해 주세요: \")\n",
    "profession = input(\"당신의 직업을 입력해 주세요: \")\n",
    "gender = input(\"당신의 성별을 입력해 주세요: \")\n",
    "\n",
    "message = (\n",
    "    f\"Hi {name} \\n\"\n",
    "    f\"You are a {profession} \\n\"\n",
    "    f\"You are {gender} \\n\"\n",
    ")\n",
    "\n",
    "print(message)"
   ]
  },
  {
   "cell_type": "code",
   "execution_count": null,
   "metadata": {},
   "outputs": [],
   "source": []
  }
 ],
 "metadata": {
  "kernelspec": {
   "display_name": "Python 3",
   "language": "python",
   "name": "python3"
  },
  "language_info": {
   "codemirror_mode": {
    "name": "ipython",
    "version": 3
   },
   "file_extension": ".py",
   "mimetype": "text/x-python",
   "name": "python",
   "nbconvert_exporter": "python",
   "pygments_lexer": "ipython3",
   "version": "3.8.5"
  }
 },
 "nbformat": 4,
 "nbformat_minor": 4
}
