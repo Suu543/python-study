{
 "cells": [
  {
   "attachments": {},
   "cell_type": "markdown",
   "metadata": {},
   "source": [
    "# Lists (리스트)\n",
    "\n",
    "\n",
    "배낭을 메고 있는 사람과, 화물열차가 보이는가?\n",
    "<br />\n",
    "\n",
    "어떤 차이가 존재할까?\n",
    "<br />\n",
    "\n",
    "배낭을 메고 있는 사람은 등반에 필요한 최소한의 장비만 가방에 담을 수 있다.\n",
    "<br />\n",
    "\n",
    "화물열차는 어떠한가? 처음에는 동력을 받기 위해 천천히 움직일지라도, 힘을 받기 시작하면 무서운 속도로 엄청난 양의 화물을 한 번에 운송할 수 있다.\n",
    "<br />\n",
    "\n",
    "`lists(리스트)`은 화물열차처럼 여러 데이터를 한 번에 가지고 다니는 역할을 한다.\n",
    "\n",
    "`lists(리스트)`를 연상시키는 화물 열차에는 크게 두 종류의 물건이 담길 수 있다.\n",
    "- 배낭을 메고 있는 사람의 가방에 든 물병 하나\n",
    "- 여러 물건을 한 번에 담고 있는 작은 크기의 컨테이너\n",
    "- 다수의 데이터를 한 번에 가지고 다닐 수 있고, 동시에 자기 자신인 `lists(리스트)`를 포함할 수 있음을 의미한다.\n",
    "- 데이터에 공통점이 있으면서, 순서가 중요한 다수의 데이터에 사용된다."
   ]
  },
  {
   "cell_type": "markdown",
   "metadata": {},
   "source": [
    "### Lists Syntax\n",
    "- `[ ] (Square Brackets)`\n",
    "- 각 요소를 구분할 때는 `, (comma)`를 사용\n",
    "- 예시) [1, \"Hello\", 2, [1, 2, 3]]\n",
    "- 리스트 요소에 접근 시 `strings(문자열)`과 같이 `인덱스(index)` 방식을 사용\n",
    "- `인덱스(index)` 방식의 처음은 `0`으로 시작"
   ]
  },
  {
   "cell_type": "code",
   "execution_count": 1,
   "metadata": {},
   "outputs": [
    {
     "name": "stdout",
     "output_type": "stream",
     "text": [
      "가\n",
      "나\n",
      "다\n",
      "라\n",
      "마\n"
     ]
    }
   ],
   "source": [
    "# 친구 5명이 있고, 생일이 빠른 순서대로 이름을 출력하고 싶은 경우를 생각해보자. \n",
    "# 현재 우리가 아닌 방식으로는 다음과 같이 작성할 수 있다.\n",
    "first = \"가\"\n",
    "second = \"나\"\n",
    "third = \"다\"\n",
    "fourth = \"라\"\n",
    "fifth = \"마\"\n",
    "\n",
    "print(first)\n",
    "print(second)\n",
    "print(third)\n",
    "print(fourth)\n",
    "print(fifth)"
   ]
  },
  {
   "cell_type": "code",
   "execution_count": 2,
   "metadata": {},
   "outputs": [
    {
     "name": "stdout",
     "output_type": "stream",
     "text": [
      "['a', 'b', 'c', 'd', 'e', 'f', 'g', 'h', 'i', 'j']\n"
     ]
    }
   ],
   "source": [
    "# 친구가 100명이 있었다고 생각해보자. \n",
    "#100명의 친구의 이름을 일일이 위와 같이 다 작성해 출력을 할 것인가?\n",
    "# 일일이 적는다면 가능하겠지만, 많은 시간이 걸릴 것이다. 또한 생일을 일일이 비교해야 한다는 불편함을 감수해야한다. \n",
    "# 이러한 상황에 Lists(리스트)는 큰 힘을 발휘한다.\n",
    "friends_sorted_birth = [\"a\", \"b\", \"c\", \"d\", \"e\", \"f\", \"g\", \"h\", \"i\", \"j\"]\n",
    "print(friends_sorted_birth)"
   ]
  },
  {
   "cell_type": "code",
   "execution_count": 4,
   "metadata": {},
   "outputs": [
    {
     "name": "stdout",
     "output_type": "stream",
     "text": [
      "a\n",
      "b\n"
     ]
    }
   ],
   "source": [
    "# 첫 번째 순서에 위치한 a를 출력해보자\n",
    "print(friends_sorted_birth[0])\n",
    "# 두 번째 순서에 위치한 b를 출력해보자\n",
    "print(friends_sorted_birth[1])"
   ]
  },
  {
   "cell_type": "markdown",
   "metadata": {},
   "source": [
    "- 한 번에 보관할 수 있는 건 알겠는데 일일이 적는 것과 어떤 차이가 있는가? \n",
    "- 아직 조건문, 반복문, 함수를 배우지 않았기 때문에 글로써 풀어보겠다.\n",
    "\n",
    "```python\n",
    "# 1. a 하나가 들어있는 Array(배열)을 정의한다.\n",
    "let friends_sortby_birth = ['a'];\n",
    "```\n",
    "\n",
    "1. a 하나가 들어있는 Array(배열)을 정의한다.\n",
    "2. 한 친구 b에게 생일과 이름을 입력받는다.\n",
    "3. 이 생일을 기존에 friends_sortby_birth 배열에 들어있는 a의 생일과 비교한다.\n",
    "4. 만약 생일이 a 보다 빠르다면 a 의 자리에 b가 들어가고 a 는 한자리 뒤로 밀려난다.\n",
    "5. 이 로직을 반복해 모든 컴퓨터가 입력받은 생일을 비교하고 순서에 맞게 친구 이름을 Array(배열)에 배치한다.\n",
    "\n",
    "\n",
    "#### Lists(리스트)는 순서(index)가 중요하기 때문에, 순서가 중요한 다수의 데이터를 다룰 때 유용하게 사용할 수 있는 자료구조이다. "
   ]
  },
  {
   "cell_type": "code",
   "execution_count": 6,
   "metadata": {},
   "outputs": [
    {
     "name": "stdout",
     "output_type": "stream",
     "text": [
      "[1, 1.5, 'a', 'b', [1, 2, 3]]\n"
     ]
    }
   ],
   "source": [
    "multi_data_types = [1, 1.5, 'a', \"b\", [1, 2, 3]]\n",
    "print(multi_data_types)"
   ]
  },
  {
   "cell_type": "markdown",
   "metadata": {},
   "source": [
    "#### 다수의 데이터를 한 번에 가지고 다닐 수 있고, 동시에 자기 자신인 lists(리스트)를 포함할 수 있음을 의미한다.\n",
    "\n",
    "### 2차원 리스트 (Two-Dimensional Lists)"
   ]
  },
  {
   "cell_type": "code",
   "execution_count": 8,
   "metadata": {},
   "outputs": [
    {
     "name": "stdout",
     "output_type": "stream",
     "text": [
      "[1, 2, 3]\n",
      "[4, 5, 6]\n",
      "1\n",
      "2\n"
     ]
    }
   ],
   "source": [
    "multi_dimensional_lists = [[1, 2, 3], [4, 5, 6]]\n",
    "# [1, 2, 3]을 출력\n",
    "print(multi_dimensional_lists[0])\n",
    "\n",
    "# [4, 5, 6]을 츌력\n",
    "print(multi_dimensional_lists[1])\n",
    "\n",
    "# 1을 출력\n",
    "print(multi_dimensional_lists[0][0])\n",
    "\n",
    "# 4을 출력\n",
    "print(multi_dimensional_lists[0][1])"
   ]
  },
  {
   "cell_type": "markdown",
   "metadata": {},
   "source": [
    "### 3차원 리스트 (Three-Dimensional Lists)"
   ]
  },
  {
   "cell_type": "code",
   "execution_count": 20,
   "metadata": {},
   "outputs": [
    {
     "name": "stdout",
     "output_type": "stream",
     "text": [
      "가\n",
      "나\n"
     ]
    }
   ],
   "source": [
    "three_dimensional_lists = [1, 2, ['a', 'b', ['가', '나']]]\n",
    "\n",
    "# '가' 출력\n",
    "print(three_dimensional_lists[2][2][0])\n",
    "\n",
    "# '나' 출력\n",
    "print(three_dimensional_lists[2][2][1])"
   ]
  },
  {
   "attachments": {
    "image.png": {
     "image/png": "[encoded data removed]"
    }
   },
   "cell_type": "markdown",
   "metadata": {},
   "source": [
    "### list(리스트)  인덱싱(indexing)과 슬라이싱(slicing)은 string(문자열) 방법과 동일하게 동작한다\n",
    "\n",
    "![image.png](attachment:image.png)\n",
    "\n",
    "`start`: 슬라이싱(Slicing)을 시작할 위치 <br />\n",
    "`end`: 슬라이싱(Slicing)을 끝낼 위치 `end`는 포함하지 않음 <br />\n",
    "`step`: 보폭(stride)라고도 하며 슬라이싱(Slicing)하는 요소를 가져올 때 뛰어넘는 범위 설정 (기본값은 1)"
   ]
  },
  {
   "cell_type": "code",
   "execution_count": 22,
   "metadata": {},
   "outputs": [],
   "source": [
    "# 리스트 슬라이싱 (List Slicing)\n",
    "a = [1, 2, 3, 4, 5]"
   ]
  },
  {
   "cell_type": "code",
   "execution_count": 26,
   "metadata": {},
   "outputs": [
    {
     "name": "stdout",
     "output_type": "stream",
     "text": [
      "[1, 2, 3]\n",
      "[1, 2, 3]\n"
     ]
    }
   ],
   "source": [
    "# index 0 ~ 2\n",
    "print(a[0:3])\n",
    "\n",
    "# or \n",
    "\n",
    "# 0은 생략이 가능하다\n",
    "print(a[:3])"
   ]
  },
  {
   "cell_type": "code",
   "execution_count": 27,
   "metadata": {},
   "outputs": [
    {
     "data": {
      "text/plain": [
       "[1, 2, 3, 4, 5]"
      ]
     },
     "execution_count": 27,
     "metadata": {},
     "output_type": "execute_result"
    }
   ],
   "source": [
    "# index 0 ~ 끝\n",
    "a[:]"
   ]
  },
  {
   "cell_type": "code",
   "execution_count": 31,
   "metadata": {},
   "outputs": [
    {
     "name": "stdout",
     "output_type": "stream",
     "text": [
      "['a', 'b', 'c']\n",
      "['a', 'b']\n",
      "[1, 2, 3, ['a', 'b', 'c'], 4, 5]\n"
     ]
    }
   ],
   "source": [
    "# 중첩된 리스트 슬라이싱\n",
    "a = [1, 2, 3, [\"a\", \"b\", \"c\"], 4, 5]\n",
    "print(a[3][:])\n",
    "print(a[3][:2])\n",
    "print(a[:])"
   ]
  },
  {
   "cell_type": "markdown",
   "metadata": {},
   "source": [
    "### 리스트 연산\n",
    "\n",
    "- `+` 혹은 `*` 기호를 이용해 리스트 반복이 가능하다."
   ]
  },
  {
   "cell_type": "code",
   "execution_count": 34,
   "metadata": {},
   "outputs": [
    {
     "name": "stdout",
     "output_type": "stream",
     "text": [
      "[1, 2, 3, 4, 5, 6]\n"
     ]
    }
   ],
   "source": [
    "# 리스트 더하기 (+)\n",
    "a = [1, 2, 3]\n",
    "b = [4, 5, 6]\n",
    "print(a + b)"
   ]
  },
  {
   "cell_type": "code",
   "execution_count": 35,
   "metadata": {},
   "outputs": [
    {
     "name": "stdout",
     "output_type": "stream",
     "text": [
      "['*', '*', '*', '*', '*', '*', '*', '*', '*', '*']\n"
     ]
    }
   ],
   "source": [
    "# 리스트 반복하기 (*)\n",
    "a = [\"*\"] * 10\n",
    "print(a)"
   ]
  },
  {
   "cell_type": "code",
   "execution_count": 36,
   "metadata": {},
   "outputs": [
    {
     "name": "stdout",
     "output_type": "stream",
     "text": [
      "3\n"
     ]
    }
   ],
   "source": [
    "# 리스트 길이구하기 (len)\n",
    "a = [1, 2, 3]\n",
    "print(len(a))"
   ]
  },
  {
   "cell_type": "code",
   "execution_count": 38,
   "metadata": {},
   "outputs": [
    {
     "ename": "TypeError",
     "evalue": "unsupported operand type(s) for +: 'int' and 'str'",
     "output_type": "error",
     "traceback": [
      "\u001b[1;31m---------------------------------------------------------------------------\u001b[0m",
      "\u001b[1;31mTypeError\u001b[0m                                 Traceback (most recent call last)",
      "\u001b[1;32m<ipython-input-38-1045738ffef3>\u001b[0m in \u001b[0;36m<module>\u001b[1;34m\u001b[0m\n\u001b[0;32m      2\u001b[0m \u001b[1;31m# 1. 데이터 타입 오류\u001b[0m\u001b[1;33m\u001b[0m\u001b[1;33m\u001b[0m\u001b[1;33m\u001b[0m\u001b[0m\n\u001b[0;32m      3\u001b[0m \u001b[0ma\u001b[0m \u001b[1;33m=\u001b[0m \u001b[1;33m[\u001b[0m\u001b[1;36m1\u001b[0m\u001b[1;33m,\u001b[0m \u001b[1;36m2\u001b[0m\u001b[1;33m,\u001b[0m \u001b[1;36m3\u001b[0m\u001b[1;33m]\u001b[0m\u001b[1;33m\u001b[0m\u001b[1;33m\u001b[0m\u001b[0m\n\u001b[1;32m----> 4\u001b[1;33m \u001b[0ma\u001b[0m\u001b[1;33m[\u001b[0m\u001b[1;36m2\u001b[0m\u001b[1;33m]\u001b[0m \u001b[1;33m+\u001b[0m \u001b[1;34m\"hello\"\u001b[0m\u001b[1;33m\u001b[0m\u001b[1;33m\u001b[0m\u001b[0m\n\u001b[0m",
      "\u001b[1;31mTypeError\u001b[0m: unsupported operand type(s) for +: 'int' and 'str'"
     ]
    }
   ],
   "source": [
    "# 빈번히 발생하는 리스트 연산 오류\n",
    "# 1. 데이터 타입 오류\n",
    "a = [1, 2, 3]\n",
    "a[2] + \"hello\""
   ]
  },
  {
   "cell_type": "markdown",
   "metadata": {},
   "source": [
    "위 오류가 발생하는 이유는 String(문자열)의 경우 모든 것이 다 문자로 간주되기 때문에, 데이터 타입을 신경 쓰지 않아도 되지만, 위의 경우 `a[2]`는 `숫자`이고, `\"hello\"`는 `문자열`이기 때문에 `숫자 + 문자`는 불가능하기 때문에 위와 같은 오류가 발생한다."
   ]
  },
  {
   "cell_type": "code",
   "execution_count": 39,
   "metadata": {},
   "outputs": [
    {
     "data": {
      "text/plain": [
       "'3hi'"
      ]
     },
     "execution_count": 39,
     "metadata": {},
     "output_type": "execute_result"
    }
   ],
   "source": [
    "# 위 오류를 해결하는 방법\n",
    "# 데이터 타입을 변경해 통일해 준다 - 숫자를 문자로 변경하기\n",
    "# str() --> string(문자열)로 데이터를 형 변환해 준다\n",
    "str(a[2]) + \"hi\""
   ]
  },
  {
   "cell_type": "markdown",
   "metadata": {},
   "source": [
    "### 리스트 수정과 삭제\n",
    "\n",
    "- `Lists(리스트)`는 `String(문자열)`과 다루는 방법은 거의 유사하다, 다만 한 가지 차이점이 존재한다.\n",
    "\n",
    "- `String(문자열)`은 `Immutability(불변성)`의 특성 때문에 새로운 `String(문자열)`추가는 가능하지만, 기존의 `String(문자열)`의 이루는 문자의 변경이 불가능하다.\n",
    "\n",
    "- `Lists(리스트)`는 `String(문자열)`과 달리 요소의 값 변경이 가능하다 이것을 `Mutabillity(가변성 or 변하기 쉬움)`이라 칭한다."
   ]
  },
  {
   "cell_type": "code",
   "execution_count": 41,
   "metadata": {},
   "outputs": [
    {
     "ename": "TypeError",
     "evalue": "'str' object does not support item assignment",
     "output_type": "error",
     "traceback": [
      "\u001b[1;31m---------------------------------------------------------------------------\u001b[0m",
      "\u001b[1;31mTypeError\u001b[0m                                 Traceback (most recent call last)",
      "\u001b[1;32m<ipython-input-41-e6d9f3a98865>\u001b[0m in \u001b[0;36m<module>\u001b[1;34m\u001b[0m\n\u001b[0;32m      2\u001b[0m \u001b[0ma\u001b[0m \u001b[1;33m=\u001b[0m \u001b[1;34m\"Hello World\"\u001b[0m\u001b[1;33m\u001b[0m\u001b[1;33m\u001b[0m\u001b[0m\n\u001b[0;32m      3\u001b[0m \u001b[0ma\u001b[0m\u001b[1;33m[\u001b[0m\u001b[1;36m0\u001b[0m\u001b[1;33m]\u001b[0m\u001b[1;33m\u001b[0m\u001b[1;33m\u001b[0m\u001b[0m\n\u001b[1;32m----> 4\u001b[1;33m \u001b[0ma\u001b[0m\u001b[1;33m[\u001b[0m\u001b[1;36m0\u001b[0m\u001b[1;33m]\u001b[0m \u001b[1;33m=\u001b[0m \u001b[1;34m\"W\"\u001b[0m\u001b[1;33m\u001b[0m\u001b[1;33m\u001b[0m\u001b[0m\n\u001b[0m",
      "\u001b[1;31mTypeError\u001b[0m: 'str' object does not support item assignment"
     ]
    }
   ],
   "source": [
    "# string(문자열) 값 수정하기 - 불변성 특성 때문에 오류 발생\n",
    "a = \"Hello World\"\n",
    "a[0]\n",
    "a[0] = \"W\""
   ]
  },
  {
   "cell_type": "code",
   "execution_count": 42,
   "metadata": {},
   "outputs": [
    {
     "data": {
      "text/plain": [
       "['hello', 2, 3]"
      ]
     },
     "execution_count": 42,
     "metadata": {},
     "output_type": "execute_result"
    }
   ],
   "source": [
    "# list(리스트) 값 수정\n",
    "a = [1, 2, 3]\n",
    "a[0] = 'hello'\n",
    "a"
   ]
  },
  {
   "cell_type": "code",
   "execution_count": 44,
   "metadata": {},
   "outputs": [
    {
     "data": {
      "text/plain": [
       "[2, 3]"
      ]
     },
     "execution_count": 44,
     "metadata": {},
     "output_type": "execute_result"
    }
   ],
   "source": [
    "# list(리스트)값 삭제하기 - del 함수 사용\n",
    "# del a[x]는 x번째 요솟값을 삭제한다. \n",
    "#여기에서는 a 리스트에서 a[1]을 삭제하는 방법을 보여준다. \n",
    "# del 함수는 파이썬이 자체적으로 가지고 있는 삭제 함수이며 다음과 같이 사용한다.\n",
    "a = [1, 2, 3]\n",
    "del a[0]\n",
    "a"
   ]
  },
  {
   "cell_type": "code",
   "execution_count": 45,
   "metadata": {},
   "outputs": [
    {
     "data": {
      "text/plain": [
       "[1, 2]"
      ]
     },
     "execution_count": 45,
     "metadata": {},
     "output_type": "execute_result"
    }
   ],
   "source": [
    "# del + slicing 방식으로 다수의 요소 삭제하기\n",
    "a = [1, 2, 3, 4, 5]\n",
    "del a[2:]\n",
    "a"
   ]
  },
  {
   "cell_type": "markdown",
   "metadata": {},
   "source": [
    "### 리스트 관련 함수들\n",
    "\n",
    "1. `list` 끝에 새로운 요소를 추가한다 `(append)`\n",
    "2. `list` 내부의 모든 요소를 삭제해 빈 `list`로 만든다 `(clear)`\n",
    "3. `list` 내부의 특정 요소의 개수를 리턴한다 `(count)`\n",
    "4. 이미 존재하는 `list`와 다른 `list`를 합치고 싶은 경우 `(extend)`\n",
    "5. `list` 내부의 특정 요소의 인덱스 값을 알고 싶은 경우 `(index)`\n",
    "5. `list` 내부에 특정 위치의 특정 요소를 추가하고 싶은 경우 `(insert)`\n",
    "6. `list` 끝의 요소를 삭제하고 싶은 경우 `(pop)`\n",
    "7. `list` 내부의 특정 위치의 특정 요소를 제거하고 싶은 경우 `(remove)`\n",
    "8. `list`의 내부의 요소를 역순으로 정렬하고 싶은 경우 `(reverse)`\n",
    "9. `list`를 알파벳순으로 정렬하고 싶은 경우 `(sort)`"
   ]
  },
  {
   "cell_type": "markdown",
   "metadata": {},
   "source": [
    "#### 1. `list` 끝에 새로운 요소를 추가한다 `(append)`"
   ]
  },
  {
   "cell_type": "code",
   "execution_count": 33,
   "metadata": {},
   "outputs": [
    {
     "data": {
      "text/plain": [
       "[1, 2, 3, 4]"
      ]
     },
     "execution_count": 33,
     "metadata": {},
     "output_type": "execute_result"
    }
   ],
   "source": [
    "# 리스트에 요소 추가 - append\n",
    "# append를 사전에서 검색해 보면 \"덧붙이다, 첨부하다\"라는 뜻이 있다.\n",
    "a = [1, 2, 3]\n",
    "a.append(4)\n",
    "a"
   ]
  },
  {
   "cell_type": "code",
   "execution_count": 34,
   "metadata": {},
   "outputs": [
    {
     "data": {
      "text/plain": [
       "[1, 2, 3, [5, 6]]"
      ]
     },
     "execution_count": 34,
     "metadata": {},
     "output_type": "execute_result"
    }
   ],
   "source": [
    "# 응용\n",
    "# 리스트 안에 리스트를 추가하는 법\n",
    "a = [1, 2, 3]\n",
    "a.append([5, 6])\n",
    "a"
   ]
  },
  {
   "cell_type": "markdown",
   "metadata": {},
   "source": [
    "#### 2. list 내부의 모든 요소를 삭제해 빈 list로 만든다 (clear)"
   ]
  },
  {
   "cell_type": "code",
   "execution_count": 35,
   "metadata": {},
   "outputs": [
    {
     "data": {
      "text/plain": [
       "[]"
      ]
     },
     "execution_count": 35,
     "metadata": {},
     "output_type": "execute_result"
    }
   ],
   "source": [
    "test = [1, 2, 3, 4, 5]\n",
    "test.clear()\n",
    "test"
   ]
  },
  {
   "cell_type": "markdown",
   "metadata": {},
   "source": [
    "#### 3. list 내부의 특정 요소의 개수를 리턴한다 (count)"
   ]
  },
  {
   "cell_type": "code",
   "execution_count": 36,
   "metadata": {},
   "outputs": [
    {
     "data": {
      "text/plain": [
       "2"
      ]
     },
     "execution_count": 36,
     "metadata": {},
     "output_type": "execute_result"
    }
   ],
   "source": [
    "test = [1, 1, 2, 2, 3]\n",
    "test.count(1)"
   ]
  },
  {
   "cell_type": "markdown",
   "metadata": {},
   "source": [
    "#### 4. 이미 존재하는 list와 다른 list를 합치고 싶은 경우 (extend)"
   ]
  },
  {
   "cell_type": "code",
   "execution_count": 37,
   "metadata": {},
   "outputs": [
    {
     "name": "stdout",
     "output_type": "stream",
     "text": [
      "[1, 2, 3, 4, 5, 6]\n",
      "[1, 2, 3, 4, 5, 6, 4, 5, 6]\n"
     ]
    }
   ],
   "source": [
    "first = [1, 2, 3]\n",
    "second = [4, 5, 6]\n",
    "\n",
    "first.extend(second)\n",
    "print(first)\n",
    "\n",
    "# extend() 함수는 리턴 값이 없기 때문에 다른 변수에 할당이 불가능하다\n",
    "\n",
    "third = first + second\n",
    "print(third)"
   ]
  },
  {
   "cell_type": "markdown",
   "metadata": {},
   "source": [
    "#### 5. `list` 내부의 특정 요소의 인덱스 값을 알고 싶은 경우 `(index)`"
   ]
  },
  {
   "cell_type": "code",
   "execution_count": 38,
   "metadata": {},
   "outputs": [
    {
     "data": {
      "text/plain": [
       "0"
      ]
     },
     "execution_count": 38,
     "metadata": {},
     "output_type": "execute_result"
    }
   ],
   "source": [
    "test = [1, 2, 3]\n",
    "test.index(1)"
   ]
  },
  {
   "cell_type": "code",
   "execution_count": 39,
   "metadata": {},
   "outputs": [
    {
     "ename": "ValueError",
     "evalue": "0 is not in list",
     "output_type": "error",
     "traceback": [
      "\u001b[1;31m---------------------------------------------------------------------------\u001b[0m",
      "\u001b[1;31mValueError\u001b[0m                                Traceback (most recent call last)",
      "\u001b[1;32m<ipython-input-39-fd554b97a6ff>\u001b[0m in \u001b[0;36m<module>\u001b[1;34m\u001b[0m\n\u001b[0;32m      1\u001b[0m \u001b[1;31m# 존재하지 않기 때문에 값 오류(ValueError)가 발생\u001b[0m\u001b[1;33m\u001b[0m\u001b[1;33m\u001b[0m\u001b[1;33m\u001b[0m\u001b[0m\n\u001b[0;32m      2\u001b[0m \u001b[0ma\u001b[0m \u001b[1;33m=\u001b[0m \u001b[1;33m[\u001b[0m\u001b[1;36m1\u001b[0m\u001b[1;33m,\u001b[0m \u001b[1;36m2\u001b[0m\u001b[1;33m,\u001b[0m \u001b[1;36m3\u001b[0m\u001b[1;33m]\u001b[0m\u001b[1;33m\u001b[0m\u001b[1;33m\u001b[0m\u001b[0m\n\u001b[1;32m----> 3\u001b[1;33m \u001b[0ma\u001b[0m\u001b[1;33m.\u001b[0m\u001b[0mindex\u001b[0m\u001b[1;33m(\u001b[0m\u001b[1;36m0\u001b[0m\u001b[1;33m)\u001b[0m\u001b[1;33m\u001b[0m\u001b[1;33m\u001b[0m\u001b[0m\n\u001b[0m",
      "\u001b[1;31mValueError\u001b[0m: 0 is not in list"
     ]
    }
   ],
   "source": [
    "# 존재하지 않기 때문에 값 오류(ValueError)가 발생\n",
    "a = [1, 2, 3]\n",
    "a.index(0)"
   ]
  },
  {
   "cell_type": "markdown",
   "metadata": {},
   "source": [
    "#### 6. list 내부에 특정 위치의 특정 요소를 추가하고 싶은 경우 (insert)"
   ]
  },
  {
   "cell_type": "code",
   "execution_count": 40,
   "metadata": {},
   "outputs": [
    {
     "data": {
      "text/plain": [
       "[1, 2, 3, 'Hello', 4, 5]"
      ]
     },
     "execution_count": 40,
     "metadata": {},
     "output_type": "execute_result"
    }
   ],
   "source": [
    "# insert(추가하고 싶은 인덱스 값, 추가 하고 싶은 값)\n",
    "\n",
    "test = [1, 2, 3, 4, 5]\n",
    "test.insert(3, \"Hello\")\n",
    "test"
   ]
  },
  {
   "cell_type": "markdown",
   "metadata": {},
   "source": [
    "#### 7. list 끝의 요소를 삭제하고 싶은 경우 (pop)"
   ]
  },
  {
   "cell_type": "code",
   "execution_count": 41,
   "metadata": {},
   "outputs": [
    {
     "data": {
      "text/plain": [
       "4"
      ]
     },
     "execution_count": 41,
     "metadata": {},
     "output_type": "execute_result"
    }
   ],
   "source": [
    "test = [1, 2, 3, 4]\n",
    "last_item = test.pop()\n",
    "last_item"
   ]
  },
  {
   "cell_type": "markdown",
   "metadata": {},
   "source": [
    "#### 8. list 내부의 특정 위치의 특정 요소를 제거하고 싶은 경우 (remove)"
   ]
  },
  {
   "cell_type": "code",
   "execution_count": 42,
   "metadata": {},
   "outputs": [
    {
     "data": {
      "text/plain": [
       "[1, 3, 4]"
      ]
     },
     "execution_count": 42,
     "metadata": {},
     "output_type": "execute_result"
    }
   ],
   "source": [
    "# insert(제거하고 싶은 인덱스 값)\n",
    "test = [1, 2, 3, 4]\n",
    "test.remove(2)\n",
    "test"
   ]
  },
  {
   "cell_type": "code",
   "execution_count": 43,
   "metadata": {},
   "outputs": [
    {
     "data": {
      "text/plain": [
       "[1, 2, 3, 4]"
      ]
     },
     "execution_count": 43,
     "metadata": {},
     "output_type": "execute_result"
    }
   ],
   "source": [
    "# 리스트 정렬 - sort\n",
    "a = [1, 4, 3, 2]\n",
    "a.sort()\n",
    "a"
   ]
  },
  {
   "cell_type": "markdown",
   "metadata": {},
   "source": [
    "#### 9. list의 내부의 요소를 역순으로 정렬하고 싶은 경우 (reverse)"
   ]
  },
  {
   "cell_type": "code",
   "execution_count": 44,
   "metadata": {},
   "outputs": [
    {
     "data": {
      "text/plain": [
       "[5, 4, 3, 2, 1]"
      ]
     },
     "execution_count": 44,
     "metadata": {},
     "output_type": "execute_result"
    }
   ],
   "source": [
    "test = [1, 2, 3, 4, 5]\n",
    "test.reverse()\n",
    "test"
   ]
  },
  {
   "cell_type": "markdown",
   "metadata": {},
   "source": [
    "#### 10. list를 알파벳순으로 정렬하고 싶은 경우 (sort)"
   ]
  },
  {
   "cell_type": "code",
   "execution_count": 45,
   "metadata": {},
   "outputs": [
    {
     "data": {
      "text/plain": [
       "['a', 'b', 'c']"
      ]
     },
     "execution_count": 45,
     "metadata": {},
     "output_type": "execute_result"
    }
   ],
   "source": [
    "# 리스트 알바펫 순으로 정렬 \n",
    "a = ['a', 'c', 'b']\n",
    "a.sort()\n",
    "a"
   ]
  },
  {
   "cell_type": "code",
   "execution_count": 47,
   "metadata": {},
   "outputs": [
    {
     "data": {
      "text/plain": [
       "['b', 'c', 'a']"
      ]
     },
     "execution_count": 47,
     "metadata": {},
     "output_type": "execute_result"
    }
   ],
   "source": [
    "# 리스트 뒤집기(reverse)\n",
    "# reverse 함수는 리스트를 역순으로 뒤집어 준다. \n",
    "# 이때 리스트 요소들을 순서대로 정렬한 다음 \n",
    "# 다시 역순으로 정렬하는 것이 아니라 그저 현재의 리스트를 그대로 거꾸로 뒤집는다.\n",
    "a = [\"a\", \"c\", \"b\"]\n",
    "a.reverse()\n",
    "a"
   ]
  },
  {
   "cell_type": "code",
   "execution_count": 48,
   "metadata": {},
   "outputs": [],
   "source": [
    "# https://ledgku.tistory.com/54"
   ]
  }
 ],
 "metadata": {
  "kernelspec": {
   "display_name": "Python 3",
   "language": "python",
   "name": "python3"
  },
  "language_info": {
   "codemirror_mode": {
    "name": "ipython",
    "version": 3
   },
   "file_extension": ".py",
   "mimetype": "text/x-python",
   "name": "python",
   "nbconvert_exporter": "python",
   "pygments_lexer": "ipython3",
   "version": "3.8.5"
  }
 },
 "nbformat": 4,
 "nbformat_minor": 4
}
