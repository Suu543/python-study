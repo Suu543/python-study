{
 "cells": [
  {
   "cell_type": "markdown",
   "metadata": {},
   "source": [
    "## Strings (문자열)\n",
    "\n",
    "문자열(String)이란 문자, 단어 등으로 구성된 문자들의 집합을 의미한다. 예를 들어 다음과 같은 것들이 문자열이다.\n",
    "\n",
    "`'This is Hello World'\n",
    "\"It's me Hello World 11111\"`\n",
    "\n",
    "1. 11111은 숫자인데 왜 문자일까?\n",
    "- `\" \"(쌍 따옴표) or ' '(홑 따옴표)로 둘러싸여 있으면 모두 다 문자로 간주한다.`\n",
    "\n",
    "2. 어퍼스트로피(Apostrophe) ' 를 사용하고 싶은 경우 \" \"(쌍 따옴표)를 사용해야 한다.\n",
    "- `' '(홑 따옴표)를 사용하면 어퍼스트로피(Apostrophe)와 구분이 안되기 때문이다.`\n",
    "\n",
    "\n",
    "1. Creating Strings\n",
    "2. Printing Strings\n",
    "3. Concatenating Strings\n",
    "4. String indexing and Slicing\n",
    "5. String Properties\n",
    "6. String Methods\n",
    "7. String Formatting\n",
    "\n"
   ]
  },
  {
   "cell_type": "markdown",
   "metadata": {},
   "source": [
    "### 1. Creating Strings\n",
    "##### Python에는 총 4가지의 문자열 생성 방식이 존재한다.\n",
    "1. ' '\n",
    "2. \" \"\n",
    "3. \"\"\"\n",
    "4. '''"
   ]
  },
  {
   "cell_type": "code",
   "execution_count": 2,
   "metadata": {},
   "outputs": [
    {
     "data": {
      "text/plain": [
       "'hello'"
      ]
     },
     "execution_count": 2,
     "metadata": {},
     "output_type": "execute_result"
    }
   ],
   "source": [
    "# 홑 따옴표\n",
    "'hello'"
   ]
  },
  {
   "cell_type": "code",
   "execution_count": 3,
   "metadata": {},
   "outputs": [
    {
     "data": {
      "text/plain": [
       "'hello'"
      ]
     },
     "execution_count": 3,
     "metadata": {},
     "output_type": "execute_result"
    }
   ],
   "source": [
    "# 쌍 따옴표\n",
    "\"hello\""
   ]
  },
  {
   "cell_type": "code",
   "execution_count": 4,
   "metadata": {},
   "outputs": [
    {
     "ename": "SyntaxError",
     "evalue": "invalid syntax (<ipython-input-4-82a2ebee969e>, line 1)",
     "output_type": "error",
     "traceback": [
      "\u001b[1;36m  File \u001b[1;32m\"<ipython-input-4-82a2ebee969e>\"\u001b[1;36m, line \u001b[1;32m1\u001b[0m\n\u001b[1;33m    'I'm using single quotes, but this will create an error'\u001b[0m\n\u001b[1;37m       ^\u001b[0m\n\u001b[1;31mSyntaxError\u001b[0m\u001b[1;31m:\u001b[0m invalid syntax\n"
     ]
    }
   ],
   "source": [
    "'I'm using single quotes, but this will create an error'"
   ]
  },
  {
   "cell_type": "code",
   "execution_count": 1,
   "metadata": {},
   "outputs": [
    {
     "data": {
      "text/plain": [
       "\"I'm using single quotes, but this will create an error\""
      ]
     },
     "execution_count": 1,
     "metadata": {},
     "output_type": "execute_result"
    }
   ],
   "source": [
    "\"I'm using single quotes, but this will create an error\""
   ]
  },
  {
   "cell_type": "code",
   "execution_count": 9,
   "metadata": {},
   "outputs": [
    {
     "data": {
      "text/plain": [
       "'\\nDear Hello World,\\nThis is Such a beautiful world\\n'"
      ]
     },
     "execution_count": 9,
     "metadata": {},
     "output_type": "execute_result"
    }
   ],
   "source": [
    "# (쌍)큰따옴표 3개로 둘러 싸기\n",
    "# print() 안에 사용했을때 반영됨\n",
    "\"\"\"\n",
    "Dear Hello World,\n",
    "This is Such a beautiful world\n",
    "\"\"\"\n"
   ]
  },
  {
   "cell_type": "code",
   "execution_count": 10,
   "metadata": {},
   "outputs": [
    {
     "data": {
      "text/plain": [
       "'\\nDear Hello World,\\nThis is Such a beautiful world\\n'"
      ]
     },
     "execution_count": 10,
     "metadata": {},
     "output_type": "execute_result"
    }
   ],
   "source": [
    "# (홑)따옴표 3개로 둘러 싸기\n",
    "# print() 안에 사용했을때 반영됨\n",
    "'''\n",
    "Dear Hello World,\n",
    "This is Such a beautiful world\n",
    "'''"
   ]
  },
  {
   "cell_type": "code",
   "execution_count": 11,
   "metadata": {},
   "outputs": [
    {
     "data": {
      "text/plain": [
       "'Hello \\n World'"
      ]
     },
     "execution_count": 11,
     "metadata": {},
     "output_type": "execute_result"
    }
   ],
   "source": [
    "# 쌍 따옴표를 사용하면서 줄 바꿈 구현하기\n",
    "# print() 안에 사용했을 때 반영됨\n",
    "\"Hello \\n World\""
   ]
  },
  {
   "cell_type": "markdown",
   "metadata": {},
   "source": [
    "### 2. Printing a String"
   ]
  },
  {
   "cell_type": "code",
   "execution_count": 12,
   "metadata": {},
   "outputs": [
    {
     "data": {
      "text/plain": [
       "'Hello World'"
      ]
     },
     "execution_count": 12,
     "metadata": {},
     "output_type": "execute_result"
    }
   ],
   "source": [
    "\"Hello World\""
   ]
  },
  {
   "cell_type": "code",
   "execution_count": 13,
   "metadata": {},
   "outputs": [
    {
     "data": {
      "text/plain": [
       "'Hello World2'"
      ]
     },
     "execution_count": 13,
     "metadata": {},
     "output_type": "execute_result"
    }
   ],
   "source": [
    "# We can't output muitiple strings this way\n",
    "\"Hello World1\"\n",
    "\"Hello World2\""
   ]
  },
  {
   "cell_type": "code",
   "execution_count": 14,
   "metadata": {},
   "outputs": [
    {
     "name": "stdout",
     "output_type": "stream",
     "text": [
      "Use \n",
      "to print a new line\n"
     ]
    }
   ],
   "source": [
    "# New Line (print 함수를 사용해야만 다음줄을 이용할 수 있다)\n",
    "print('Use \\nto print a new line')"
   ]
  },
  {
   "cell_type": "code",
   "execution_count": 15,
   "metadata": {},
   "outputs": [
    {
     "name": "stdout",
     "output_type": "stream",
     "text": [
      "Hello \n",
      "World \n",
      "My \n",
      "Name \n",
      "is\n"
     ]
    }
   ],
   "source": [
    "print(\"Hello \\nWorld \\nMy \\nName \\nis\")"
   ]
  },
  {
   "cell_type": "markdown",
   "metadata": {},
   "source": [
    "### 3. Concatenating Strings"
   ]
  },
  {
   "cell_type": "code",
   "execution_count": 20,
   "metadata": {},
   "outputs": [
    {
     "data": {
      "text/plain": [
       "'Hello World Hello World '"
      ]
     },
     "execution_count": 20,
     "metadata": {},
     "output_type": "execute_result"
    }
   ],
   "source": [
    "one = \"Hello\"\n",
    "two = \" World \"\n",
    "one + two + one + two"
   ]
  },
  {
   "cell_type": "code",
   "execution_count": 1,
   "metadata": {},
   "outputs": [
    {
     "data": {
      "text/plain": [
       "'hellohello'"
      ]
     },
     "execution_count": 1,
     "metadata": {},
     "output_type": "execute_result"
    }
   ],
   "source": [
    "# 문자열 곱하기\n",
    "a = \"hello\"\n",
    "a * 2"
   ]
  },
  {
   "cell_type": "code",
   "execution_count": 2,
   "metadata": {},
   "outputs": [
    {
     "data": {
      "text/plain": [
       "'hellohellohellohellohellohellohellohellohellohellohellohellohellohellohellohellohellohellohellohellohellohellohellohellohellohellohellohellohellohellohellohellohellohellohellohellohellohellohellohellohellohellohellohellohellohellohellohellohellohellohellohellohellohellohellohellohellohellohellohellohellohellohellohellohellohellohellohellohellohellohellohellohellohellohellohellohellohellohellohellohellohellohellohellohellohellohellohellohellohellohellohellohellohellohellohellohellohellohellohello'"
      ]
     },
     "execution_count": 2,
     "metadata": {},
     "output_type": "execute_result"
    }
   ],
   "source": [
    "a * 100"
   ]
  },
  {
   "cell_type": "code",
   "execution_count": 3,
   "metadata": {},
   "outputs": [
    {
     "name": "stdout",
     "output_type": "stream",
     "text": [
      "--------------------------------------------------\n",
      "Hello World\n",
      "--------------------------------------------------\n"
     ]
    }
   ],
   "source": [
    "# 문자열 곱하기 활용\n",
    "print(\"-\" * 50)\n",
    "print(\"Hello World\")\n",
    "print(\"-\" * 50)"
   ]
  },
  {
   "cell_type": "code",
   "execution_count": 4,
   "metadata": {},
   "outputs": [
    {
     "data": {
      "text/plain": [
       "17"
      ]
     },
     "execution_count": 4,
     "metadata": {},
     "output_type": "execute_result"
    }
   ],
   "source": [
    "# 문자열 길이 구하기\n",
    "a = \"Hello This is SU!\"\n",
    "\n",
    "# len = (length)길이의 줄임말\n",
    "len(a)"
   ]
  },
  {
   "cell_type": "code",
   "execution_count": 21,
   "metadata": {},
   "outputs": [
    {
     "data": {
      "text/plain": [
       "11"
      ]
     },
     "execution_count": 21,
     "metadata": {},
     "output_type": "execute_result"
    }
   ],
   "source": [
    "# 문자열 길이 알아보는 함수 - 길이는 영어로 length --> len\n",
    "# \"Hello World\"는 공백포함 11글자\n",
    "len(\"Hello World\")"
   ]
  },
  {
   "attachments": {
    "image.png": {
     "image/png": "[encoded data removed]"
    }
   },
   "cell_type": "markdown",
   "metadata": {},
   "source": [
    "### 4. String Indexing\n",
    "\n",
    "- 인덱싱(indexing)은 어떤 것을 \"가리킨다\"를 의미한다. \n",
    "- 문자열(string)은 다수의 문자로 구성된다. 그러므로 index를 이용해 접근할 수 있다. (문자열 구성하는 각 문자에 접근할 수 있어야 한다)\n",
    "- 주의: 파이썬은 0부터 숫자를 센다\n",
    "\n",
    "![image.png](attachment:image.png)"
   ]
  },
  {
   "cell_type": "code",
   "execution_count": 10,
   "metadata": {},
   "outputs": [],
   "source": [
    "s = 'Hello World'"
   ]
  },
  {
   "cell_type": "code",
   "execution_count": 11,
   "metadata": {},
   "outputs": [
    {
     "data": {
      "text/plain": [
       "'H'"
      ]
     },
     "execution_count": 11,
     "metadata": {},
     "output_type": "execute_result"
    }
   ],
   "source": [
    "s[0]"
   ]
  },
  {
   "cell_type": "code",
   "execution_count": 12,
   "metadata": {},
   "outputs": [
    {
     "name": "stdout",
     "output_type": "stream",
     "text": [
      "Hello World\n"
     ]
    }
   ],
   "source": [
    "print(s)"
   ]
  },
  {
   "cell_type": "code",
   "execution_count": 9,
   "metadata": {},
   "outputs": [
    {
     "data": {
      "text/plain": [
       "'e'"
      ]
     },
     "execution_count": 9,
     "metadata": {},
     "output_type": "execute_result"
    }
   ],
   "source": [
    "# 나는 s 변수에 담긴 Hello World라는 문자열 중에 첫번째 글자인 H를 가져오고 싶어요!\n",
    "s[1]"
   ]
  },
  {
   "cell_type": "code",
   "execution_count": null,
   "metadata": {},
   "outputs": [],
   "source": [
    "\"\""
   ]
  },
  {
   "cell_type": "code",
   "execution_count": 15,
   "metadata": {},
   "outputs": [
    {
     "data": {
      "text/plain": [
       "'e'"
      ]
     },
     "execution_count": 15,
     "metadata": {},
     "output_type": "execute_result"
    }
   ],
   "source": [
    "s[1]"
   ]
  },
  {
   "cell_type": "code",
   "execution_count": 16,
   "metadata": {},
   "outputs": [
    {
     "data": {
      "text/plain": [
       "'l'"
      ]
     },
     "execution_count": 16,
     "metadata": {},
     "output_type": "execute_result"
    }
   ],
   "source": [
    "s[2]"
   ]
  },
  {
   "attachments": {
    "image.png": {
     "image/png": "[encoded data removed]"
    }
   },
   "cell_type": "markdown",
   "metadata": {},
   "source": [
    "![image.png](attachment:image.png)"
   ]
  },
  {
   "cell_type": "code",
   "execution_count": 20,
   "metadata": {},
   "outputs": [
    {
     "data": {
      "text/plain": [
       "'HelloWorld'"
      ]
     },
     "execution_count": 20,
     "metadata": {},
     "output_type": "execute_result"
    }
   ],
   "source": [
    "greeting = \"HelloWorld\"\n",
    "greeting[0:10]"
   ]
  },
  {
   "attachments": {
    "image.png": {
     "image/png": "[encoded data removed]"
    }
   },
   "cell_type": "markdown",
   "metadata": {},
   "source": [
    "![image.png](attachment:image.png)"
   ]
  },
  {
   "attachments": {
    "image.png": {
     "image/png": "[encoded data removed]"
    }
   },
   "cell_type": "markdown",
   "metadata": {},
   "source": [
    "### 5. String Slicing\n",
    "- 슬라이싱(Slicing)은 무엇인가를 \"잘라낸다\"는 의미를 가진다.\n",
    "- 문자열의 일부를 자유자재로 자르는 방법에 대해 알아보자.\n",
    "\n",
    "![image.png](attachment:image.png)\n",
    "\n",
    "`start`: 슬라이싱(Slicing)을 시작할 위치 <br />\n",
    "`end`: 슬라이싱(Slicing)을 끝낼 위치 `end`는 포함하지 않음 <br />\n",
    "`step`: 보폭(stride)라고도 하며 슬라이싱(Slicing)하는 요소를 가져올 때 뛰어넘는 범위 설정 (기본값은 1)"
   ]
  },
  {
   "cell_type": "code",
   "execution_count": 21,
   "metadata": {},
   "outputs": [
    {
     "data": {
      "text/plain": [
       "'Imagine'"
      ]
     },
     "execution_count": 21,
     "metadata": {},
     "output_type": "execute_result"
    }
   ],
   "source": [
    "# 가장 단순하면서 비효율적인 방식\n",
    "lyrics = \"Imagine If I never messed up\"\n",
    "favorite = lyrics[0] + lyrics[1] + lyrics[2] + lyrics[3] + lyrics[4] + lyrics[5] + lyrics[6]\n",
    "favorite"
   ]
  },
  {
   "cell_type": "code",
   "execution_count": 22,
   "metadata": {},
   "outputs": [
    {
     "data": {
      "text/plain": [
       "'Imagine'"
      ]
     },
     "execution_count": 22,
     "metadata": {},
     "output_type": "execute_result"
    }
   ],
   "source": [
    "# 단순하면서 효율적인 방식\n",
    "# [시작 index: 끝 index + 1] \n",
    "# ex) a[0:5] --> index 0 ~ 4 번까지 출력됨\n",
    "# 0 < = a < 5\n",
    "lyrics = \"Imagine If I never messed up\"\n",
    "\n",
    "# index 0 ~ 6 까지 출력하고 싶은 경우\n",
    "lyrics[0:7]"
   ]
  },
  {
   "cell_type": "code",
   "execution_count": 23,
   "metadata": {},
   "outputs": [
    {
     "data": {
      "text/plain": [
       "'Imagine'"
      ]
     },
     "execution_count": 23,
     "metadata": {},
     "output_type": "execute_result"
    }
   ],
   "source": [
    "# index 0 부터 시작하는 경우 아래와 같이 생략이 가능하다\n",
    "lyrics[:7]"
   ]
  },
  {
   "cell_type": "code",
   "execution_count": 24,
   "metadata": {},
   "outputs": [
    {
     "data": {
      "text/plain": [
       "'Imagine If I never messed up'"
      ]
     },
     "execution_count": 24,
     "metadata": {},
     "output_type": "execute_result"
    }
   ],
   "source": [
    "# index 0 ~ 끝까지 출력하고 싶은 경우, (사실상 변수를 print하는 것과 같다)\n",
    "lyrics[:]"
   ]
  },
  {
   "cell_type": "code",
   "execution_count": 25,
   "metadata": {},
   "outputs": [
    {
     "data": {
      "text/plain": [
       "'p'"
      ]
     },
     "execution_count": 25,
     "metadata": {},
     "output_type": "execute_result"
    }
   ],
   "source": [
    "# lyrics의 마지막 문자를 출력하고 싶은 경우\n",
    "lyrics[len(lyrics) - 1]"
   ]
  },
  {
   "cell_type": "code",
   "execution_count": 26,
   "metadata": {},
   "outputs": [
    {
     "data": {
      "text/plain": [
       "'p'"
      ]
     },
     "execution_count": 26,
     "metadata": {},
     "output_type": "execute_result"
    }
   ],
   "source": [
    "# 위와 같이 len을 사용하는 방식을 이용해도 되고, - 단위를 이용해도 된다. \n",
    "# 문자의 제일 끝: -1\n",
    "# 문자의 제일 끝에서 두번째: -2 ...\n",
    "lyrics[-1]"
   ]
  },
  {
   "cell_type": "code",
   "execution_count": 27,
   "metadata": {},
   "outputs": [
    {
     "ename": "NameError",
     "evalue": "name 's' is not defined",
     "output_type": "error",
     "traceback": [
      "\u001b[1;31m---------------------------------------------------------------------------\u001b[0m",
      "\u001b[1;31mNameError\u001b[0m                                 Traceback (most recent call last)",
      "\u001b[1;32m<ipython-input-27-5964d8da1da2>\u001b[0m in \u001b[0;36m<module>\u001b[1;34m\u001b[0m\n\u001b[0;32m      1\u001b[0m \u001b[1;31m# 끝에서 두번째\u001b[0m\u001b[1;33m\u001b[0m\u001b[1;33m\u001b[0m\u001b[1;33m\u001b[0m\u001b[0m\n\u001b[1;32m----> 2\u001b[1;33m \u001b[0ms\u001b[0m\u001b[1;33m[\u001b[0m\u001b[1;33m-\u001b[0m\u001b[1;36m2\u001b[0m\u001b[1;33m]\u001b[0m\u001b[1;33m\u001b[0m\u001b[1;33m\u001b[0m\u001b[0m\n\u001b[0m",
      "\u001b[1;31mNameError\u001b[0m: name 's' is not defined"
     ]
    }
   ],
   "source": [
    "# 끝에서 두번째\n",
    "s[-2]"
   ]
  },
  {
   "cell_type": "code",
   "execution_count": null,
   "metadata": {},
   "outputs": [],
   "source": [
    "# String Slicing 활용\n",
    "# 실제로 서비스를 운영하다보면, 다양한 형식의 데이터가 전달된다.\n",
    "# 서버와 화면 사이의 데이터 전달을 효율적으로 관리하기 위해 \n",
    "# 여러 데이터를 하나의 문자열로 병합에 서버에 전달하고 그것을 특정 규칙에 맞게 쪼개야 할때\n",
    "# String Slicing은 유용하게 사용할 수 있다. \n",
    "# 예시)\n",
    "dataFromClient = \"20210225Yongsu\"\n",
    "date = dataFromClient[:8]\n",
    "name = dataFromClient[8:]\n",
    "\n",
    "print(\"Date:\",date, \"Name:\", name)"
   ]
  },
  {
   "cell_type": "code",
   "execution_count": 30,
   "metadata": {},
   "outputs": [
    {
     "data": {
      "text/plain": [
       "'Hlool'"
      ]
     },
     "execution_count": 30,
     "metadata": {},
     "output_type": "execute_result"
    }
   ],
   "source": [
    "greeting = \"HelloWorld\"\n",
    "# greeting의 (0을 포함한) 2의 배수의 인덱스를 가진 요소를 출력하고 싶은 경우\n",
    "greeting[::2]"
   ]
  },
  {
   "cell_type": "code",
   "execution_count": 31,
   "metadata": {},
   "outputs": [
    {
     "data": {
      "text/plain": [
       "'Hlod'"
      ]
     },
     "execution_count": 31,
     "metadata": {},
     "output_type": "execute_result"
    }
   ],
   "source": [
    "# greeting의 (0을 포함한) 3의 배수의 인덱스를 가진 요소를 출력하고 싶은 경우\n",
    "greeting[::3]"
   ]
  },
  {
   "cell_type": "code",
   "execution_count": 32,
   "metadata": {},
   "outputs": [
    {
     "data": {
      "text/plain": [
       "'dlroWolleH'"
      ]
     },
     "execution_count": 32,
     "metadata": {},
     "output_type": "execute_result"
    }
   ],
   "source": [
    "# greeting을 역순으로 출력하고 싶은 경우\n",
    "greeting[::-1]"
   ]
  },
  {
   "cell_type": "markdown",
   "metadata": {},
   "source": [
    "### String is Immutability\n",
    "- 생성한 문자열에 새로운 문자를 추가하는 대신에, 기존에 있는 문자를 다른 문자로 변경하는 경우 어떻게 될까?"
   ]
  },
  {
   "cell_type": "code",
   "execution_count": 33,
   "metadata": {},
   "outputs": [
    {
     "ename": "TypeError",
     "evalue": "'str' object does not support item assignment",
     "output_type": "error",
     "traceback": [
      "\u001b[1;31m---------------------------------------------------------------------------\u001b[0m",
      "\u001b[1;31mTypeError\u001b[0m                                 Traceback (most recent call last)",
      "\u001b[1;32m<ipython-input-33-ce877995d021>\u001b[0m in \u001b[0;36m<module>\u001b[1;34m\u001b[0m\n\u001b[0;32m      1\u001b[0m \u001b[0mname\u001b[0m \u001b[1;33m=\u001b[0m \u001b[1;34m'hello'\u001b[0m\u001b[1;33m\u001b[0m\u001b[1;33m\u001b[0m\u001b[0m\n\u001b[1;32m----> 2\u001b[1;33m \u001b[0mname\u001b[0m\u001b[1;33m[\u001b[0m\u001b[1;36m0\u001b[0m\u001b[1;33m]\u001b[0m \u001b[1;33m=\u001b[0m \u001b[1;34m'k'\u001b[0m\u001b[1;33m\u001b[0m\u001b[1;33m\u001b[0m\u001b[0m\n\u001b[0m",
      "\u001b[1;31mTypeError\u001b[0m: 'str' object does not support item assignment"
     ]
    }
   ],
   "source": [
    "name = 'hello'\n",
    "name[0] = 'k'"
   ]
  },
  {
   "cell_type": "markdown",
   "metadata": {},
   "source": [
    "기존의 문자를 다른 문자로 대체하려 했을 때 위 <br />\n",
    "'str' object does not support item assignment와 같은 오류가 발생한다.\n",
    "\n",
    "Python에서 문자열 데이터는 한 번 정의하면 기존의 요소에 새로운 문자를 추가할 수는 있지만, 기존의 요소를 변경할 수는 없다. 그래서 `Immutable Data Type`이라 칭한다."
   ]
  },
  {
   "cell_type": "code",
   "execution_count": 36,
   "metadata": {},
   "outputs": [
    {
     "data": {
      "text/plain": [
       "'helloworldworldworld'"
      ]
     },
     "execution_count": 36,
     "metadata": {},
     "output_type": "execute_result"
    }
   ],
   "source": [
    "# 기존의 요소에 새로운 요소를 추가해보자\n",
    "# 오류 없이 정상적으로 출력되는 것을 확인할 수 있다. \n",
    "# 이와 같이 기존의 요소에 새로운 요소를 추가하는 것을 보고 (Concatenation)이라 칭한다.\n",
    "name = name + \"world\"\n",
    "name"
   ]
  },
  {
   "cell_type": "code",
   "execution_count": 32,
   "metadata": {},
   "outputs": [],
   "source": [
    "# 하나의 문자를 여러번 출력하는 방법 (곱하기 기호를 이용하자)\n",
    "letter = 'a'"
   ]
  },
  {
   "cell_type": "code",
   "execution_count": 2,
   "metadata": {},
   "outputs": [
    {
     "name": "stdout",
     "output_type": "stream",
     "text": [
      "aaaaaaaaaa\n"
     ]
    }
   ],
   "source": [
    "print(\"a\" * 10)"
   ]
  },
  {
   "cell_type": "markdown",
   "metadata": {},
   "source": [
    "## 문자열(String) 요약\n",
    "\n",
    "1. 문자열(string)은 다수의 문자로 구성되었기 때문에, 한 문자열을 구성하는 각 문자에 인덱스(index)를 이용해 접근할 수 있다. `(문자열(string)의 index는 0 번부터 시작한다.)` \n",
    "-------------------------------------------------------------------------------------\n",
    "2. 문자열(string)은 슬라이싱(slicing)을 이용해 문자열(string)에서 원하는 부분을 효율적으로 가져올 수 있다. `[start:end:step] (단, end 번째는 포함하지 않는다`\n",
    "-------------------------------------------------------------------------------------\n",
    "3. 문자열(string)은 기존의 요소에 새로운 요소를 추가할 수 있지만, 기존의 요소를 변경하는 것은 불가능하다. 그 이유는 문자열(string)은 `immutability(불변성`의 특징을 가지는 데이터 타입이기 때문이다."
   ]
  },
  {
   "cell_type": "markdown",
   "metadata": {},
   "source": [
    "### 문자열(string)에 내장된 유용한 함수\n",
    "1. 문자열 내부의 특정 문자 개수 세기(count)\n",
    "2. 특정 문자 위치 찾기(find) - 존재하지 않는 경우 -1 리턴\n",
    "3. 특정 문자 위치 찾기(index) - 존재하지 않는 경우 오류 발생\n",
    "4. 문자열 삽입(join)\n",
    "5. 생성한 문자를 대문자 혹은 소문자로 변경하는 함수 (upper or lower)\n",
    "6. 특정 글자를 기준으로 한 단위로 문자를 쪼개는 함수 (split)\n",
    "7. 왼쪽 공백 지우기(lstrip)\n",
    "8. 오른쪽 공백 지우기(rstrip)\n",
    "9. 양쪽 공백 지우기(strip)\n",
    "10. 문자열 변경하기(replace)"
   ]
  },
  {
   "cell_type": "code",
   "execution_count": 81,
   "metadata": {},
   "outputs": [
    {
     "data": {
      "text/plain": [
       "3"
      ]
     },
     "execution_count": 81,
     "metadata": {},
     "output_type": "execute_result"
    }
   ],
   "source": [
    "# 문자 개수 세기 (count)\n",
    "count_str = \"helloworld\"\n",
    "count_str.count('l')"
   ]
  },
  {
   "cell_type": "code",
   "execution_count": 83,
   "metadata": {},
   "outputs": [
    {
     "data": {
      "text/plain": [
       "2"
      ]
     },
     "execution_count": 83,
     "metadata": {},
     "output_type": "execute_result"
    }
   ],
   "source": [
    "# 문자 위치 알려주기 (find) (여러개가 존재하는 경우 처음으로 발견된 index를 리턴)\n",
    "find_str = 'hello world this is su'\n",
    "find_str.find('l')"
   ]
  },
  {
   "cell_type": "code",
   "execution_count": 84,
   "metadata": {},
   "outputs": [
    {
     "data": {
      "text/plain": [
       "-1"
      ]
     },
     "execution_count": 84,
     "metadata": {},
     "output_type": "execute_result"
    }
   ],
   "source": [
    "# 존재하지 않는 문자의 경우 (find) --> -1 리턴\n",
    "notFound_str = 'hello world this is su'\n",
    "notFound_str.find(';')"
   ]
  },
  {
   "cell_type": "code",
   "execution_count": 85,
   "metadata": {},
   "outputs": [
    {
     "data": {
      "text/plain": [
       "2"
      ]
     },
     "execution_count": 85,
     "metadata": {},
     "output_type": "execute_result"
    }
   ],
   "source": [
    "# 문자 위치 알려주기 (index) (여러개가 존재하는 경우 처음으로 발견된 index 리턴)\n",
    "index_str = 'hello world this is su'\n",
    "index_str.index('l')"
   ]
  },
  {
   "cell_type": "code",
   "execution_count": 86,
   "metadata": {},
   "outputs": [
    {
     "ename": "ValueError",
     "evalue": "substring not found",
     "output_type": "error",
     "traceback": [
      "\u001b[1;31m---------------------------------------------------------------------------\u001b[0m",
      "\u001b[1;31mValueError\u001b[0m                                Traceback (most recent call last)",
      "\u001b[1;32m<ipython-input-86-194ba85b81f6>\u001b[0m in \u001b[0;36m<module>\u001b[1;34m\u001b[0m\n\u001b[0;32m      1\u001b[0m \u001b[1;31m# 존재하지 않는 문자의 경우 (index) --> 오류 출력\u001b[0m\u001b[1;33m\u001b[0m\u001b[1;33m\u001b[0m\u001b[1;33m\u001b[0m\u001b[0m\n\u001b[0;32m      2\u001b[0m \u001b[0mnotIndex_str\u001b[0m \u001b[1;33m=\u001b[0m \u001b[1;34m'hello world this is su'\u001b[0m\u001b[1;33m\u001b[0m\u001b[1;33m\u001b[0m\u001b[0m\n\u001b[1;32m----> 3\u001b[1;33m \u001b[0mnotIndex_str\u001b[0m\u001b[1;33m.\u001b[0m\u001b[0mindex\u001b[0m\u001b[1;33m(\u001b[0m\u001b[1;34m';'\u001b[0m\u001b[1;33m)\u001b[0m\u001b[1;33m\u001b[0m\u001b[1;33m\u001b[0m\u001b[0m\n\u001b[0m",
      "\u001b[1;31mValueError\u001b[0m: substring not found"
     ]
    }
   ],
   "source": [
    "# 존재하지 않는 문자의 경우 (index) --> 오류 출력\n",
    "notIndex_str = 'hello world this is su'\n",
    "notIndex_str.index(';')"
   ]
  },
  {
   "cell_type": "code",
   "execution_count": 87,
   "metadata": {},
   "outputs": [
    {
     "data": {
      "text/plain": [
       "'a,b,c,d'"
      ]
     },
     "execution_count": 87,
     "metadata": {},
     "output_type": "execute_result"
    }
   ],
   "source": [
    "# 문자열 삽입\n",
    "\",\".join('abcd')"
   ]
  },
  {
   "cell_type": "code",
   "execution_count": 52,
   "metadata": {},
   "outputs": [
    {
     "name": "stdout",
     "output_type": "stream",
     "text": [
      "helloworld HELLOWORLD\n"
     ]
    }
   ],
   "source": [
    "# 문자열을 대문자로 변경\n",
    "# 기존의 요소에는 반영되지 않음\n",
    "lowercase_greeting = 'helloworld'\n",
    "print(lowercase_greeting, lowercase_greeting.upper())"
   ]
  },
  {
   "cell_type": "code",
   "execution_count": 53,
   "metadata": {},
   "outputs": [
    {
     "name": "stdout",
     "output_type": "stream",
     "text": [
      "HELLOWORLD helloworld\n"
     ]
    }
   ],
   "source": [
    "# 문자열을 소문자로 변경\n",
    "# 기존의 요소에는 반영되지 않음\n",
    "uppercase_greeting = 'HELLOWORLD'\n",
    "print(uppercase_greeting, uppercase_greeting.lower())"
   ]
  },
  {
   "cell_type": "code",
   "execution_count": 62,
   "metadata": {},
   "outputs": [
    {
     "name": "stdout",
     "output_type": "stream",
     "text": [
      "hello \n",
      " hello \n"
     ]
    }
   ],
   "source": [
    "# 문자열 왼쪽 공백 지우기 (lstrip)\n",
    "left_blank = \" hello \"\n",
    "print(left_blank.lstrip())\n",
    "print(left_blank)"
   ]
  },
  {
   "cell_type": "code",
   "execution_count": 72,
   "metadata": {},
   "outputs": [
    {
     "name": "stdout",
     "output_type": "stream",
     "text": [
      "hello      \n",
      "hello\n"
     ]
    }
   ],
   "source": [
    "# 문자열 오른쪽 공백 지우기 (rstrip)\n",
    "# drag 하면 확인 가능\n",
    "right_blank = \"hello      \"\n",
    "print(right_blank)\n",
    "print(right_blank.rstrip())\n"
   ]
  },
  {
   "cell_type": "code",
   "execution_count": 76,
   "metadata": {},
   "outputs": [
    {
     "name": "stdout",
     "output_type": "stream",
     "text": [
      "hello\n",
      "      hello       \n"
     ]
    }
   ],
   "source": [
    "# 문자열 양쪽 공백 지우기 (strip)\n",
    "both_blank = \"      hello       \"\n",
    "print(both_blank.strip())\n",
    "print(both_blank)"
   ]
  },
  {
   "cell_type": "code",
   "execution_count": 78,
   "metadata": {},
   "outputs": [
    {
     "name": "stdout",
     "output_type": "stream",
     "text": [
      "Hello World This is Yongsu\n",
      "Hello World This is SU\n"
     ]
    }
   ],
   "source": [
    "# 문자열 변경하기 (replace)\n",
    "# 내부적으로 새로운 문자열을 리턴한다\n",
    "# replace(변경하고 싶은 문자열, 새 문자열)\n",
    "new_str = \"Hello World This is SU\"\n",
    "print(new_str.replace(\"SU\", \"Yongsu\"))\n",
    "print(new_str)"
   ]
  },
  {
   "cell_type": "code",
   "execution_count": 79,
   "metadata": {},
   "outputs": [
    {
     "name": "stdout",
     "output_type": "stream",
     "text": [
      "['hello', 'world', 'this', 'is', 'su']\n",
      "hello world this is su\n"
     ]
    }
   ],
   "source": [
    "# 문자열을 특정 문자를 기준으로 쪼갠다 (특정 문자는 포함하지 않는다)\n",
    "# split(문자) --> 괄호 안에 아무 값도 넣어 주지 않는 경우 공백 기준으로 문자열을 쪼갠다\n",
    "# split() 함수가 리턴하는 값이 리스트인데 이것은 다음 단원에서 볼 것이지 신경 쓰지 않아도 된다.\n",
    "split_str = \"hello world this is su\"\n",
    "print(split_str.split())\n",
    "print(split_str)\n"
   ]
  },
  {
   "cell_type": "markdown",
   "metadata": {},
   "source": [
    "### String Formatting"
   ]
  },
  {
   "cell_type": "markdown",
   "metadata": {},
   "source": [
    "문자열을 출력하는 프로그램을 작성했다고 생각해보자. 프로그래머는 인간이 하는 행동 중에 반복되는 행동을 프로그래밍 언어를 사용해 자동화 시키는 사람이다. \n",
    "\n",
    "`저는 15살 입니다.`\n",
    "<br />\n",
    "이후 3 년 이라는 시간이 지나고\n",
    "<br />\n",
    "`저는 18살 입니다`\n",
    "<br />\n",
    "위 두 문자열을 모두 같지만 15라는 숫자와 18이라는 숫자만 다르다는 것을 확인할 수 있다. 이렇게 문자열 안의 특정한 값으 변경해야 할 경우가 있을때 이것을 가능하게 해주는 것이 바로 `String Formatting`이라 칭한다.\n",
    "<br />\n",
    "쉽게 말해 `String Formatting`은 문자열 안에 어떤 값을 삽입하는 방법이다."
   ]
  },
  {
   "cell_type": "code",
   "execution_count": 88,
   "metadata": {},
   "outputs": [
    {
     "name": "stdout",
     "output_type": "stream",
     "text": [
      "I am 15\n"
     ]
    }
   ],
   "source": [
    "# 1. 문자열에 숫자를 바로 대입하는 경우\n",
    "# 거의 사용하지 않음 (이런게 있구나 알고만 있자)\n",
    "print(\"I am %d\" %15)"
   ]
  },
  {
   "cell_type": "code",
   "execution_count": 89,
   "metadata": {
    "scrolled": true
   },
   "outputs": [
    {
     "name": "stdout",
     "output_type": "stream",
     "text": [
      "I am Yongsu Jeong\n"
     ]
    }
   ],
   "source": [
    "# 2. 문자열에 문자를 바로 대입하는 경우\n",
    "# 거의 사용하지 않음 (이런게 있구나 알고만 있자)\n",
    "print(\"I am %s\" % \"Yongsu Jeong\")"
   ]
  },
  {
   "cell_type": "code",
   "execution_count": 91,
   "metadata": {},
   "outputs": [
    {
     "name": "stdout",
     "output_type": "stream",
     "text": [
      " I am 15\n"
     ]
    }
   ],
   "source": [
    "# 3. 숫자 값을 담고 있는 변수를 사용하는 경우\n",
    "age = 15\n",
    "print(\" I am %d\" %age)"
   ]
  },
  {
   "cell_type": "code",
   "execution_count": 93,
   "metadata": {},
   "outputs": [
    {
     "name": "stdout",
     "output_type": "stream",
     "text": [
      "Hello I am Yongsu Jeong and 15 years old\n"
     ]
    }
   ],
   "source": [
    "# 4. 두 개 이상의 값 넣기\n",
    "age = 15\n",
    "name = 'Yongsu Jeong'\n",
    "print(\"Hello I am %s and %d years old\" %(name, age))"
   ]
  },
  {
   "cell_type": "markdown",
   "metadata": {},
   "source": [
    "문자열 포맷 코드\n",
    "문자열 포매팅 예제에서는 대입해 넣는 자료형으로 정수와 문자열을 사용했으나 이 외에도 다양한 것을 대입할 수 있다. 문자열 포맷 코드로는 다음과 같은 것이 있다.\n",
    "\n",
    "코드\t설명\n",
    "- %s\t문자열(String)\n",
    "- %c\t문자 1개(character)\n",
    "- %d\t정수(Integer)\n",
    "- %f\t부동소수(floating-point)\n",
    "- %o\t8진수\n",
    "- %x\t16진수\n",
    "- %%\tLiteral % (문자 % 자체)"
   ]
  },
  {
   "cell_type": "code",
   "execution_count": 94,
   "metadata": {},
   "outputs": [
    {
     "name": "stdout",
     "output_type": "stream",
     "text": [
      "I am 18 years old\n",
      "PI is 3.14\n"
     ]
    }
   ],
   "source": [
    "# %s는 조금 독특하게 동작한다. 어떤 형태의 값이든 문자열으로 변환해 넣을 수 있다.\n",
    "print('I am %s years old' % 18)\n",
    "print('PI is %s' % 3.14)"
   ]
  },
  {
   "cell_type": "code",
   "execution_count": 95,
   "metadata": {},
   "outputs": [
    {
     "name": "stdout",
     "output_type": "stream",
     "text": [
      "100 %\n"
     ]
    }
   ],
   "source": [
    "# %를 적고 싶은 경우 %%를 이용해야한다\n",
    "print(\"%d %%\" % 100)"
   ]
  },
  {
   "cell_type": "code",
   "execution_count": 98,
   "metadata": {},
   "outputs": [
    {
     "name": "stdout",
     "output_type": "stream",
     "text": [
      "        hi\n"
     ]
    }
   ],
   "source": [
    "# %10s는 길이가 10인 공백을 출력하는데 사용할 수 있다\n",
    "print(\"%10s\" % \"hi\")"
   ]
  },
  {
   "cell_type": "code",
   "execution_count": 99,
   "metadata": {},
   "outputs": [
    {
     "name": "stdout",
     "output_type": "stream",
     "text": [
      "3.1424\n"
     ]
    }
   ],
   "source": [
    "# 소수점 표현하기\n",
    "# 소수점 네 번째 자리 까지만 출력\n",
    "print(\"%0.4f\" % 3.1424242)"
   ]
  },
  {
   "cell_type": "code",
   "execution_count": 100,
   "metadata": {},
   "outputs": [
    {
     "name": "stdout",
     "output_type": "stream",
     "text": [
      "    3.1241\n"
     ]
    }
   ],
   "source": [
    "# 소수점 네 번째 자리까지만 출력하지만 전체 길이를 10으로 만들고 싶은 경우\n",
    "print(\"%10.4f\" % 3.1241414)"
   ]
  },
  {
   "cell_type": "markdown",
   "metadata": {},
   "source": [
    "### format 함수를 사용한 String Formatting"
   ]
  },
  {
   "cell_type": "code",
   "execution_count": 101,
   "metadata": {},
   "outputs": [
    {
     "name": "stdout",
     "output_type": "stream",
     "text": [
      "I am 25\n"
     ]
    }
   ],
   "source": [
    "# 숫자를 바로 대입하기\n",
    "age = 25\n",
    "print(\"I am {0}\".format(age))"
   ]
  },
  {
   "cell_type": "code",
   "execution_count": 102,
   "metadata": {},
   "outputs": [
    {
     "name": "stdout",
     "output_type": "stream",
     "text": [
      "I am Yongsu Jeong\n"
     ]
    }
   ],
   "source": [
    "# 문자열 바로 대입하기\n",
    "name = \"Yongsu Jeong\"\n",
    "print(\"I am {0}\".format(name))"
   ]
  },
  {
   "cell_type": "code",
   "execution_count": 104,
   "metadata": {},
   "outputs": [
    {
     "name": "stdout",
     "output_type": "stream",
     "text": [
      "I am Yongsu Jeong and 25 years old\n",
      "I am 25 and Yongsu Jeong years old\n"
     ]
    }
   ],
   "source": [
    "# 문자 + 숫자를 대입하기\n",
    "print(\"I am {0} and {1} years old\".format(name, age))\n",
    "\n",
    "# 순서를 변경하면 반대로 된다\n",
    "print('I am {0} and {1} years old'.format(age, name))\n",
    "\n",
    "# 2개 이상의 값을 넣은 경우 문자열의 {0}, {1}과 같은 인덱스 항목이 format 함수의\n",
    "# 입력값 순서에 맞게 바뀐다. 위 두번째 경우 age, name의 순서를 변경하니 변경된 상태로\n",
    "# 출력되는 것을 확인할 수 있다."
   ]
  },
  {
   "cell_type": "code",
   "execution_count": 105,
   "metadata": {
    "scrolled": true
   },
   "outputs": [
    {
     "name": "stdout",
     "output_type": "stream",
     "text": [
      "I am Yongsu and 25 years old\n"
     ]
    }
   ],
   "source": [
    "# 인덱스 대신에 이름으로 넣고 싶은 경우\n",
    "print(\"I am {name} and {age} years old\".format(name=\"Yongsu\", age=25))"
   ]
  },
  {
   "cell_type": "code",
   "execution_count": 113,
   "metadata": {},
   "outputs": [
    {
     "name": "stdout",
     "output_type": "stream",
     "text": [
      "hi        \n"
     ]
    }
   ],
   "source": [
    "# 왼쪽 정렬 - 문자열 총 자리수를 10자리로\n",
    "print(\"{0:<10}\".format('hi'))"
   ]
  },
  {
   "cell_type": "code",
   "execution_count": 114,
   "metadata": {},
   "outputs": [
    {
     "name": "stdout",
     "output_type": "stream",
     "text": [
      "        hi\n"
     ]
    }
   ],
   "source": [
    "# 오른쪽 정렬 - 문자열 총 자리수를 10자리로\n",
    "print(\"{0:>10}\".format('hi'))"
   ]
  },
  {
   "cell_type": "code",
   "execution_count": 115,
   "metadata": {},
   "outputs": [
    {
     "name": "stdout",
     "output_type": "stream",
     "text": [
      "    hi    \n"
     ]
    }
   ],
   "source": [
    "# 가운데 정렬 - 문자열 총 자릴수 10자리\n",
    "print(\"{0:^10}\".format('hi'))"
   ]
  },
  {
   "cell_type": "markdown",
   "metadata": {},
   "source": [
    "### f String Formatting\n",
    "- 파이썬 3.6 버전부터는 f String Formatting 기능을 사용할 수 있다. 3.6 미만 버전에서는 사용할 수 없는 기능이다."
   ]
  },
  {
   "cell_type": "code",
   "execution_count": 116,
   "metadata": {},
   "outputs": [
    {
     "name": "stdout",
     "output_type": "stream",
     "text": [
      "My name is Yongsu and I am 25 years old\n"
     ]
    }
   ],
   "source": [
    "name = 'Yongsu'\n",
    "age = 25\n",
    "print(f'My name is {name} and I am {age} years old')"
   ]
  },
  {
   "cell_type": "code",
   "execution_count": 117,
   "metadata": {},
   "outputs": [
    {
     "name": "stdout",
     "output_type": "stream",
     "text": [
      "I am 26 years old\n"
     ]
    }
   ],
   "source": [
    "age = 25\n",
    "print(f'I am {age + 1} years old')"
   ]
  },
  {
   "cell_type": "code",
   "execution_count": 125,
   "metadata": {},
   "outputs": [
    {
     "name": "stdout",
     "output_type": "stream",
     "text": [
      "hi        \n",
      "        hi\n",
      "    hi    \n",
      "====hi====\n",
      "hi!!!!!!!!\n",
      "3.1414\n",
      "    3.1414\n",
      "{ and }\n"
     ]
    }
   ],
   "source": [
    "# 왼쪽 정렬\n",
    "print(f'{\"hi\":<10}')\n",
    "# 오른쪽 정렬\n",
    "print(f'{\"hi\":>10}')\n",
    "# 가운데 정렬\n",
    "print(f'{\"hi\":^10}')\n",
    "\n",
    "# 공백 채우기\n",
    "# 가운데 정렬 + '=' 문자로 공백 채우기\n",
    "print(f'{\"hi\":=^10}')\n",
    "# 왼쪽 정렬 + '!' 문자로 공백 채우기\n",
    "print(f'{\"hi\":!<10}')\n",
    "\n",
    "# 소수점 표현\n",
    "a = 3.14141421421412\n",
    "# 소수점 4자리까지만\n",
    "print(f'{a:0.4f}')\n",
    "# 소수점 4자리까지만 + 자리수 10자리로\n",
    "print(f'{a:10.4f}')\n",
    "\n",
    "# 문자열 내부에 중괄호({}) 를 표현하고 싶은 경우\n",
    "print(f'{{ and }}')"
   ]
  },
  {
   "cell_type": "code",
   "execution_count": 45,
   "metadata": {},
   "outputs": [
    {
     "name": "stdout",
     "output_type": "stream",
     "text": [
      "저의 이름은 상호 제가 좋아하는 과목은 영어 저의 키는 160\n"
     ]
    }
   ],
   "source": [
    "name = \"상호\"\n",
    "subject = \"영어\"\n",
    "height = 160\n",
    "print(\"저의 이름은\", name, \"제가 좋 아하는 과목은\", subject, \"저의 키는\", height)"
   ]
  },
  {
   "cell_type": "code",
   "execution_count": 46,
   "metadata": {},
   "outputs": [
    {
     "name": "stdout",
     "output_type": "stream",
     "text": [
      "저의 이름은 상호, 제가 좋아하는 과목은 영어 저의 키는 160\n"
     ]
    }
   ],
   "source": [
    "print(f\"저의 이름은 {name}, 제가 좋아하는 과목은 {subject} 저의 키는 {height}\")"
   ]
  },
  {
   "cell_type": "markdown",
   "metadata": {},
   "source": [
    "### Formatting with placeholders"
   ]
  },
  {
   "cell_type": "code",
   "execution_count": 48,
   "metadata": {},
   "outputs": [
    {
     "name": "stdout",
     "output_type": "stream",
     "text": [
      "나는 여기에 글자를 삽입하겠습니다. something \n"
     ]
    }
   ],
   "source": [
    "# 추천하지 않는 방법, 이런게 있구나 정도만\n",
    "print(\"나는 여기에 글자를 삽입하겠습니다. %s \" %'something')"
   ]
  },
  {
   "cell_type": "code",
   "execution_count": 50,
   "metadata": {},
   "outputs": [
    {
     "name": "stdout",
     "output_type": "stream",
     "text": [
      "여러 글자를 적는법 순서대로  작성해야 한다  알겠지? \n"
     ]
    }
   ],
   "source": [
    "print(\"여러 글자를 적는법 %s %s %s %s\" %('순서대로 ', '작성해야', '한다 ', '알겠지? '))"
   ]
  },
  {
   "cell_type": "markdown",
   "metadata": {},
   "source": [
    "### Format Conversion Methods"
   ]
  },
  {
   "cell_type": "code",
   "execution_count": 51,
   "metadata": {},
   "outputs": [
    {
     "name": "stdout",
     "output_type": "stream",
     "text": [
      "He said his name was Su\n"
     ]
    }
   ],
   "source": [
    "print('He said his name was %s' %'Su')"
   ]
  },
  {
   "cell_type": "code",
   "execution_count": 52,
   "metadata": {},
   "outputs": [
    {
     "name": "stdout",
     "output_type": "stream",
     "text": [
      "He said his name was 'Su'\n"
     ]
    }
   ],
   "source": [
    "print('He said his name was %r' %'Su')"
   ]
  },
  {
   "cell_type": "markdown",
   "metadata": {},
   "source": [
    "### Padding and Precision of Floating Point Numbers"
   ]
  },
  {
   "cell_type": "code",
   "execution_count": 58,
   "metadata": {},
   "outputs": [
    {
     "name": "stdout",
     "output_type": "stream",
     "text": [
      "소수: 13.14\n"
     ]
    }
   ],
   "source": [
    "# 소수점 2개\n",
    "print('소수: %5.2f' %(13.144))"
   ]
  },
  {
   "cell_type": "code",
   "execution_count": 59,
   "metadata": {},
   "outputs": [
    {
     "name": "stdout",
     "output_type": "stream",
     "text": [
      "소수: 13\n"
     ]
    }
   ],
   "source": [
    "# 소수점 0개\n",
    "print('소수: %1.0f' %(13.144))"
   ]
  },
  {
   "cell_type": "code",
   "execution_count": 60,
   "metadata": {},
   "outputs": [
    {
     "name": "stdout",
     "output_type": "stream",
     "text": [
      "소수: 13.144\n"
     ]
    }
   ],
   "source": [
    "# 소수점 3개\n",
    "print('소수: %5.3f' %(13.144))"
   ]
  },
  {
   "cell_type": "markdown",
   "metadata": {},
   "source": [
    "### Formatting with the .format () method"
   ]
  },
  {
   "cell_type": "code",
   "execution_count": 62,
   "metadata": {},
   "outputs": [
    {
     "name": "stdout",
     "output_type": "stream",
     "text": [
      "This is a string 요기요\n"
     ]
    }
   ],
   "source": [
    "print('This is a string {}'.format('요기요'))"
   ]
  },
  {
   "cell_type": "code",
   "execution_count": 63,
   "metadata": {},
   "outputs": [
    {
     "name": "stdout",
     "output_type": "stream",
     "text": [
      "This is a string 요기요 저기요 그래요\n"
     ]
    }
   ],
   "source": [
    "print('This is a string {} {} {}'.format('요기요', '저기요', '그래요'))"
   ]
  },
  {
   "cell_type": "code",
   "execution_count": 64,
   "metadata": {},
   "outputs": [
    {
     "name": "stdout",
     "output_type": "stream",
     "text": [
      "This is a string 그래요 저기요 요기요\n"
     ]
    }
   ],
   "source": [
    "print('This is a string {2} {1} {0}'.format('요기요', '저기요', '그래요'))"
   ]
  },
  {
   "cell_type": "code",
   "execution_count": 65,
   "metadata": {},
   "outputs": [
    {
     "name": "stdout",
     "output_type": "stream",
     "text": [
      "This is a string 요기요 그래요 저기요\n"
     ]
    }
   ],
   "source": [
    "print('This is a string {0} {2} {1}'.format('요기요', '저기요', '그래요'))"
   ]
  },
  {
   "cell_type": "code",
   "execution_count": 66,
   "metadata": {},
   "outputs": [
    {
     "name": "stdout",
     "output_type": "stream",
     "text": [
      "This is a string 요기요 그래요 저기요\n"
     ]
    }
   ],
   "source": [
    "print('This is a string {a} {c} {b}'.format(a = '요기요', b = '저기요', c = '그래요'))"
   ]
  },
  {
   "cell_type": "code",
   "execution_count": 68,
   "metadata": {},
   "outputs": [
    {
     "name": "stdout",
     "output_type": "stream",
     "text": [
      "Fruit    |\n"
     ]
    }
   ],
   "source": [
    "print('{0:8} |'.format('Fruit'))"
   ]
  },
  {
   "cell_type": "code",
   "execution_count": 69,
   "metadata": {},
   "outputs": [
    {
     "name": "stdout",
     "output_type": "stream",
     "text": [
      "Apples   |       3.0\n"
     ]
    }
   ],
   "source": [
    "print('{0:8} | {1:9}'.format('Apples', 3.))"
   ]
  },
  {
   "cell_type": "markdown",
   "metadata": {},
   "source": [
    "### Formatted String Literals (f-strings)"
   ]
  },
  {
   "cell_type": "code",
   "execution_count": 70,
   "metadata": {},
   "outputs": [
    {
     "name": "stdout",
     "output_type": "stream",
     "text": [
      "My name is Yongsu\n"
     ]
    }
   ],
   "source": [
    "name = 'Yongsu'\n",
    "print(f'My name is {name}')"
   ]
  },
  {
   "cell_type": "code",
   "execution_count": 71,
   "metadata": {},
   "outputs": [
    {
     "name": "stdout",
     "output_type": "stream",
     "text": [
      "My name is 'Yongsu'\n"
     ]
    }
   ],
   "source": [
    "print(f\"My name is {name!r}\")"
   ]
  },
  {
   "cell_type": "code",
   "execution_count": 74,
   "metadata": {},
   "outputs": [
    {
     "name": "stdout",
     "output_type": "stream",
     "text": [
      "10자리로 만들어보자:     23.123\n"
     ]
    }
   ],
   "source": [
    "# {value: {길이}.{소숫점자리수}}\n",
    "num =23.123456\n",
    "print(f\"10자리로 만들어보자: {num:{10}.{5}}\")"
   ]
  }
 ],
 "metadata": {
  "kernelspec": {
   "display_name": "Python 3",
   "language": "python",
   "name": "python3"
  },
  "language_info": {
   "codemirror_mode": {
    "name": "ipython",
    "version": 3
   },
   "file_extension": ".py",
   "mimetype": "text/x-python",
   "name": "python",
   "nbconvert_exporter": "python",
   "pygments_lexer": "ipython3",
   "version": "3.8.5"
  }
 },
 "nbformat": 4,
 "nbformat_minor": 4
}
