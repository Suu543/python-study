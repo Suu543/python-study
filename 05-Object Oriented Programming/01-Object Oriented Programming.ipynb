{
 "cells": [
  {
   "cell_type": "markdown",
   "metadata": {},
   "source": [
    "# Object Oriented Programming\n",
    "\n",
    "`Object Oriented Programming (객체지향프로그래밍)`은 프로그래머가 자기만의 `object`를 생성할 수 있게 해준다. (`object`는 `methods + attributes` 구성되어 있다)\n",
    "\n",
    "`Object`를 쉽게 이해하려면, `string, list, dictionary` 등의 타입으로 정의한 값을 변수에 담았을 때를 생각하면 된다. 이렇게 변수에 담긴 데이터의 타입에 따라서 `.method_name()`에 따라서 내부적으로 제공하는 기능을 사용할 수 있다. \n",
    "\n",
    "문자열로 예를 들면,\n",
    "아래와 같이 world를 yongsu로 변경하는 것을 생각할 수 있다.\n",
    "```\n",
    "str_type_data = \"hello world\"\n",
    "str_type_data.replace(\"world\", \"yongsu\");\n",
    "```\n",
    "\n",
    "`OOP`는 우리가 조금 더 반복적이고 구조화된 코드를 작성하게 해준다.\n",
    "\n",
    "이번 회차에서 배울 내용은 다음과 같다.\n",
    "\n",
    "- Objects\n",
    "- Using the `class` keyword\n",
    "- Creating class attributes\n",
    "- Creating methods in a class\n",
    "- Learning about Inheritance(상속)\n",
    "- Learning about Polymorphism(다형성)\n",
    "- Learning about Special Methods for Classes(클래스에 사용할 수 있는 특별한 함수)"
   ]
  },
  {
   "cell_type": "code",
   "execution_count": 2,
   "metadata": {},
   "outputs": [
    {
     "data": {
      "text/plain": [
       "1"
      ]
     },
     "execution_count": 2,
     "metadata": {},
     "output_type": "execute_result"
    }
   ],
   "source": [
    "# 기존에 Python에서 제공하는 list 클래스를 한 번 보자\n",
    "lst = [1, 2, 3]\n",
    "\n",
    "# lst 변수에는 list 데이터 타입의 데이터가 담겨있다. \n",
    "# 다시 말해서 LIst class의 데이터가 담겨있기 때문에 List class의 메소드인 \n",
    "# count 메소드를 사용할 수 있다.\n",
    "lst.count(1)"
   ]
  },
  {
   "cell_type": "markdown",
   "metadata": {},
   "source": [
    "#### Python 제공하는 데이터 타입의 Class를 확인해보자\n",
    "- Feat. 파이썬에서 모든 것은 다 `Object`이다."
   ]
  },
  {
   "cell_type": "code",
   "execution_count": 3,
   "metadata": {},
   "outputs": [
    {
     "name": "stdout",
     "output_type": "stream",
     "text": [
      "<class 'int'>\n",
      "<class 'float'>\n",
      "<class 'list'>\n",
      "<class 'str'>\n",
      "<class 'dict'>\n",
      "<class 'tuple'>\n",
      "<class 'set'>\n"
     ]
    }
   ],
   "source": [
    "print(type(1))\n",
    "print(type(1.5))\n",
    "print(type([1, 2, 3]))\n",
    "print(type(\"Hello\"))\n",
    "print(type({}))\n",
    "print(type(()))\n",
    "print(type(set()))"
   ]
  },
  {
   "cell_type": "markdown",
   "metadata": {},
   "source": [
    "# class\n",
    "파이썬에서 `Object`를 정의할 때는 `class`라는 키워드를 사용한다. `class`는 일종의 청사진이라 생각하면 이해가 쉬울 것이다. 예를 들면, 붕어빵 틀을 생각하면 쉽게 이해가 될 것이다. 붕어빵 틀을 `class or blueprint(청사진)`이고 이 틀로 만든 붕어빵을 `instance`로 생각할 수 있다. \n",
    "\n",
    "실제 예시로 생각하면, `list`라는 클래스로 만든 `instance`를 앞서 본 `lst` 변수에 담긴 데이터로 생각할 수 있다."
   ]
  },
  {
   "cell_type": "code",
   "execution_count": 4,
   "metadata": {},
   "outputs": [
    {
     "name": "stdout",
     "output_type": "stream",
     "text": [
      "<class '__main__.Sample'>\n"
     ]
    }
   ],
   "source": [
    "# Sample 이라는 클래스를 생성해보자 (클래스는 Object이고 청사진이다)\n",
    "class Sample:\n",
    "    pass\n",
    "\n",
    "# Sample 이라는 클래스(틀)을 이용해 인스턴스를 만들어보자\n",
    "x = Sample()\n",
    "\n",
    "print(type(x))"
   ]
  },
  {
   "cell_type": "markdown",
   "metadata": {},
   "source": [
    "#### 통용적으로 class를 정의할 때는 첫 글자를 대문자를 사용한다.\n",
    "1. 첫 글자를 대문자로 `class`를 정의한다. 이렇게 생성한 `class`는 `object`로 간주한다.\n",
    "2. 생성한 클래스를 이용해 `instance`를 하나 생성한다. 이 과정을 \n",
    "`(instantiate the class)`라 칭한다.\n",
    "3. `class`는 크게 두 종류로 구성된다. `method` and `attribute`\n",
    "- `attribute`는 생성한 `class` 혹은 `object`의 특징이다. 인간으로 예를 들면, 키, 인종, 성별 등이 될 수 있다.\n",
    "- `method`는 생성한 `class` 혹은 `object`가 할 수 있는 어떤 것이다. 인간으로 예를 들면, 달리기, 소화시키기, 생각하기 등이 될 수 있다."
   ]
  },
  {
   "cell_type": "code",
   "execution_count": 10,
   "metadata": {},
   "outputs": [
    {
     "name": "stdout",
     "output_type": "stream",
     "text": [
      "<__main__.Human object at 0x000001939BD07340>\n",
      "<class '__main__.Human'>\n",
      "키: 182 성별: male 인종: asian\n"
     ]
    }
   ],
   "source": [
    "# 예시\n",
    "# Human 클래스 생성\n",
    "class Human:\n",
    "    def __init__(self, height, gender, race):\n",
    "        self.height = height\n",
    "        self.gender = gender\n",
    "        self.race = race\n",
    "        \n",
    "yongsu = Human(height = 182, gender = 'male', race = 'asian')\n",
    "print(yongsu)\n",
    "print(type(yongsu))\n",
    "print(f'키: {yongsu.height} 성별: {yongsu.gender} 인종: {yongsu.race}')"
   ]
  },
  {
   "cell_type": "markdown",
   "metadata": {},
   "source": [
    "### Let's break down what we have done above\n",
    "1. `__init__` \n",
    "- `attributes`를 초기화할 때 사용한다.\n",
    "2. `def __init__(self, height, gender, race)` - `attributes`\n",
    "- `attributes`에서 `self`는 자기 자신을 가리킨다 `self.height = height`이 의미하는 바는, `Human` 클래스를 이용해 `instantiate`할 때 `attribute` 값을 인자로 입력받은 `height`로 정의함을 의미한다.\n",
    "\n",
    "- `object`를 생성할 때 자동으로 `def __init__` 함수가 호출되면서 내부에 `attributes`를 정의한다. `__init__`함수의 첫 번째 인자인 `self`는 생성하는 시점의 `the instance object`를 참조(reference)한다. `Dictionary`를 생각하면 쉽게 이해할 수 있을 것이다.\n",
    "\n",
    "```\n",
    "a = {}\n",
    "a['name'] = 'hello'\n",
    "```\n",
    "`self`는 위 코드에서 `a[]` 역할을 하고, `self.height`은 `a['height']`코드와 같은 역할을 한다."
   ]
  },
  {
   "cell_type": "code",
   "execution_count": 13,
   "metadata": {},
   "outputs": [
    {
     "name": "stdout",
     "output_type": "stream",
     "text": [
      "182\n"
     ]
    }
   ],
   "source": [
    "# attribute는 호출할 때는 함수를 호출하는 것 처럼 소괄호()를 사용하지 않아도된다.\n",
    "print(yongsu.height)"
   ]
  },
  {
   "cell_type": "markdown",
   "metadata": {},
   "source": [
    "# Class object attribute\n",
    "### class 만의 attribute를 생성할 수 있다\n",
    "\n",
    "- `Human` 클래스를 이용해 생성한 어떤 `instance`라도 상관없이 모두 같은 `attribute`값을 가지도록 할 수 있다.\n",
    "- `__init__`\n",
    "- `class object attribute`는 `__init__` 클래스 `object` 외부에 정의한다"
   ]
  },
  {
   "cell_type": "code",
   "execution_count": 17,
   "metadata": {},
   "outputs": [],
   "source": [
    "class Human:\n",
    "    \n",
    "    species = \"mammals\"\n",
    "    \n",
    "    def __init__(self, height, gender, race):\n",
    "        self.height = height\n",
    "        self.gender = gender\n",
    "        self.race = race"
   ]
  },
  {
   "cell_type": "code",
   "execution_count": 18,
   "metadata": {},
   "outputs": [
    {
     "name": "stdout",
     "output_type": "stream",
     "text": [
      "인간 종:  mammals\n"
     ]
    }
   ],
   "source": [
    "yongsu = Human(182, \"male\", \"asian\")\n",
    "print(\"인간 종: \", yongsu.species)"
   ]
  },
  {
   "cell_type": "markdown",
   "metadata": {},
   "source": [
    "# Methods\n",
    "- `Methods`는 `Class` 내부에 정의하는 `Functions(함수)`다."
   ]
  },
  {
   "cell_type": "code",
   "execution_count": 2,
   "metadata": {},
   "outputs": [
    {
     "name": "stdout",
     "output_type": "stream",
     "text": [
      "<class 'str'>\n"
     ]
    },
    {
     "data": {
      "text/plain": [
       "'Hello Yongsu'"
      ]
     },
     "execution_count": 2,
     "metadata": {},
     "output_type": "execute_result"
    }
   ],
   "source": [
    "a = \"Hello World\"\n",
    "print(type(a))\n",
    "a.replace(\"World\", \"Yongsu\")"
   ]
  },
  {
   "cell_type": "code",
   "execution_count": 3,
   "metadata": {},
   "outputs": [],
   "source": [
    "class Su_String:\n",
    "    \n",
    "    \n",
    "    # 메소드 (method)\n",
    "    def __init__(self, string):\n",
    "        # 어트리뷰트 (attribute)\n",
    "        self.string = string\n",
    "        \n",
    "    def print_str(self):\n",
    "        print(self.string)"
   ]
  },
  {
   "cell_type": "code",
   "execution_count": 4,
   "metadata": {},
   "outputs": [],
   "source": [
    "a = Su_String(\"Hello\")"
   ]
  },
  {
   "cell_type": "code",
   "execution_count": 6,
   "metadata": {},
   "outputs": [
    {
     "name": "stdout",
     "output_type": "stream",
     "text": [
      "<class '__main__.Su_String'>\n",
      "Hello\n"
     ]
    }
   ],
   "source": []
  },
  {
   "cell_type": "code",
   "execution_count": null,
   "metadata": {},
   "outputs": [],
   "source": []
  }
 ],
 "metadata": {
  "kernelspec": {
   "display_name": "Python 3",
   "language": "python",
   "name": "python3"
  },
  "language_info": {
   "codemirror_mode": {
    "name": "ipython",
    "version": 3
   },
   "file_extension": ".py",
   "mimetype": "text/x-python",
   "name": "python",
   "nbconvert_exporter": "python",
   "pygments_lexer": "ipython3",
   "version": "3.8.5"
  }
 },
 "nbformat": 4,
 "nbformat_minor": 4
}
