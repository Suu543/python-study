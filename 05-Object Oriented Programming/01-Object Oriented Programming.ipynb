{
 "cells": [
  {
   "cell_type": "markdown",
   "metadata": {},
   "source": [
    "# Object Oriented Programming\n",
    "\n",
    "`Object Oriented Programming (객체지향프로그래밍)`은 프로그래머가 자기만의 `object`를 생성할 수 있게 해준다. (`object`는 `methods + attributes` 구성되어 있다)\n",
    "\n",
    "`Object`를 쉽게 이해하려면, `string, list, dictionary` 등의 타입으로 정의한 값을 변수에 담았을 때를 생각하면 된다. 이렇게 변수에 담긴 데이터의 타입에 따라서 `element.method_name()`에 따라서 내부적으로 제공하는 기능을 사용할 수 있다. \n",
    "\n",
    "문자열로 예를 들면,\n",
    "replace 메소드를 이용해 world를 yongsu로 변경하는 것을 생각할 수 있다.\n",
    "```\n",
    "str_type_data = \"hello world\"\n",
    "str_type_data.replace(\"world\", \"yongsu\");\n",
    "```\n",
    "\n",
    "`OOP`는 재사용 가능한 구조화된 코드를 작성하게 해준다.\n",
    "\n",
    "이번 회차에서 배울 내용은 다음과 같다.\n",
    "\n",
    "- Objects\n",
    "- Using the `class` keyword\n",
    "- Creating class attributes\n",
    "- Creating methods in a class\n",
    "- Learning about Inheritance(상속)\n",
    "- Learning about Polymorphism(다형성)\n",
    "- Learning about Special Methods for Classes(클래스에 사용할 수 있는 특별한 함수)"
   ]
  },
  {
   "cell_type": "code",
   "execution_count": 2,
   "metadata": {},
   "outputs": [
    {
     "data": {
      "text/plain": [
       "list"
      ]
     },
     "execution_count": 2,
     "metadata": {},
     "output_type": "execute_result"
    }
   ],
   "source": [
    "# test_list 변수에 담긴 값은 list 타입이다.\n",
    "test_list = [1, 2, 3]\n",
    "type(test_list)"
   ]
  },
  {
   "cell_type": "code",
   "execution_count": 3,
   "metadata": {},
   "outputs": [
    {
     "data": {
      "text/plain": [
       "1"
      ]
     },
     "execution_count": 3,
     "metadata": {},
     "output_type": "execute_result"
    }
   ],
   "source": [
    "# list 클래스에는 count라는 메소드가 있기 때문에 바로 사용이 가능하다\n",
    "test_list.count(1)"
   ]
  },
  {
   "cell_type": "markdown",
   "metadata": {},
   "source": [
    "# Objects\n",
    "\n",
    "Python에서는 모든 것이 `object(객체)`다.\n",
    "아래와 같이 `type` 함수를 이용해 출력했을때 `<class 데이터타입>` 형태로 결과가 출력되는 것을 확인할 수 있다.\n",
    "\n",
    "어떻게 하면 나만의 `object(객체)`를 만들 수 있을까?\n",
    "나만의 `object(객체)` 혹은 `type`을 만들 때 이용하는 것이 바로 `class`이다."
   ]
  },
  {
   "cell_type": "code",
   "execution_count": 5,
   "metadata": {},
   "outputs": [
    {
     "name": "stdout",
     "output_type": "stream",
     "text": [
      "<class 'int'>\n",
      "<class 'float'>\n",
      "<class 'list'>\n",
      "<class 'str'>\n",
      "<class 'dict'>\n",
      "<class 'tuple'>\n",
      "<class 'set'>\n"
     ]
    }
   ],
   "source": [
    "print(type(1))\n",
    "print(type(1.5))\n",
    "print(type([1, 2, 3]))\n",
    "print(type(\"Hello\"))\n",
    "print(type({}))\n",
    "print(type(()))\n",
    "print(type(set()))"
   ]
  },
  {
   "cell_type": "markdown",
   "metadata": {},
   "source": [
    "# class\n",
    "파이썬에서 `Object`를 정의할 때는 `class`라는 키워드를 사용한다. `class`는 청사진이라 생각하면 이해가 쉬울 것이다. \n",
    "\n",
    "붕어빵 틀을 생각해 보자. 붕어빵 틀을 `class or blueprint(청사진)`이고 이 틀로 만든 붕어빵을 `instance`로 생각할 수 있다. \n",
    "\n",
    "`test_list`에 담긴 데이터는 `list`타입의 `instance`이기 때문에 `count`등과 같은 `list` 클래스에 정의된 메소드를 사용할 수 있다.\n",
    "\n",
    "`class` 생성 순서\n",
    "1. `class 클래스이름:` 형태로 정의한다.\n",
    "2. 변수를 선언하고 함수를 실행하듯이 클래스를 실행한다 `x  = 클래스이름()`\n",
    "3. 변수 type을 출력한다 `type(x)`\n",
    "4. x에 담긴 값은 `클래스이름` 클래스의 `instance`라 칭한다."
   ]
  },
  {
   "cell_type": "code",
   "execution_count": 6,
   "metadata": {},
   "outputs": [
    {
     "name": "stdout",
     "output_type": "stream",
     "text": [
      "<class '__main__.Sample'>\n"
     ]
    }
   ],
   "source": [
    "# 1. class 클래스이름:\n",
    "class Sample:\n",
    "    pass\n",
    "\n",
    "# 2. 변수를 선언하고 함수를 실행하듯이 클래스를 실행한다 `x  = 클래스이름()`\n",
    "x = Sample()\n",
    "\n",
    "# 3. 변수 type을 출력한다 `type(x)`\n",
    "print(type(x))"
   ]
  },
  {
   "cell_type": "markdown",
   "metadata": {},
   "source": [
    "# class 생성 규칙\n",
    "1. 첫 글자를 대문자로 `class`를 정의한다. 이렇게 생성한 `class`는 `object`로 간주한다.\n",
    "2. 생성한 클래스를 이용해 `instance`를 하나 생성한다. 이 과정을 \n",
    "`(instantiate the class)`라 칭한다.\n",
    "3. `class`는 크게 두 부분으로 구성된다. `method` and `attribute`\n",
    "- `attribute`는 생성한 `class` 혹은 `object`의 특징이다. 인간으로 예를 들면, 키, 인종, 성별 등이 될 수 있다.\n",
    "- `method`는 생성한 `class` 혹은 `object`가 할 수 있는 어떤 것이다. 인간으로 예를 들면, 달리기, 소화시키기, 생각하기 등이 될 수 있다."
   ]
  },
  {
   "cell_type": "markdown",
   "metadata": {},
   "source": [
    "# Attributes\n",
    "class의 속성값을 생성할 때는,\n",
    "\n",
    "1. 클래스 내부에 `def __init__(self)` 메소드를 정의한다.\n",
    "2. `self.속성값`을 정의한다.\n",
    "3. 해당 클래스의 인스턴스를 생성할 때, 정의한 속성값에 해당하는 값을 함수의 인자 형태로 전달한다."
   ]
  },
  {
   "cell_type": "code",
   "execution_count": 9,
   "metadata": {},
   "outputs": [
    {
     "name": "stdout",
     "output_type": "stream",
     "text": [
      "<__main__.Human object at 0x000001D03F566C70>\n",
      "<class '__main__.Human'>\n",
      "키: 182 성별: male 인종: asian\n",
      "<__main__.Human object at 0x000001D03F566CD0>\n",
      "<class '__main__.Human'>\n",
      "키: 182 성별: male 인종: asian\n"
     ]
    }
   ],
   "source": [
    "# Human 클래스 생성\n",
    "class Human:\n",
    "    def __init__(self, height, gender, race):\n",
    "        self.height = height\n",
    "        self.gender = gender\n",
    "        self.race = race\n",
    "\n",
    "# Human 클래스의 instance 생성\n",
    "# 인자 할당 방법 1\n",
    "yongsu_one = Human(height = 182, gender = 'male', race = 'asian')\n",
    "\n",
    "# 인자 할당 방법 2\n",
    "yongsu_two = Human(182, 'male', 'asian')\n",
    "\n",
    "print(yongsu_one)\n",
    "print(type(yongsu_one))\n",
    "print(f'키: {yongsu_one.height} 성별: {yongsu_one.gender} 인종: {yongsu_one.race}')\n",
    "\n",
    "print(yongsu_two)\n",
    "print(type(yongsu_two))\n",
    "print(f'키: {yongsu_two.height} 성별: {yongsu_two.gender} 인종: {yongsu_two.race}')"
   ]
  },
  {
   "cell_type": "markdown",
   "metadata": {},
   "source": [
    "# Let's break down what we have done above\n",
    "\n",
    "1. Human 클래스를 이용해 instance를 생성하기 위해 함수 처럼 호출을 하면, 내부적으로 `__init__` 메소드를 실생시킨다.\n",
    "\n",
    "2. `__init__` 메소드가 실행될 때, 전달 받은 인자 값을 이용해 `instance`만의 속성값을 이용해 instance를 구성한다.\n",
    "\n",
    "3. `__init__` 함수의 첫번째 인자인 `self`는 자기 자신을 가리킨다. \n",
    "\n",
    "\n",
    "- `object`를 생성할 때 자동으로 `def __init__` 함수가 호출되면서 내부에 `attributes`를 정의한다. `__init__`함수의 첫 번째 인자인 `self`는 생성하는 시점의 `the instance object`를 참조(reference)한다. `Dictionary`를 생각하면 쉽게 이해할 수 있을 것이다.\n",
    "\n",
    "```\n",
    "a = {}\n",
    "a['name'] = 'hello'\n",
    "```\n",
    "`self`는 위 코드에서 `a[]` 역할을 하고, `self.height`은 `a['height']`코드와 같은 역할을 한다."
   ]
  },
  {
   "cell_type": "markdown",
   "metadata": {},
   "source": [
    "# Methods\n",
    "`Methods(메소드)`는 `Class` 내부에 정의된 `Functions(함수)`다. 메소드는 속성값의 연산에 사용된다. `A`라는 클래스를 `instantiate`해서 `test`라는 변수에 담았다면, `test`는 `A` 클래스에 정의한 모든 `메소드` 혹은 `함수`를 사용할 수 있다.\n",
    "\n",
    "메소드에서 `__init__` 내부에 정의된 `attributes(속성)`값을 이용하고 싶다면, `__init__`과 같이 첫 번째 인자로 `self`를 전달하고, `dictionary`를 이용하는 것처럼 접근하면 된다."
   ]
  },
  {
   "cell_type": "code",
   "execution_count": 10,
   "metadata": {},
   "outputs": [
    {
     "name": "stdout",
     "output_type": "stream",
     "text": [
      "<class 'str'>\n"
     ]
    },
    {
     "data": {
      "text/plain": [
       "'Hello Yongsu'"
      ]
     },
     "execution_count": 10,
     "metadata": {},
     "output_type": "execute_result"
    }
   ],
   "source": [
    "a = \"Hello World\"\n",
    "print(type(a))\n",
    "a.replace(\"World\", \"Yongsu\")"
   ]
  },
  {
   "cell_type": "code",
   "execution_count": 17,
   "metadata": {},
   "outputs": [
    {
     "name": "stdout",
     "output_type": "stream",
     "text": [
      "Radius is:  1\n",
      "Area is:  3.14\n",
      "Circumference is:  6.28\n"
     ]
    }
   ],
   "source": [
    "class Circle:\n",
    "    #  Circle 클래스의 Global Variable (self 키워드 없이 접근 가능)\n",
    "    PI = 3.14\n",
    "    \n",
    "    def __init__(self, radius = 1):\n",
    "        self.radius = radius\n",
    "        self.area = radius * radius * Circle.PI\n",
    "        \n",
    "    def setRadius(self, new_radius):\n",
    "        self.radius = new_radius\n",
    "        self.area = new_radius * new_radius * self.PI\n",
    "        \n",
    "    def getCircumference(self):\n",
    "        return self.radius * self.PI * 2\n",
    "    \n",
    "c = Circle()\n",
    "\n",
    "print('Radius is: ', c.radius)\n",
    "print('Area is: ', c.area)\n",
    "print('Circumference is: ', c.getCircumference())"
   ]
  },
  {
   "cell_type": "code",
   "execution_count": 91,
   "metadata": {},
   "outputs": [
    {
     "name": "stdout",
     "output_type": "stream",
     "text": [
      "Radius is:  2\n",
      "Area is:  12.56\n",
      "Circumference is:  12.56\n"
     ]
    }
   ],
   "source": [
    "c.setRadius(2)\n",
    "\n",
    "print('Radius is: ', c.radius)\n",
    "print('Area is: ', c.area)\n",
    "print('Circumference is: ', c.getCircumference())"
   ]
  },
  {
   "cell_type": "markdown",
   "metadata": {},
   "source": [
    "# Inheritance\n",
    "상속은 이미 정의된 클래스를 자신의 부모 클래스로 정의하는 방식이다. 장점은 코드의 재사용성과, 프로그램의 복잡함을 줄일 수 있다는 점이다.\n",
    "\n",
    "- The derived classes (descendants) 자손\n",
    "- The base classes (ancestors) 조상"
   ]
  },
  {
   "cell_type": "code",
   "execution_count": 95,
   "metadata": {},
   "outputs": [],
   "source": [
    "class Animal:\n",
    "    \n",
    "    def __init__(self):\n",
    "        print(\"Animal Created\")\n",
    "        \n",
    "    def whoAmI(self):\n",
    "        print(\"Animal\")\n",
    "        \n",
    "    def eat(self):\n",
    "        print(\"Animal: Eating\")\n",
    "        \n",
    "\n",
    "class Dog(Animal):\n",
    "    def __init__(self):\n",
    "        Animal.__init__(self)\n",
    "        print(\"Dog Created\")\n",
    "    \n",
    "    def whoAmI(self):\n",
    "        print(\"Dog\")\n",
    "    \n",
    "    def bark(self):\n",
    "        print(\"Woof\")"
   ]
  },
  {
   "cell_type": "code",
   "execution_count": 96,
   "metadata": {},
   "outputs": [
    {
     "name": "stdout",
     "output_type": "stream",
     "text": [
      "Animal Created\n",
      "Dog Created\n",
      "Dog\n",
      "Woof\n",
      "Animal: Eating\n",
      "Woof\n"
     ]
    }
   ],
   "source": [
    "d = Dog()\n",
    "d.whoAmI()\n",
    "d.bark()\n",
    "d.eat()\n",
    "d.bark()"
   ]
  },
  {
   "cell_type": "markdown",
   "metadata": {},
   "source": [
    "위 코드에는 `Animal and Dog` 클래스가 존재한다. \n",
    "- The base class (ancestor): Animal\n",
    "- The derived class (descendant): Dog\n",
    "\n",
    "`The derived class`가 `The base class`의 기능을 상속한 경우\n",
    "- eat 기능의 경우 Dog 클래스에는 존재하지 않기 때문에, 부모로 상속한 animal 클래스에 정의 된 것을 사용한다. \n",
    "\n",
    "`The derived class`가 `The base class`에 존재하는 변형한 경우\n",
    "- whoAmI 기능의 경우 Dog와 Animal 두 클래스에 모두 존재하기 때문에 자신에게 존재한다면 자신의 것을 사용한다."
   ]
  },
  {
   "cell_type": "markdown",
   "metadata": {},
   "source": [
    "# Polymorphism\n",
    "\n",
    "부모 자식의 관계에 있는 클래스가 각자 같은 이름의 클래스를 보유한 부모 클래스에 있는 메소드와, 자식 클래스에 있는 메소드의 이름이 같은 경우"
   ]
  },
  {
   "cell_type": "code",
   "execution_count": 98,
   "metadata": {},
   "outputs": [
    {
     "name": "stdout",
     "output_type": "stream",
     "text": [
      "james says Woof!\n",
      "cuty says Meow!\n"
     ]
    }
   ],
   "source": [
    "class Dog:\n",
    "    \n",
    "    def __init__(self, name):\n",
    "        self.name = name\n",
    "        \n",
    "    def speak(self):\n",
    "        return self.name + ' says Woof!'\n",
    "    \n",
    "class Cat:\n",
    "    \n",
    "    def __init__(self, name):\n",
    "        self.name = name\n",
    "        \n",
    "    def speak(self):\n",
    "        return self.name  + ' says Meow!'\n",
    "    \n",
    "james = Dog(\"james\")\n",
    "cuty = Cat(\"cuty\")\n",
    "\n",
    "print(james.speak())\n",
    "print(cuty.speak())"
   ]
  },
  {
   "cell_type": "code",
   "execution_count": 100,
   "metadata": {},
   "outputs": [
    {
     "name": "stdout",
     "output_type": "stream",
     "text": [
      "james says Woof!\n",
      "cuty says Meow!\n"
     ]
    }
   ],
   "source": [
    "# Dog 클래스의 speak 메소드와, Cat 클래스의 speak 메소든느 다른 주소를 참조하고 있다.\n",
    "for pet in [james, cuty]:\n",
    "    print(pet.speak())"
   ]
  },
  {
   "cell_type": "markdown",
   "metadata": {},
   "source": [
    "Dog 클래스와, Cat 클래스는 다른 객체 타입이지만, 같은 메커니즘을 가지고 있는 것을 확인할 수 있다. 이는 Abstact(추상화) 클래스와 Inheritance(상속)을 이용해 조금 더 재사용 성 있도록 구현할 수 있다.\n",
    "\n",
    "- Abstract(추상화) 클래스는 직접적으로 인스턴스가 생성되지 않고, 참조만 되는 클래스를 의미한다.\n",
    "\n",
    "예를 들면, Dog and Cat 클래스를 인스턴스 생성이 있지만, Animal 클래스는 인스턴스 생성의 목적이 아닌 오직 상속의 목적으로 사용한다."
   ]
  },
  {
   "cell_type": "code",
   "execution_count": 101,
   "metadata": {},
   "outputs": [
    {
     "name": "stdout",
     "output_type": "stream",
     "text": [
      "james says woof\n",
      "cuty says meow\n"
     ]
    }
   ],
   "source": [
    "class Animal:\n",
    "    def __init__(self, name):\n",
    "        self.name = name\n",
    "        \n",
    "    # Abstract method, defined by convention only\n",
    "    def speak(self):\n",
    "        raise NotImplementedError(\"Subclass must implement abstract method\")\n",
    "        # 동물로써 마땅히 가져야 할 기능\n",
    "        \n",
    "class Dog(Animal):\n",
    "    \n",
    "    def speak(self):\n",
    "        return self.name + ' says woof'\n",
    "    \n",
    "class Cat(Animal):\n",
    "    \n",
    "    def speak(self):\n",
    "        return self.name + ' says meow'\n",
    "    \n",
    "james = Dog(\"james\")\n",
    "cuty = Cat(\"cuty\")\n",
    "\n",
    "print(james.speak())\n",
    "print(cuty.speak())"
   ]
  },
  {
   "cell_type": "markdown",
   "metadata": {},
   "source": [
    "# Special Methods\n",
    "\n",
    "These special methods are defined by their use of underscores. They allow us to use Python specific functions on objects created through our class."
   ]
  },
  {
   "cell_type": "code",
   "execution_count": 103,
   "metadata": {},
   "outputs": [],
   "source": [
    "class Book:\n",
    "    def __init__(self, title, author, pages):\n",
    "        print('A book is created')\n",
    "        self.title = title\n",
    "        self.author = author\n",
    "        self.pages = pages\n",
    "        \n",
    "    def __str__(self):\n",
    "        return f\"Title: {self.title}, Author: {self.author}, Pages: {self.pages}\"\n",
    "    \n",
    "    def __len__(self):\n",
    "        return self.pages\n",
    "    \n",
    "    def __del__(self):\n",
    "        print(\"A book is destroyed\")\n"
   ]
  },
  {
   "cell_type": "code",
   "execution_count": 105,
   "metadata": {},
   "outputs": [
    {
     "name": "stdout",
     "output_type": "stream",
     "text": [
      "A book is created\n",
      "Title: Python, Author: SU, Pages: 150\n",
      "150\n",
      "A book is destroyed\n"
     ]
    },
    {
     "ename": "NameError",
     "evalue": "name 'book' is not defined",
     "output_type": "error",
     "traceback": [
      "\u001b[1;31m---------------------------------------------------------------------------\u001b[0m",
      "\u001b[1;31mNameError\u001b[0m                                 Traceback (most recent call last)",
      "\u001b[1;32m<ipython-input-105-57aaccea63b1>\u001b[0m in \u001b[0;36m<module>\u001b[1;34m\u001b[0m\n\u001b[0;32m      5\u001b[0m \u001b[0mprint\u001b[0m\u001b[1;33m(\u001b[0m\u001b[0mlen\u001b[0m\u001b[1;33m(\u001b[0m\u001b[0mbook\u001b[0m\u001b[1;33m)\u001b[0m\u001b[1;33m)\u001b[0m \u001b[1;31m#  __len__ 함수 호출됨\u001b[0m\u001b[1;33m\u001b[0m\u001b[1;33m\u001b[0m\u001b[0m\n\u001b[0;32m      6\u001b[0m \u001b[1;32mdel\u001b[0m \u001b[0mbook\u001b[0m \u001b[1;31m# __del__ 함수 호출됨\u001b[0m\u001b[1;33m\u001b[0m\u001b[1;33m\u001b[0m\u001b[0m\n\u001b[1;32m----> 7\u001b[1;33m \u001b[0mprint\u001b[0m\u001b[1;33m(\u001b[0m\u001b[0mbook\u001b[0m\u001b[1;33m)\u001b[0m\u001b[1;33m\u001b[0m\u001b[1;33m\u001b[0m\u001b[0m\n\u001b[0m",
      "\u001b[1;31mNameError\u001b[0m: name 'book' is not defined"
     ]
    }
   ],
   "source": [
    "book = Book(\"Python\", \"SU\", 150)\n",
    "\n",
    "# Speical Methods\n",
    "print(book) # __str__ 함수 호출됨\n",
    "print(len(book)) #  __len__ 함수 호출됨\n",
    "del book # __del__ 함수 호출됨\n",
    "print(book)"
   ]
  },
  {
   "cell_type": "code",
   "execution_count": null,
   "metadata": {},
   "outputs": [],
   "source": []
  }
 ],
 "metadata": {
  "kernelspec": {
   "display_name": "Python 3",
   "language": "python",
   "name": "python3"
  },
  "language_info": {
   "codemirror_mode": {
    "name": "ipython",
    "version": 3
   },
   "file_extension": ".py",
   "mimetype": "text/x-python",
   "name": "python",
   "nbconvert_exporter": "python",
   "pygments_lexer": "ipython3",
   "version": "3.8.5"
  }
 },
 "nbformat": 4,
 "nbformat_minor": 4
}
