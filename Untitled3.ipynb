{
 "cells": [
  {
   "cell_type": "markdown",
   "metadata": {},
   "source": [
    "# Comparison Operators\n",
    "\n",
    "- True or False"
   ]
  },
  {
   "cell_type": "code",
   "execution_count": 1,
   "metadata": {},
   "outputs": [
    {
     "name": "stdout",
     "output_type": "stream",
     "text": [
      "False\n"
     ]
    }
   ],
   "source": [
    "# 같다 == equal to\n",
    "a = 5\n",
    "b = 4\n",
    "print(a == b)"
   ]
  },
  {
   "cell_type": "code",
   "execution_count": 5,
   "metadata": {},
   "outputs": [
    {
     "name": "stdout",
     "output_type": "stream",
     "text": [
      "True\n",
      "True\n",
      "False\n",
      "True\n",
      "True\n"
     ]
    }
   ],
   "source": [
    "# 같지 않다 != not equal to\n",
    "print(a != b)\n",
    "# 크다 \n",
    "print(a > b)\n",
    "print(a < b)\n",
    "c = 5\n",
    "print(a >= c)\n",
    "print(a <= c)"
   ]
  },
  {
   "cell_type": "markdown",
   "metadata": {},
   "source": [
    "# Chained Comparison Operator"
   ]
  },
  {
   "cell_type": "code",
   "execution_count": 6,
   "metadata": {},
   "outputs": [
    {
     "data": {
      "text/plain": [
       "True"
      ]
     },
     "execution_count": 6,
     "metadata": {},
     "output_type": "execute_result"
    }
   ],
   "source": [
    "# A도 참이고 B도 참이고 C도 참이다 and\n",
    "# A가 참이거나 B가 참이거나    or\n",
    "1 < 2 < 3"
   ]
  },
  {
   "cell_type": "code",
   "execution_count": 7,
   "metadata": {},
   "outputs": [
    {
     "data": {
      "text/plain": [
       "True"
      ]
     },
     "execution_count": 7,
     "metadata": {},
     "output_type": "execute_result"
    }
   ],
   "source": [
    "1 < 2 and 2 < 3"
   ]
  },
  {
   "cell_type": "code",
   "execution_count": 8,
   "metadata": {},
   "outputs": [
    {
     "data": {
      "text/plain": [
       "True"
      ]
     },
     "execution_count": 8,
     "metadata": {},
     "output_type": "execute_result"
    }
   ],
   "source": [
    "1 < 3 > 2"
   ]
  },
  {
   "cell_type": "code",
   "execution_count": 9,
   "metadata": {},
   "outputs": [
    {
     "data": {
      "text/plain": [
       "True"
      ]
     },
     "execution_count": 9,
     "metadata": {},
     "output_type": "execute_result"
    }
   ],
   "source": [
    "1 == 2 or 2 < 3"
   ]
  },
  {
   "cell_type": "code",
   "execution_count": 10,
   "metadata": {},
   "outputs": [
    {
     "data": {
      "text/plain": [
       "True"
      ]
     },
     "execution_count": 10,
     "metadata": {},
     "output_type": "execute_result"
    }
   ],
   "source": [
    "1 == 1 or 100 == 1"
   ]
  },
  {
   "cell_type": "markdown",
   "metadata": {},
   "source": [
    "### if, elif, else"
   ]
  },
  {
   "cell_type": "code",
   "execution_count": 11,
   "metadata": {},
   "outputs": [
    {
     "name": "stdout",
     "output_type": "stream",
     "text": [
      "어떤 과일을 좋아하시나요: 사과\n",
      "사과를 좋아해\n"
     ]
    }
   ],
   "source": [
    "#만약 A가 좋아하는 음식이 사과라면, 나는 사과를 좋아해\n",
    "#                        포토\n",
    "#                        귤\n",
    "#                        감자\n",
    "A = input(\"어떤 과일을 좋아하시나요: \")\n",
    "\n",
    "if A == \"사과\":\n",
    "    print(\"사과를 좋아해\")\n",
    "elif A == \"포도\":\n",
    "    print(\"포도를 좋아해\")\n",
    "elif A == \"귤\":\n",
    "    print(\"귤을 좋아해\")\n",
    "else:\n",
    "    print(\"안좋아해\")"
   ]
  },
  {
   "cell_type": "code",
   "execution_count": 12,
   "metadata": {},
   "outputs": [
    {
     "ename": "SyntaxError",
     "evalue": "invalid syntax (<ipython-input-12-72f3737501ee>, line 33)",
     "output_type": "error",
     "traceback": [
      "\u001b[1;36m  File \u001b[1;32m\"<ipython-input-12-72f3737501ee>\"\u001b[1;36m, line \u001b[1;32m33\u001b[0m\n\u001b[1;33m    elif pos = \"바텀\":\u001b[0m\n\u001b[1;37m             ^\u001b[0m\n\u001b[1;31mSyntaxError\u001b[0m\u001b[1;31m:\u001b[0m invalid syntax\n"
     ]
    }
   ],
   "source": [
    "# Nested Conditional Statement\n",
    "# 탑 (가렌, 문도, 티모)\n",
    "# 미드 (아리, 럭스, 르블랑)\n",
    "# 바텀 (애쉬, 시비르, 이즈리얼)\n",
    "# 정글 (카직스, 샤코, 베이가)\n",
    "# 서폿 (질리언, 쓰레쉬, 유미)\n",
    "\n",
    "# 1. position - input을 이용해서 \n",
    "# 2. character - input을 이용해서 하고 싶은 캐릭터 입력\n",
    "# print(f\"나는야 {character} 장인\")\n",
    "# 1. 매직 넘버를 사용하지말자\n",
    "# 2. 조건문 사용시 리스트 대신에 평문을 사용하자 --> 협업 + 메모리 절약\n",
    "position = [\"탑\", \"미드\",\"바텀\", \"정글\", \"서폿\"]\n",
    "character_select = [\"가렌\", \"문도\", \"티모\", \n",
    "             \"아리\", \"럭스\", \"르블랑\", \n",
    "             \"애쉬\", \"시비르\", \"이즈리얼\", \n",
    "             \"카직스\" , \"샤코\", \"베이가\", \n",
    "             \"질리언\", \"쓰레쉬\", \"유미\"]\n",
    "\n",
    "pos = input(\"당신의 역할군을 선택해주세요 : \")\n",
    "char = input(\"당신의 캐릭터를 선택해주세요 : \")\n",
    "\n",
    "if pos == \"탑\" :\n",
    "    if char == \"가렌\" :\n",
    "        print(\"나는 가렌 장인\")\n",
    "    elif char == \"쓰레쉬\" :\n",
    "        print(\"나는 문도 장인\")\n",
    "    elif char == character_select[2] :\n",
    "        print(\"나는 티모\")\n",
    "    else:\n",
    "        print(\"존재 하지 않습니다\")\n",
    "        \n",
    "elif pos = \"바텀\":\n",
    "    if char == \"트위치\":\n",
    "        print(\"나는 트위치\")\n",
    "    elif char == \"문도박사\"\n",
    "        print(\"나는 문도박사\")\n",
    "    else:\n",
    "        print(\"존재 하지 않습니다\")\n",
    "    \n",
    "else:\n",
    "    print(\"존재하지 않는 포지션입니다.\")"
   ]
  },
  {
   "cell_type": "code",
   "execution_count": 15,
   "metadata": {},
   "outputs": [],
   "source": [
    "# objects\n",
    "# strings\n",
    "a = 'hello'\n",
    "a[0]\n",
    "a[:]\n",
    "# lists\n",
    "a = [1, 2, 3, 4, 5, 6, 7, 8, 9, 10]\n",
    "# tuples\n",
    "a = (1, 2, 3, 4, 5, 6, 7, 8, 9, 10)\n",
    "# dictionary\n",
    "a = {\n",
    "    \"name\": 1,\n",
    "    \"ggg\": \"hwllo\"\n",
    "}"
   ]
  },
  {
   "cell_type": "code",
   "execution_count": 17,
   "metadata": {},
   "outputs": [
    {
     "name": "stdout",
     "output_type": "stream",
     "text": [
      "H\n",
      "e\n",
      "l\n",
      "l\n",
      "o\n",
      " \n",
      "W\n",
      "o\n",
      "r\n",
      "l\n",
      "d\n"
     ]
    }
   ],
   "source": [
    "# string\n",
    "a = 'Hello World'\n",
    "\n",
    "str temporary = \"\"\n",
    "\n",
    "# for (int i = 0; i < len(a); i++) {\n",
    "#     temporary = a[i]\n",
    "# }\n",
    "\n",
    "for temporary_variable in a:\n",
    "    print(temporary_variable)   "
   ]
  },
  {
   "cell_type": "code",
   "execution_count": 18,
   "metadata": {},
   "outputs": [
    {
     "name": "stdout",
     "output_type": "stream",
     "text": [
      "1\n",
      "2\n",
      "3\n",
      "4\n",
      "5\n",
      "6\n",
      "7\n",
      "8\n",
      "9\n",
      "10\n"
     ]
    }
   ],
   "source": [
    "# list\n",
    "test = [1, 2, 3, 4, 5, 6, 7, 8, 9, 10]\n",
    "# int num_variable = 0;\n",
    "# i, j, k\n",
    "# for (int i = 0; i < len(test); i++) {\n",
    "#    num_variable = test[i]\n",
    "# }\n",
    "\n",
    "for num in test:\n",
    "    print(num)"
   ]
  },
  {
   "cell_type": "code",
   "execution_count": 19,
   "metadata": {
    "scrolled": true
   },
   "outputs": [
    {
     "name": "stdout",
     "output_type": "stream",
     "text": [
      "1\n",
      "2\n",
      "3\n",
      "4\n",
      "5\n"
     ]
    }
   ],
   "source": [
    "# tuple \n",
    "tup = (1, 2, 3, 4, 5)\n",
    "\n",
    "for tup_elem in tup:\n",
    "    print(tup_elem)"
   ]
  },
  {
   "cell_type": "code",
   "execution_count": 26,
   "metadata": {},
   "outputs": [
    {
     "name": "stdout",
     "output_type": "stream",
     "text": [
      "name\n",
      "su\n",
      "age\n",
      "25\n"
     ]
    }
   ],
   "source": [
    "a = {\n",
    "    \"name\": \"su\",\n",
    "    \"age\": 25\n",
    "}\n",
    "\n",
    "a.items()\n",
    "\n",
    "# tuples in List - Unpacking\n",
    "tup_in_list = [(2, 4), (6, 8), (10, 12)]\n",
    "\n",
    "a = {\n",
    "    \"name\": \"su\",\n",
    "    \"age\": 25\n",
    "}\n",
    "\n",
    "for key, value in a.items():\n",
    "    print(key)\n",
    "    print(value)"
   ]
  },
  {
   "cell_type": "code",
   "execution_count": 30,
   "metadata": {},
   "outputs": [
    {
     "name": "stdout",
     "output_type": "stream",
     "text": [
      "k1\n",
      "1\n",
      "k2\n",
      "2\n",
      "k3\n",
      "3\n"
     ]
    }
   ],
   "source": [
    "d = {'k1': 1, 'k2': 2, 'k3': 3}\n",
    "\n",
    "for key in d:\n",
    "    print(key)\n",
    "    print(d[key])"
   ]
  },
  {
   "cell_type": "code",
   "execution_count": 42,
   "metadata": {},
   "outputs": [
    {
     "name": "stdout",
     "output_type": "stream",
     "text": [
      "[1, 3, 5, 7, 9]\n",
      "[0, 20, 40, 60, 80, 100]\n"
     ]
    }
   ],
   "source": [
    "a = [1, 2, 3, 4, 5]\n",
    "a[:10]\n",
    "a[1:]\n",
    "a[::2]\n",
    "\n",
    "print(list(range(1, 10, 2)))\n",
    "print(list(range(0, 101, 20)))"
   ]
  },
  {
   "cell_type": "code",
   "execution_count": 50,
   "metadata": {},
   "outputs": [
    {
     "data": {
      "text/plain": [
       "'helloworld'"
      ]
     },
     "execution_count": 50,
     "metadata": {},
     "output_type": "execute_result"
    }
   ],
   "source": [
    "a = \"hello\"\n",
    "#print(a)\n",
    "#a[0] = 'w'\n",
    "a = a + \"world\"\n",
    "a"
   ]
  },
  {
   "cell_type": "code",
   "execution_count": 51,
   "metadata": {},
   "outputs": [
    {
     "data": {
      "text/plain": [
       "[5, 4, 3, 2, 1]"
      ]
     },
     "execution_count": 51,
     "metadata": {},
     "output_type": "execute_result"
    }
   ],
   "source": [
    "a = [1, 2, 3, 4, 5]\n",
    "a[::-1]"
   ]
  },
  {
   "cell_type": "code",
   "execution_count": 55,
   "metadata": {},
   "outputs": [
    {
     "name": "stdout",
     "output_type": "stream",
     "text": [
      "{1, 2, 3, 4}\n",
      "True\n"
     ]
    }
   ],
   "source": [
    "# 리스트는 리스트를 포함할 수 있다? T\n",
    "# 리스트는 딕셔러니를 포함할 수 있다? T\n",
    "# 딕셔러니는 리스트를 포함할 수 있다? T\n",
    "# 딕셔러니는 딕셔러니를 포함할 수 있다? T\n",
    "# 리스트는 튜플을 포함할 수 있다? T\n",
    "# 딕셔러니는 튜플을 포함할 수 있다? T\n",
    "# 튜플에는 리스트를 포함할 수 있다? T\n",
    "# 튜플에는 딕셔러니를 포함할 수 있다? T\n",
    "# 리스트에는 반복문을 포함할 수 있다?  T\n",
    "# set\n",
    "a = {1, 2, 3, 4, 1, 1, 1, 1, 2, 2, 2}\n",
    "print(a)\n",
    "print(2 in a)"
   ]
  },
  {
   "cell_type": "code",
   "execution_count": 59,
   "metadata": {},
   "outputs": [
    {
     "data": {
      "text/plain": [
       "{1, 2, 3, 4, 5, 6, 7}"
      ]
     },
     "execution_count": 59,
     "metadata": {},
     "output_type": "execute_result"
    }
   ],
   "source": [
    "a = { 1, 2, 3, 4, 5 }\n",
    "b = { 3, 4, 5, 6, 7 }\n",
    "# 합집합 | or union\n",
    "result = a | b\n",
    "result = a.union(b)\n",
    "result"
   ]
  },
  {
   "cell_type": "code",
   "execution_count": 60,
   "metadata": {},
   "outputs": [
    {
     "name": "stdout",
     "output_type": "stream",
     "text": [
      "{3, 4, 5}\n",
      "{3, 4, 5}\n"
     ]
    }
   ],
   "source": [
    "# 교집합 & | or intersection\n",
    "print(a & b)\n",
    "print(a.intersection(b))"
   ]
  },
  {
   "cell_type": "code",
   "execution_count": 61,
   "metadata": {},
   "outputs": [
    {
     "name": "stdout",
     "output_type": "stream",
     "text": [
      "{1, 2}\n",
      "{1, 2}\n"
     ]
    }
   ],
   "source": [
    "# 차집합 - or difference\n",
    "print(a - b)\n",
    "print(a.difference(b))"
   ]
  },
  {
   "cell_type": "code",
   "execution_count": 64,
   "metadata": {},
   "outputs": [
    {
     "name": "stdout",
     "output_type": "stream",
     "text": [
      "{1, 2, 6, 7}\n",
      "{1, 2, 6, 7}\n"
     ]
    }
   ],
   "source": [
    "# 대칭차집합 (합집합 - 교집합) ^ or symmetric_difference\n",
    "print(a ^ b)\n",
    "print(a.symmetric_difference(b))"
   ]
  },
  {
   "cell_type": "code",
   "execution_count": 73,
   "metadata": {},
   "outputs": [
    {
     "name": "stdout",
     "output_type": "stream",
     "text": [
      "{1, 2, 6, 7}\n"
     ]
    }
   ],
   "source": [
    "result1 = a - b\n",
    "result2 = list(b - a)\n",
    "result3 = result1.union(result2)\n",
    "print(result3)"
   ]
  },
  {
   "cell_type": "code",
   "execution_count": null,
   "metadata": {},
   "outputs": [],
   "source": []
  }
 ],
 "metadata": {
  "kernelspec": {
   "display_name": "Python 3",
   "language": "python",
   "name": "python3"
  },
  "language_info": {
   "codemirror_mode": {
    "name": "ipython",
    "version": 3
   },
   "file_extension": ".py",
   "mimetype": "text/x-python",
   "name": "python",
   "nbconvert_exporter": "python",
   "pygments_lexer": "ipython3",
   "version": "3.8.5"
  }
 },
 "nbformat": 4,
 "nbformat_minor": 4
}
