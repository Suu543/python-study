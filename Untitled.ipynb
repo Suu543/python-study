{
 "cells": [
  {
   "cell_type": "code",
   "execution_count": 2,
   "metadata": {},
   "outputs": [
    {
     "name": "stdout",
     "output_type": "stream",
     "text": [
      "+, -, *, /, %, stop\n",
      "연산자를 입력해주세요: stop\n",
      "멈출께유\n"
     ]
    }
   ],
   "source": [
    "while True:\n",
    "    # command: 명령어\n",
    "    print(\"+, -, *, /, %, stop\")\n",
    "    command = input(\"연산자를 입력해주세요: \")\n",
    "        \n",
    "    if (command == \"stop\"):\n",
    "        print(\"멈출께유\")\n",
    "        break\n",
    "    \n",
    "    first_num = int(input(\"첫번째 숫자를 입력해주세요: \"))\n",
    "    second_num = int(input(\"두번째 숫자를 입력해주세요: \"))\n",
    "\n",
    "    if (command == \"+\"):\n",
    "        print(f\"{first_num} + {second_num} = {first_num + second_num}\")\n",
    "    elif (command == \"-\"):\n",
    "        print(f\"{first_num} - {second_num} = {first_num - second_num}\")\n",
    "    elif (command == \"*\"):\n",
    "        print(f\"{first_num} * {second_num} = {first_num * second_num}\")\n",
    "    elif (command == \"/\"):\n",
    "        print(f\"{first_num} / {second_num} = {first_num / second_num}\")\n",
    "    elif (command == \"%\"):\n",
    "        print(f\"{first_num} % {second_num} = {first_num % second_num}\")\n",
    "    else:\n",
    "        print(\"븅신아 똑바로 입력해: +, -, *, /, % 중에 아니면 종휘된다\")"
   ]
  },
  {
   "cell_type": "code",
   "execution_count": null,
   "metadata": {},
   "outputs": [],
   "source": []
  },
  {
   "cell_type": "code",
   "execution_count": null,
   "metadata": {},
   "outputs": [],
   "source": [
    "from random import randint\n",
    "\n",
    "guess_number = randint(0, 101)\n",
    "guess_count = 5\n",
    "\n",
    "while guess_count != 0:\n",
    "    guess_from_user = input(\"숫자를 추측해보세요: \")\n",
    "    "
   ]
  }
 ],
 "metadata": {
  "kernelspec": {
   "display_name": "Python 3",
   "language": "python",
   "name": "python3"
  },
  "language_info": {
   "codemirror_mode": {
    "name": "ipython",
    "version": 3
   },
   "file_extension": ".py",
   "mimetype": "text/x-python",
   "name": "python",
   "nbconvert_exporter": "python",
   "pygments_lexer": "ipython3",
   "version": "3.8.5"
  }
 },
 "nbformat": 4,
 "nbformat_minor": 4
}
