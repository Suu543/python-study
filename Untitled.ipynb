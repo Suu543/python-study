{
 "cells": [
  {
   "cell_type": "code",
   "execution_count": 64,
   "metadata": {},
   "outputs": [],
   "source": [
    "class String: \n",
    "    \n",
    "    def __init__(self, string):\n",
    "        self.string = string\n",
    "    \n",
    "    def count(self):\n",
    "        length = 0\n",
    "        \n",
    "        for i in self.string:\n",
    "            length = length + 1\n",
    "        \n",
    "        return length\n",
    "    \n",
    "    def find(self, targetStr):\n",
    "        i = 0\n",
    "        \n",
    "        for j in self.string:\n",
    "            if targetStr == j:\n",
    "                return i\n",
    "            i = i + 1\n",
    "            \n",
    "        return -1\n",
    "\n",
    "    def join(self, string, ins):\n",
    "\n",
    "        new_str = \"\"\n",
    "\n",
    "        for i in string:\n",
    "            new_str = new_str + i + ins\n",
    "\n",
    "        return new_str"
   ]
  },
  {
   "cell_type": "code",
   "execution_count": 65,
   "metadata": {},
   "outputs": [
    {
     "data": {
      "text/plain": [
       "'h,e,l,l,o,'"
      ]
     },
     "execution_count": 65,
     "metadata": {},
     "output_type": "execute_result"
    }
   ],
   "source": [
    "test = String(\"Hello\")\n",
    "test.join(\"hello\", \",\")"
   ]
  },
  {
   "cell_type": "code",
   "execution_count": 39,
   "metadata": {},
   "outputs": [
    {
     "name": "stdout",
     "output_type": "stream",
     "text": [
      "10\n"
     ]
    }
   ],
   "source": [
    "def hello(a, b, c, d):\n",
    "    return a + b + c +d\n",
    "\n",
    "a = hello(1, 2, 3, 4)\n",
    "print(a)"
   ]
  },
  {
   "cell_type": "code",
   "execution_count": 40,
   "metadata": {},
   "outputs": [
    {
     "data": {
      "text/plain": [
       "'a, b, c, d'"
      ]
     },
     "execution_count": 40,
     "metadata": {},
     "output_type": "execute_result"
    }
   ],
   "source": [
    "\", \".join(\"abcd\")"
   ]
  },
  {
   "cell_type": "code",
   "execution_count": 60,
   "metadata": {},
   "outputs": [
    {
     "data": {
      "text/plain": [
       "'h,e,l,l,o,'"
      ]
     },
     "execution_count": 60,
     "metadata": {},
     "output_type": "execute_result"
    }
   ],
   "source": [
    "def join_func(string, ins):\n",
    "    \n",
    "    new_str = \"\"\n",
    "        \n",
    "    for i in string:\n",
    "        new_str = new_str + i + ins\n",
    "        \n",
    "    return new_str\n",
    "\n",
    "join_func(\"hello\", ',')"
   ]
  },
  {
   "cell_type": "code",
   "execution_count": 52,
   "metadata": {},
   "outputs": [
    {
     "name": "stdout",
     "output_type": "stream",
     "text": [
      "h\n",
      "e\n",
      "l\n",
      "l\n",
      "o\n"
     ]
    }
   ],
   "source": [
    "for i in \"hello\":\n",
    "    print(i)"
   ]
  },
  {
   "cell_type": "code",
   "execution_count": null,
   "metadata": {},
   "outputs": [],
   "source": []
  }
 ],
 "metadata": {
  "kernelspec": {
   "display_name": "Python 3",
   "language": "python",
   "name": "python3"
  },
  "language_info": {
   "codemirror_mode": {
    "name": "ipython",
    "version": 3
   },
   "file_extension": ".py",
   "mimetype": "text/x-python",
   "name": "python",
   "nbconvert_exporter": "python",
   "pygments_lexer": "ipython3",
   "version": "3.8.5"
  }
 },
 "nbformat": 4,
 "nbformat_minor": 4
}
